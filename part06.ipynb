{
 "cells": [
  {
   "cell_type": "markdown",
   "metadata": {},
   "source": [
    "# Part 6\n",
    "# Author: Georgios Pligoropoulos < george@pligor.com >"
   ]
  },
  {
   "cell_type": "code",
   "execution_count": 1,
   "metadata": {
    "collapsed": true
   },
   "outputs": [],
   "source": [
    "# -*- coding: UTF-8 -*-\n",
    "#%load_ext autoreload\n",
    "%reload_ext autoreload\n",
    "%autoreload 2"
   ]
  },
  {
   "cell_type": "code",
   "execution_count": 2,
   "metadata": {
    "collapsed": false
   },
   "outputs": [
    {
     "name": "stderr",
     "output_type": "stream",
     "text": [
      "/home/student/anaconda2/envs/iaml/lib/python2.7/site-packages/sklearn/cross_validation.py:44: DeprecationWarning: This module was deprecated in version 0.18 in favor of the model_selection module into which all the refactored classes and functions are moved. Also note that the interface of the new CV iterators are different from that of this module. This module will be removed in 0.20.\n",
      "  \"This module will be removed in 0.20.\", DeprecationWarning)\n"
     ]
    }
   ],
   "source": [
    "from __future__ import division\n",
    "from os import path, remove\n",
    "import numpy as np\n",
    "import pandas as pd\n",
    "from csv import QUOTE_ALL\n",
    "from sklearn.model_selection import StratifiedShuffleSplit\n",
    "from time import time\n",
    "from matplotlib import pyplot as plt\n",
    "import seaborn as sns\n",
    "import shutil\n",
    "from sklearn.metrics import r2_score\n",
    "from collections import OrderedDict\n",
    "from scipy.spatial.distance import euclidean\n",
    "from statsmodels.tsa.stattools import coint\n",
    "from skopt.space.space import Integer, Real\n",
    "from skopt import gp_minimize\n",
    "from skopt.plots import plot_convergence\n",
    "import pickle\n",
    "import inspect\n",
    "import dill\n",
    "import sys\n",
    "from sklearn.neighbors import NearestNeighbors\n",
    "from datetime import datetime\n",
    "import operator\n",
    "from os.path import isfile, isdir, join\n",
    "from os import getcwd\n",
    "from sklearn.cross_validation import train_test_split\n",
    "from sklearn.linear_model import LinearRegression, Ridge\n",
    "from sklearn.model_selection import cross_val_score\n",
    "from fancyimpute import KNN, NuclearNormMinimization, SoftImpute, IterativeSVD, MICE, \\\n",
    "    MatrixFactorization, BiScaler\n",
    "from math import floor\n",
    "from scipy import stats"
   ]
  },
  {
   "cell_type": "code",
   "execution_count": 3,
   "metadata": {
    "collapsed": true
   },
   "outputs": [],
   "source": [
    "seed = 16011984\n",
    "random_state = np.random.RandomState(seed=seed)\n",
    "n_jobs = 1\n",
    "%matplotlib inline"
   ]
  },
  {
   "cell_type": "code",
   "execution_count": 4,
   "metadata": {
    "collapsed": true
   },
   "outputs": [],
   "source": [
    "from advanced_one_hot_encoder import AdvancedOneHotEncoder"
   ]
  },
  {
   "cell_type": "markdown",
   "metadata": {},
   "source": [
    "**Short sale** explained: http://www.investopedia.com/terms/r/real-estate-short-sale.asp"
   ]
  },
  {
   "cell_type": "markdown",
   "metadata": {},
   "source": [
    "## Load Data"
   ]
  },
  {
   "cell_type": "code",
   "execution_count": 5,
   "metadata": {
    "collapsed": false
   },
   "outputs": [
    {
     "data": {
      "text/plain": [
       "(1111, 20)"
      ]
     },
     "execution_count": 5,
     "metadata": {},
     "output_type": "execute_result"
    }
   ],
   "source": [
    "twin_cities_path = join(getcwd(), 'twin_cities.csv')\n",
    "df = pd.read_csv(twin_cities_path, delimiter = ',', encoding='utf-8', quoting=QUOTE_ALL, index_col=0)\n",
    "df.shape"
   ]
  },
  {
   "cell_type": "markdown",
   "metadata": {},
   "source": [
    "## Drop redundant columns\n",
    "State column does not hold any information since it is the same for all instances\n",
    "Also we are dropping last sale date as we are advised to not use it but also because it contains lots of nulls"
   ]
  },
  {
   "cell_type": "code",
   "execution_count": 6,
   "metadata": {
    "collapsed": false
   },
   "outputs": [
    {
     "data": {
      "text/plain": [
       "(1111, 18)"
      ]
     },
     "execution_count": 6,
     "metadata": {},
     "output_type": "execute_result"
    }
   ],
   "source": [
    "if 'STATE' in df.columns:\n",
    "    df = df.drop(labels=['STATE'], axis=1)\n",
    "if 'LastSaleDate' in df.columns:\n",
    "    df = df.drop(labels=['LastSaleDate'], axis=1)\n",
    "df.shape"
   ]
  },
  {
   "cell_type": "markdown",
   "metadata": {},
   "source": [
    "### Keep columns for Price Regression"
   ]
  },
  {
   "cell_type": "code",
   "execution_count": 7,
   "metadata": {
    "collapsed": false
   },
   "outputs": [
    {
     "data": {
      "text/plain": [
       "(1111, 12)"
      ]
     },
     "execution_count": 7,
     "metadata": {},
     "output_type": "execute_result"
    }
   ],
   "source": [
    "#Regression Columns\n",
    "#CITY, ZIP, BEDS, BATHS, SQFT, LotSize, YearBuilt, ParkingSpots, HasGarage, LATITUDE, LONGITUDE, ShortSale\n",
    "XX = df[\n",
    "    ['CITY', 'ZIP', 'BEDS', 'BATHS', 'SQFT', 'LotSize', 'YearBuilt', 'ParkingSpots', 'HasGarage', 'LATITUDE',\n",
    "     'LONGITUDE', 'ShortSale']\n",
    "]\n",
    "XX.shape"
   ]
  },
  {
   "cell_type": "code",
   "execution_count": 8,
   "metadata": {
    "collapsed": false
   },
   "outputs": [
    {
     "data": {
      "text/plain": [
       "(1111,)"
      ]
     },
     "execution_count": 8,
     "metadata": {},
     "output_type": "execute_result"
    }
   ],
   "source": [
    "#target: ListPrice\n",
    "yy = df['ListPrice']\n",
    "yy.shape"
   ]
  },
  {
   "cell_type": "markdown",
   "metadata": {},
   "source": [
    "### Numerify data"
   ]
  },
  {
   "cell_type": "code",
   "execution_count": 9,
   "metadata": {
    "collapsed": false
   },
   "outputs": [
    {
     "name": "stderr",
     "output_type": "stream",
     "text": [
      "/home/student/anaconda2/envs/iaml/lib/python2.7/site-packages/ipykernel/__main__.py:3: SettingWithCopyWarning: \n",
      "A value is trying to be set on a copy of a slice from a DataFrame.\n",
      "Try using .loc[row_indexer,col_indexer] = value instead\n",
      "\n",
      "See the caveats in the documentation: http://pandas.pydata.org/pandas-docs/stable/indexing.html#indexing-view-versus-copy\n",
      "  app.launch_new_instance()\n"
     ]
    },
    {
     "data": {
      "text/plain": [
       "dtype('float64')"
      ]
     },
     "execution_count": 9,
     "metadata": {},
     "output_type": "execute_result"
    }
   ],
   "source": [
    "if XX['BATHS'].dtype == 'object':\n",
    "    XX['BATHS'] = [float(coord.replace(',', '.')) if isinstance(coord, basestring) else float(coord)\n",
    "            for coord in XX['BATHS']]\n",
    "XX['BATHS'].dtype"
   ]
  },
  {
   "cell_type": "markdown",
   "metadata": {},
   "source": [
    "#### CITY"
   ]
  },
  {
   "cell_type": "code",
   "execution_count": 10,
   "metadata": {
    "collapsed": false
   },
   "outputs": [
    {
     "name": "stdout",
     "output_type": "stream",
     "text": [
      "6\n"
     ]
    },
    {
     "data": {
      "text/plain": [
       "array([u'St. Paul', u'Shoreview', u'Minneapolis', u'Woodbury',\n",
       "       u'West St. Paul', u'Maplewood'], dtype=object)"
      ]
     },
     "execution_count": 10,
     "metadata": {},
     "output_type": "execute_result"
    }
   ],
   "source": [
    "print len(XX['CITY'].unique())\n",
    "XX['CITY'].unique()"
   ]
  },
  {
   "cell_type": "code",
   "execution_count": 11,
   "metadata": {
    "collapsed": false
   },
   "outputs": [
    {
     "data": {
      "text/plain": [
       "(1111, 16)"
      ]
     },
     "execution_count": 11,
     "metadata": {},
     "output_type": "execute_result"
    }
   ],
   "source": [
    "if 'CITY' in XX.columns:\n",
    "    XX = AdvancedOneHotEncoder().encodePandasColAndMerge(data_frame=XX, col_name='CITY')\n",
    "XX.shape"
   ]
  },
  {
   "cell_type": "markdown",
   "metadata": {},
   "source": [
    "#### ZIP"
   ]
  },
  {
   "cell_type": "code",
   "execution_count": 12,
   "metadata": {
    "collapsed": false
   },
   "outputs": [
    {
     "name": "stdout",
     "output_type": "stream",
     "text": [
      "86\n",
      "33\n"
     ]
    }
   ],
   "source": [
    "#comparing locations and zips lengths\n",
    "print len(df['LOCATION'].unique())\n",
    "print len(df['ZIP'].unique())"
   ]
  },
  {
   "cell_type": "code",
   "execution_count": 13,
   "metadata": {
    "collapsed": false
   },
   "outputs": [
    {
     "data": {
      "text/plain": [
       "(1111, 47)"
      ]
     },
     "execution_count": 13,
     "metadata": {},
     "output_type": "execute_result"
    }
   ],
   "source": [
    "if 'ZIP' in XX.columns:\n",
    "    XX = AdvancedOneHotEncoder().encodePandasColAndMerge(data_frame=XX, col_name='ZIP')\n",
    "XX.shape"
   ]
  },
  {
   "cell_type": "markdown",
   "metadata": {},
   "source": [
    "#### Year Built to Age"
   ]
  },
  {
   "cell_type": "code",
   "execution_count": 14,
   "metadata": {
    "collapsed": false
   },
   "outputs": [
    {
     "data": {
      "text/plain": [
       "(1111, 47)"
      ]
     },
     "execution_count": 14,
     "metadata": {},
     "output_type": "execute_result"
    }
   ],
   "source": [
    "if 'YearBuilt' in XX.columns:\n",
    "    XX['age'] = 2014 - XX['YearBuilt']\n",
    "    XX.drop(labels='YearBuilt', axis=1, inplace=True)\n",
    "assert 'age' in XX.columns\n",
    "XX.shape"
   ]
  },
  {
   "cell_type": "markdown",
   "metadata": {},
   "source": [
    "#### Has Garage to binary"
   ]
  },
  {
   "cell_type": "code",
   "execution_count": 15,
   "metadata": {
    "collapsed": false
   },
   "outputs": [
    {
     "data": {
      "text/plain": [
       "array([u'Garage', u'No Garage'], dtype=object)"
      ]
     },
     "execution_count": 15,
     "metadata": {},
     "output_type": "execute_result"
    }
   ],
   "source": [
    "XX['HasGarage'].unique()"
   ]
  },
  {
   "cell_type": "code",
   "execution_count": 16,
   "metadata": {
    "collapsed": false
   },
   "outputs": [
    {
     "data": {
      "text/plain": [
       "array([True, False], dtype=object)"
      ]
     },
     "execution_count": 16,
     "metadata": {},
     "output_type": "execute_result"
    }
   ],
   "source": [
    "if 'Garage' in XX['HasGarage'].unique():\n",
    "    XX['HasGarage'] = XX['HasGarage'] == 'Garage'\n",
    "XX['HasGarage'].unique()"
   ]
  },
  {
   "cell_type": "markdown",
   "metadata": {},
   "source": [
    "#### Short Sale to binary"
   ]
  },
  {
   "cell_type": "code",
   "execution_count": 17,
   "metadata": {
    "collapsed": false
   },
   "outputs": [
    {
     "data": {
      "text/plain": [
       "array([u'N', u'Y'], dtype=object)"
      ]
     },
     "execution_count": 17,
     "metadata": {},
     "output_type": "execute_result"
    }
   ],
   "source": [
    "XX['ShortSale'].unique()"
   ]
  },
  {
   "cell_type": "code",
   "execution_count": 18,
   "metadata": {
    "collapsed": false
   },
   "outputs": [
    {
     "data": {
      "text/plain": [
       "array([False, True], dtype=object)"
      ]
     },
     "execution_count": 18,
     "metadata": {},
     "output_type": "execute_result"
    }
   ],
   "source": [
    "if 'Y' in XX['ShortSale'].unique():\n",
    "    XX['ShortSale'] = XX['ShortSale'] == 'Y'\n",
    "XX['ShortSale'].unique()"
   ]
  },
  {
   "cell_type": "markdown",
   "metadata": {},
   "source": [
    "#### Latitude"
   ]
  },
  {
   "cell_type": "code",
   "execution_count": 19,
   "metadata": {
    "collapsed": false
   },
   "outputs": [
    {
     "data": {
      "text/plain": [
       "dtype('float64')"
      ]
     },
     "execution_count": 19,
     "metadata": {},
     "output_type": "execute_result"
    }
   ],
   "source": [
    "if XX['LATITUDE'].dtype == 'object':\n",
    "    XX['LATITUDE'] = [float(coord.replace(',', '.')) if isinstance(coord, basestring) else float(coord)\n",
    "            for coord in XX['LATITUDE']]\n",
    "XX['LATITUDE'].dtype"
   ]
  },
  {
   "cell_type": "markdown",
   "metadata": {},
   "source": [
    "#### Longitude"
   ]
  },
  {
   "cell_type": "code",
   "execution_count": 20,
   "metadata": {
    "collapsed": false
   },
   "outputs": [
    {
     "data": {
      "text/plain": [
       "dtype('float64')"
      ]
     },
     "execution_count": 20,
     "metadata": {},
     "output_type": "execute_result"
    }
   ],
   "source": [
    "if XX['LONGITUDE'].dtype == 'object':\n",
    "    XX['LONGITUDE'] = [float(coord.replace(',', '.')) if isinstance(coord, basestring) else float(coord)\n",
    "            for coord in XX['LONGITUDE']]\n",
    "XX['LONGITUDE'].dtype"
   ]
  },
  {
   "cell_type": "markdown",
   "metadata": {},
   "source": [
    "### Fill the Gaps\n",
    "Rule of thumb of KNN to pick a neighborhood of 1%"
   ]
  },
  {
   "cell_type": "code",
   "execution_count": 21,
   "metadata": {
    "collapsed": false
   },
   "outputs": [
    {
     "data": {
      "text/plain": [
       "11"
      ]
     },
     "execution_count": 21,
     "metadata": {},
     "output_type": "execute_result"
    }
   ],
   "source": [
    "k_factor = int(floor(len(XX) * 0.01))\n",
    "k_factor"
   ]
  },
  {
   "cell_type": "code",
   "execution_count": 22,
   "metadata": {
    "collapsed": false
   },
   "outputs": [
    {
     "name": "stdout",
     "output_type": "stream",
     "text": [
      "Imputing row 1/1111 with 0 missing, elapsed time: 0.374\n",
      "Imputing row 101/1111 with 1 missing, elapsed time: 0.376\n",
      "Imputing row 201/1111 with 1 missing, elapsed time: 0.376\n",
      "Imputing row 301/1111 with 0 missing, elapsed time: 0.377\n",
      "Imputing row 401/1111 with 0 missing, elapsed time: 0.378\n",
      "Imputing row 501/1111 with 0 missing, elapsed time: 0.378\n",
      "Imputing row 601/1111 with 0 missing, elapsed time: 0.379\n",
      "Imputing row 701/1111 with 0 missing, elapsed time: 0.379\n",
      "Imputing row 801/1111 with 0 missing, elapsed time: 0.380\n",
      "Imputing row 901/1111 with 0 missing, elapsed time: 0.380\n",
      "Imputing row 1001/1111 with 0 missing, elapsed time: 0.381\n",
      "Imputing row 1101/1111 with 0 missing, elapsed time: 0.381\n"
     ]
    }
   ],
   "source": [
    "if sum(XX.isnull().sum()) > 0:\n",
    "    XX[XX.columns] = KNN(k=k_factor).complete(XX.values)"
   ]
  },
  {
   "cell_type": "code",
   "execution_count": 23,
   "metadata": {
    "collapsed": false
   },
   "outputs": [
    {
     "data": {
      "text/plain": [
       "0"
      ]
     },
     "execution_count": 23,
     "metadata": {},
     "output_type": "execute_result"
    }
   ],
   "source": [
    "sum(XX.isnull().sum())"
   ]
  },
  {
   "cell_type": "markdown",
   "metadata": {},
   "source": [
    "# Question 6\n",
    "We’d like to understand how listings compare with the population in their area. Take the\n",
    "zip code data in the 2nd sheet and match against the house listing data. What zip codes\n",
    "have the highest amount of listings per the population size? Show the top 10.\n",
    "\n",
    "Separately, what zip code has the highest listing price per person? Google that zip code\n",
    "and provide some hypothesis and examples as to why this might be true."
   ]
  },
  {
   "cell_type": "markdown",
   "metadata": {},
   "source": [
    "### Answer"
   ]
  },
  {
   "cell_type": "markdown",
   "metadata": {},
   "source": [
    "#### join em"
   ]
  },
  {
   "cell_type": "code",
   "execution_count": 24,
   "metadata": {
    "collapsed": false
   },
   "outputs": [
    {
     "data": {
      "text/plain": [
       "(33092, 1)"
      ]
     },
     "execution_count": 24,
     "metadata": {},
     "output_type": "execute_result"
    }
   ],
   "source": [
    "zip_path = join(getcwd(), 'zips.csv')\n",
    "zipdf = pd.read_csv(zip_path, delimiter = ',', encoding='utf-8', quoting=QUOTE_ALL, index_col=0)\n",
    "zipdf.shape"
   ]
  },
  {
   "cell_type": "code",
   "execution_count": 25,
   "metadata": {
    "collapsed": false
   },
   "outputs": [
    {
     "data": {
      "text/plain": [
       "Index([u'Population_2010_Census'], dtype='object')"
      ]
     },
     "execution_count": 25,
     "metadata": {},
     "output_type": "execute_result"
    }
   ],
   "source": [
    "zipdf.columns"
   ]
  },
  {
   "cell_type": "code",
   "execution_count": 26,
   "metadata": {
    "collapsed": false
   },
   "outputs": [
    {
     "data": {
      "text/html": [
       "<div>\n",
       "<table border=\"1\" class=\"dataframe\">\n",
       "  <thead>\n",
       "    <tr style=\"text-align: right;\">\n",
       "      <th></th>\n",
       "      <th>Population_2010_Census</th>\n",
       "    </tr>\n",
       "  </thead>\n",
       "  <tbody>\n",
       "    <tr>\n",
       "      <th>count</th>\n",
       "      <td>33092.000000</td>\n",
       "    </tr>\n",
       "    <tr>\n",
       "      <th>mean</th>\n",
       "      <td>9329.745286</td>\n",
       "    </tr>\n",
       "    <tr>\n",
       "      <th>std</th>\n",
       "      <td>13656.525969</td>\n",
       "    </tr>\n",
       "    <tr>\n",
       "      <th>min</th>\n",
       "      <td>0.000000</td>\n",
       "    </tr>\n",
       "    <tr>\n",
       "      <th>25%</th>\n",
       "      <td>722.000000</td>\n",
       "    </tr>\n",
       "    <tr>\n",
       "      <th>50%</th>\n",
       "      <td>2750.500000</td>\n",
       "    </tr>\n",
       "    <tr>\n",
       "      <th>75%</th>\n",
       "      <td>12749.250000</td>\n",
       "    </tr>\n",
       "    <tr>\n",
       "      <th>max</th>\n",
       "      <td>113916.000000</td>\n",
       "    </tr>\n",
       "  </tbody>\n",
       "</table>\n",
       "</div>"
      ],
      "text/plain": [
       "       Population_2010_Census\n",
       "count            33092.000000\n",
       "mean              9329.745286\n",
       "std              13656.525969\n",
       "min                  0.000000\n",
       "25%                722.000000\n",
       "50%               2750.500000\n",
       "75%              12749.250000\n",
       "max             113916.000000"
      ]
     },
     "execution_count": 26,
     "metadata": {},
     "output_type": "execute_result"
    }
   ],
   "source": [
    "zipdf.describe()"
   ]
  },
  {
   "cell_type": "code",
   "execution_count": 27,
   "metadata": {
    "collapsed": false
   },
   "outputs": [
    {
     "data": {
      "text/html": [
       "<div>\n",
       "<table border=\"1\" class=\"dataframe\">\n",
       "  <thead>\n",
       "    <tr style=\"text-align: right;\">\n",
       "      <th></th>\n",
       "      <th>Population_2010_Census</th>\n",
       "    </tr>\n",
       "    <tr>\n",
       "      <th>ZipCode</th>\n",
       "      <th></th>\n",
       "    </tr>\n",
       "  </thead>\n",
       "  <tbody>\n",
       "    <tr>\n",
       "      <th>45247</th>\n",
       "      <td>22082</td>\n",
       "    </tr>\n",
       "    <tr>\n",
       "      <th>39560</th>\n",
       "      <td>16844</td>\n",
       "    </tr>\n",
       "    <tr>\n",
       "      <th>94503</th>\n",
       "      <td>19681</td>\n",
       "    </tr>\n",
       "    <tr>\n",
       "      <th>42064</th>\n",
       "      <td>8421</td>\n",
       "    </tr>\n",
       "    <tr>\n",
       "      <th>56137</th>\n",
       "      <td>1149</td>\n",
       "    </tr>\n",
       "  </tbody>\n",
       "</table>\n",
       "</div>"
      ],
      "text/plain": [
       "         Population_2010_Census\n",
       "ZipCode                        \n",
       "45247                     22082\n",
       "39560                     16844\n",
       "94503                     19681\n",
       "42064                      8421\n",
       "56137                      1149"
      ]
     },
     "execution_count": 27,
     "metadata": {},
     "output_type": "execute_result"
    }
   ],
   "source": [
    "zipdf.sample(n=5, random_state=random_state)"
   ]
  },
  {
   "cell_type": "code",
   "execution_count": 28,
   "metadata": {
    "collapsed": true
   },
   "outputs": [],
   "source": [
    "# aa = zipdf.loc[df['ZIP']]\n",
    "# bb = np.array([zipdf.loc[curzip] for curzip in df['ZIP']])\n",
    "# np.all(aa == bb)"
   ]
  },
  {
   "cell_type": "code",
   "execution_count": 29,
   "metadata": {
    "collapsed": false
   },
   "outputs": [
    {
     "data": {
      "text/plain": [
       "((1111, 1), Population_2010_Census    0\n",
       " dtype: int64)"
      ]
     },
     "execution_count": 29,
     "metadata": {},
     "output_type": "execute_result"
    }
   ],
   "source": [
    "population = zipdf.loc[df['ZIP']]\n",
    "population.shape, np.sum(population.isnull())"
   ]
  },
  {
   "cell_type": "code",
   "execution_count": 30,
   "metadata": {
    "collapsed": false
   },
   "outputs": [
    {
     "data": {
      "text/html": [
       "<div>\n",
       "<table border=\"1\" class=\"dataframe\">\n",
       "  <thead>\n",
       "    <tr style=\"text-align: right;\">\n",
       "      <th></th>\n",
       "      <th>ADDRESS</th>\n",
       "      <th>CITY</th>\n",
       "      <th>ZIP</th>\n",
       "      <th>ListPrice</th>\n",
       "      <th>BEDS</th>\n",
       "      <th>BATHS</th>\n",
       "      <th>LOCATION</th>\n",
       "      <th>SQFT</th>\n",
       "      <th>LotSize</th>\n",
       "      <th>YearBuilt</th>\n",
       "      <th>ParkingSpots</th>\n",
       "      <th>HasGarage</th>\n",
       "      <th>DOM</th>\n",
       "      <th>SoldPrev</th>\n",
       "      <th>Realty</th>\n",
       "      <th>LATITUDE</th>\n",
       "      <th>LONGITUDE</th>\n",
       "      <th>ShortSale</th>\n",
       "      <th>pop</th>\n",
       "    </tr>\n",
       "    <tr>\n",
       "      <th>ID</th>\n",
       "      <th></th>\n",
       "      <th></th>\n",
       "      <th></th>\n",
       "      <th></th>\n",
       "      <th></th>\n",
       "      <th></th>\n",
       "      <th></th>\n",
       "      <th></th>\n",
       "      <th></th>\n",
       "      <th></th>\n",
       "      <th></th>\n",
       "      <th></th>\n",
       "      <th></th>\n",
       "      <th></th>\n",
       "      <th></th>\n",
       "      <th></th>\n",
       "      <th></th>\n",
       "      <th></th>\n",
       "      <th></th>\n",
       "    </tr>\n",
       "  </thead>\n",
       "  <tbody>\n",
       "    <tr>\n",
       "      <th>4437344</th>\n",
       "      <td>862 3rd St E</td>\n",
       "      <td>St. Paul</td>\n",
       "      <td>55106</td>\n",
       "      <td>47000</td>\n",
       "      <td>3</td>\n",
       "      <td>1</td>\n",
       "      <td>Dayton's Bluff</td>\n",
       "      <td>1000</td>\n",
       "      <td>4791.0</td>\n",
       "      <td>1884</td>\n",
       "      <td>1</td>\n",
       "      <td>Garage</td>\n",
       "      <td>22</td>\n",
       "      <td>N</td>\n",
       "      <td>Re/Max Prodigy</td>\n",
       "      <td>44,95649</td>\n",
       "      <td>-93,064133</td>\n",
       "      <td>N</td>\n",
       "      <td>52730</td>\n",
       "    </tr>\n",
       "  </tbody>\n",
       "</table>\n",
       "</div>"
      ],
      "text/plain": [
       "              ADDRESS      CITY    ZIP  ListPrice  BEDS BATHS        LOCATION  \\\n",
       "ID                                                                              \n",
       "4437344  862 3rd St E  St. Paul  55106      47000     3     1  Dayton's Bluff   \n",
       "\n",
       "         SQFT  LotSize  YearBuilt  ParkingSpots HasGarage  DOM SoldPrev  \\\n",
       "ID                                                                        \n",
       "4437344  1000   4791.0       1884             1    Garage   22        N   \n",
       "\n",
       "                 Realty  LATITUDE   LONGITUDE ShortSale    pop  \n",
       "ID                                                              \n",
       "4437344  Re/Max Prodigy  44,95649  -93,064133         N  52730  "
      ]
     },
     "execution_count": 30,
     "metadata": {},
     "output_type": "execute_result"
    }
   ],
   "source": [
    "df['pop'] = population.values.flatten()\n",
    "df.sample(random_state=random_state)"
   ]
  },
  {
   "cell_type": "code",
   "execution_count": 31,
   "metadata": {
    "collapsed": false
   },
   "outputs": [
    {
     "data": {
      "text/html": [
       "<div>\n",
       "<table border=\"1\" class=\"dataframe\">\n",
       "  <thead>\n",
       "    <tr style=\"text-align: right;\">\n",
       "      <th></th>\n",
       "      <th>BEDS</th>\n",
       "      <th>BATHS</th>\n",
       "      <th>SQFT</th>\n",
       "      <th>LotSize</th>\n",
       "      <th>ParkingSpots</th>\n",
       "      <th>HasGarage</th>\n",
       "      <th>LATITUDE</th>\n",
       "      <th>LONGITUDE</th>\n",
       "      <th>ShortSale</th>\n",
       "      <th>CITY_0</th>\n",
       "      <th>...</th>\n",
       "      <th>ZIP_24</th>\n",
       "      <th>ZIP_25</th>\n",
       "      <th>ZIP_26</th>\n",
       "      <th>ZIP_27</th>\n",
       "      <th>ZIP_28</th>\n",
       "      <th>ZIP_29</th>\n",
       "      <th>ZIP_30</th>\n",
       "      <th>ZIP_31</th>\n",
       "      <th>age</th>\n",
       "      <th>pop</th>\n",
       "    </tr>\n",
       "    <tr>\n",
       "      <th>ID</th>\n",
       "      <th></th>\n",
       "      <th></th>\n",
       "      <th></th>\n",
       "      <th></th>\n",
       "      <th></th>\n",
       "      <th></th>\n",
       "      <th></th>\n",
       "      <th></th>\n",
       "      <th></th>\n",
       "      <th></th>\n",
       "      <th></th>\n",
       "      <th></th>\n",
       "      <th></th>\n",
       "      <th></th>\n",
       "      <th></th>\n",
       "      <th></th>\n",
       "      <th></th>\n",
       "      <th></th>\n",
       "      <th></th>\n",
       "      <th></th>\n",
       "      <th></th>\n",
       "    </tr>\n",
       "  </thead>\n",
       "  <tbody>\n",
       "    <tr>\n",
       "      <th>4435057</th>\n",
       "      <td>4.0</td>\n",
       "      <td>2.0</td>\n",
       "      <td>1705.0</td>\n",
       "      <td>5224.319625</td>\n",
       "      <td>3.0</td>\n",
       "      <td>1.0</td>\n",
       "      <td>44.892963</td>\n",
       "      <td>-93.265678</td>\n",
       "      <td>0.0</td>\n",
       "      <td>1.0</td>\n",
       "      <td>...</td>\n",
       "      <td>0.0</td>\n",
       "      <td>0.0</td>\n",
       "      <td>0.0</td>\n",
       "      <td>1.0</td>\n",
       "      <td>0.0</td>\n",
       "      <td>0.0</td>\n",
       "      <td>0.0</td>\n",
       "      <td>0.0</td>\n",
       "      <td>64.0</td>\n",
       "      <td>24875</td>\n",
       "    </tr>\n",
       "  </tbody>\n",
       "</table>\n",
       "<p>1 rows × 48 columns</p>\n",
       "</div>"
      ],
      "text/plain": [
       "         BEDS  BATHS    SQFT      LotSize  ParkingSpots  HasGarage   LATITUDE  \\\n",
       "ID                                                                              \n",
       "4435057   4.0    2.0  1705.0  5224.319625           3.0        1.0  44.892963   \n",
       "\n",
       "         LONGITUDE  ShortSale  CITY_0  ...    ZIP_24  ZIP_25  ZIP_26  ZIP_27  \\\n",
       "ID                                     ...                                     \n",
       "4435057 -93.265678        0.0     1.0  ...       0.0     0.0     0.0     1.0   \n",
       "\n",
       "         ZIP_28  ZIP_29  ZIP_30  ZIP_31   age    pop  \n",
       "ID                                                    \n",
       "4435057     0.0     0.0     0.0     0.0  64.0  24875  \n",
       "\n",
       "[1 rows x 48 columns]"
      ]
     },
     "execution_count": 31,
     "metadata": {},
     "output_type": "execute_result"
    }
   ],
   "source": [
    "XX['pop'] = population.values.flatten()\n",
    "XX.sample(random_state=random_state)"
   ]
  },
  {
   "cell_type": "markdown",
   "metadata": {},
   "source": [
    "#### highest amount of listing per population size for a single zip code\n",
    "In other words we want to count how many listings we have and how large is the population for a particular zip code"
   ]
  },
  {
   "cell_type": "code",
   "execution_count": 32,
   "metadata": {
    "collapsed": true
   },
   "outputs": [],
   "source": [
    "sample_zip = 55106"
   ]
  },
  {
   "cell_type": "code",
   "execution_count": 33,
   "metadata": {
    "collapsed": false
   },
   "outputs": [
    {
     "data": {
      "text/plain": [
       "133"
      ]
     },
     "execution_count": 33,
     "metadata": {},
     "output_type": "execute_result"
    }
   ],
   "source": [
    "num_listings = df[df['ZIP'] == sample_zip].count()[0]\n",
    "num_listings"
   ]
  },
  {
   "cell_type": "code",
   "execution_count": 34,
   "metadata": {
    "collapsed": false
   },
   "outputs": [
    {
     "data": {
      "text/plain": [
       "52730"
      ]
     },
     "execution_count": 34,
     "metadata": {},
     "output_type": "execute_result"
    }
   ],
   "source": [
    "total_pop = df[df['ZIP'] == sample_zip]['pop'][0]\n",
    "total_pop"
   ]
  },
  {
   "cell_type": "code",
   "execution_count": 35,
   "metadata": {
    "collapsed": false
   },
   "outputs": [
    {
     "data": {
      "text/html": [
       "<div>\n",
       "<table border=\"1\" class=\"dataframe\">\n",
       "  <thead>\n",
       "    <tr style=\"text-align: right;\">\n",
       "      <th></th>\n",
       "      <th>count_listings</th>\n",
       "    </tr>\n",
       "    <tr>\n",
       "      <th>ZIP</th>\n",
       "      <th></th>\n",
       "    </tr>\n",
       "  </thead>\n",
       "  <tbody>\n",
       "    <tr>\n",
       "      <th>55126</th>\n",
       "      <td>2</td>\n",
       "    </tr>\n",
       "    <tr>\n",
       "      <th>55419</th>\n",
       "      <td>59</td>\n",
       "    </tr>\n",
       "    <tr>\n",
       "      <th>55129</th>\n",
       "      <td>1</td>\n",
       "    </tr>\n",
       "    <tr>\n",
       "      <th>55411</th>\n",
       "      <td>45</td>\n",
       "    </tr>\n",
       "    <tr>\n",
       "      <th>55413</th>\n",
       "      <td>9</td>\n",
       "    </tr>\n",
       "  </tbody>\n",
       "</table>\n",
       "</div>"
      ],
      "text/plain": [
       "       count_listings\n",
       "ZIP                  \n",
       "55126               2\n",
       "55419              59\n",
       "55129               1\n",
       "55411              45\n",
       "55413               9"
      ]
     },
     "execution_count": 35,
     "metadata": {},
     "output_type": "execute_result"
    }
   ],
   "source": [
    "listings_per_zip = df.groupby(['ZIP']).count().iloc[:, :1].rename(columns={\"ADDRESS\": \"count_listings\"})\n",
    "listings_per_zip.sample(n=5, random_state=random_state)"
   ]
  },
  {
   "cell_type": "code",
   "execution_count": 36,
   "metadata": {
    "collapsed": false
   },
   "outputs": [
    {
     "data": {
      "text/html": [
       "<div>\n",
       "<table border=\"1\" class=\"dataframe\">\n",
       "  <thead>\n",
       "    <tr style=\"text-align: right;\">\n",
       "      <th></th>\n",
       "      <th>population</th>\n",
       "    </tr>\n",
       "    <tr>\n",
       "      <th>ZIP</th>\n",
       "      <th></th>\n",
       "    </tr>\n",
       "  </thead>\n",
       "  <tbody>\n",
       "    <tr>\n",
       "      <th>55421</th>\n",
       "      <td>27035</td>\n",
       "    </tr>\n",
       "    <tr>\n",
       "      <th>55106</th>\n",
       "      <td>52730</td>\n",
       "    </tr>\n",
       "    <tr>\n",
       "      <th>55101</th>\n",
       "      <td>5592</td>\n",
       "    </tr>\n",
       "    <tr>\n",
       "      <th>55404</th>\n",
       "      <td>27121</td>\n",
       "    </tr>\n",
       "    <tr>\n",
       "      <th>55104</th>\n",
       "      <td>43248</td>\n",
       "    </tr>\n",
       "  </tbody>\n",
       "</table>\n",
       "</div>"
      ],
      "text/plain": [
       "       population\n",
       "ZIP              \n",
       "55421       27035\n",
       "55106       52730\n",
       "55101        5592\n",
       "55404       27121\n",
       "55104       43248"
      ]
     },
     "execution_count": 36,
     "metadata": {},
     "output_type": "execute_result"
    }
   ],
   "source": [
    "pop_per_zip = df.groupby(['ZIP']).first()['pop'].to_frame(name='population')\n",
    "#.rename(columns={\"ADDRESS\": \"population\"})\n",
    "\n",
    "pop_per_zip.sample(n=5, random_state=random_state)"
   ]
  },
  {
   "cell_type": "code",
   "execution_count": 37,
   "metadata": {
    "collapsed": false
   },
   "outputs": [
    {
     "data": {
      "text/plain": [
       "ZIP\n",
       "55405    0.000519\n",
       "55419    0.002234\n",
       "55108    0.001021\n",
       "55129    0.000053\n",
       "55107    0.002098\n",
       "dtype: float64"
      ]
     },
     "execution_count": 37,
     "metadata": {},
     "output_type": "execute_result"
    }
   ],
   "source": [
    "listings_per_pop = listings_per_zip['count_listings'] / pop_per_zip['population']\n",
    "listings_per_pop.sample(n=5, random_state=random_state)"
   ]
  },
  {
   "cell_type": "code",
   "execution_count": 38,
   "metadata": {
    "collapsed": false
   },
   "outputs": [
    {
     "data": {
      "text/html": [
       "<div>\n",
       "<table border=\"1\" class=\"dataframe\">\n",
       "  <thead>\n",
       "    <tr style=\"text-align: right;\">\n",
       "      <th></th>\n",
       "      <th>ZIP</th>\n",
       "      <th>Percentage of Number of Listings per Population</th>\n",
       "    </tr>\n",
       "  </thead>\n",
       "  <tbody>\n",
       "    <tr>\n",
       "      <th>1</th>\n",
       "      <td>55412</td>\n",
       "      <td>0.483114</td>\n",
       "    </tr>\n",
       "    <tr>\n",
       "      <th>2</th>\n",
       "      <td>55410</td>\n",
       "      <td>0.289555</td>\n",
       "    </tr>\n",
       "    <tr>\n",
       "      <th>3</th>\n",
       "      <td>55106</td>\n",
       "      <td>0.252228</td>\n",
       "    </tr>\n",
       "    <tr>\n",
       "      <th>4</th>\n",
       "      <td>55417</td>\n",
       "      <td>0.237186</td>\n",
       "    </tr>\n",
       "    <tr>\n",
       "      <th>5</th>\n",
       "      <td>55406</td>\n",
       "      <td>0.224215</td>\n",
       "    </tr>\n",
       "    <tr>\n",
       "      <th>6</th>\n",
       "      <td>55419</td>\n",
       "      <td>0.223434</td>\n",
       "    </tr>\n",
       "    <tr>\n",
       "      <th>7</th>\n",
       "      <td>55107</td>\n",
       "      <td>0.209800</td>\n",
       "    </tr>\n",
       "    <tr>\n",
       "      <th>8</th>\n",
       "      <td>55105</td>\n",
       "      <td>0.186259</td>\n",
       "    </tr>\n",
       "    <tr>\n",
       "      <th>9</th>\n",
       "      <td>55116</td>\n",
       "      <td>0.184479</td>\n",
       "    </tr>\n",
       "    <tr>\n",
       "      <th>10</th>\n",
       "      <td>55104</td>\n",
       "      <td>0.182667</td>\n",
       "    </tr>\n",
       "  </tbody>\n",
       "</table>\n",
       "</div>"
      ],
      "text/plain": [
       "      ZIP  Percentage of Number of Listings per Population\n",
       "1   55412                                         0.483114\n",
       "2   55410                                         0.289555\n",
       "3   55106                                         0.252228\n",
       "4   55417                                         0.237186\n",
       "5   55406                                         0.224215\n",
       "6   55419                                         0.223434\n",
       "7   55107                                         0.209800\n",
       "8   55105                                         0.186259\n",
       "9   55116                                         0.184479\n",
       "10  55104                                         0.182667"
      ]
     },
     "execution_count": 38,
     "metadata": {},
     "output_type": "execute_result"
    }
   ],
   "source": [
    "temp_df = (listings_per_pop.sort_values(ascending=False).to_frame('listings_per_population_per_zip_%') * 100).reset_index(\n",
    ").rename(columns = {\n",
    "        'listings_per_population_per_zip_%': \"Percentage of Number of Listings per Population\"\n",
    "    }\n",
    ")[:10].set_index(np.arange(1,11))\n",
    "temp_df"
   ]
  },
  {
   "cell_type": "code",
   "execution_count": 39,
   "metadata": {
    "collapsed": true
   },
   "outputs": [],
   "source": [
    "temp_df.to_csv('exer1_quest6.csv', quoting=QUOTE_ALL, encoding='utf-8')"
   ]
  },
  {
   "cell_type": "markdown",
   "metadata": {},
   "source": [
    "### What zip code has the highest listing price per person?"
   ]
  },
  {
   "cell_type": "code",
   "execution_count": 40,
   "metadata": {
    "collapsed": false
   },
   "outputs": [
    {
     "name": "stdout",
     "output_type": "stream",
     "text": [
      "33\n"
     ]
    },
    {
     "data": {
      "text/html": [
       "<div>\n",
       "<table border=\"1\" class=\"dataframe\">\n",
       "  <thead>\n",
       "    <tr style=\"text-align: right;\">\n",
       "      <th></th>\n",
       "      <th>max_price</th>\n",
       "    </tr>\n",
       "    <tr>\n",
       "      <th>ZIP</th>\n",
       "      <th></th>\n",
       "    </tr>\n",
       "  </thead>\n",
       "  <tbody>\n",
       "    <tr>\n",
       "      <th>55101</th>\n",
       "      <td>99900</td>\n",
       "    </tr>\n",
       "    <tr>\n",
       "      <th>55102</th>\n",
       "      <td>2225000</td>\n",
       "    </tr>\n",
       "    <tr>\n",
       "      <th>55103</th>\n",
       "      <td>177500</td>\n",
       "    </tr>\n",
       "    <tr>\n",
       "      <th>55104</th>\n",
       "      <td>1195000</td>\n",
       "    </tr>\n",
       "    <tr>\n",
       "      <th>55105</th>\n",
       "      <td>2990000</td>\n",
       "    </tr>\n",
       "    <tr>\n",
       "      <th>55106</th>\n",
       "      <td>389000</td>\n",
       "    </tr>\n",
       "    <tr>\n",
       "      <th>55107</th>\n",
       "      <td>259900</td>\n",
       "    </tr>\n",
       "    <tr>\n",
       "      <th>55108</th>\n",
       "      <td>294900</td>\n",
       "    </tr>\n",
       "    <tr>\n",
       "      <th>55113</th>\n",
       "      <td>214000</td>\n",
       "    </tr>\n",
       "    <tr>\n",
       "      <th>55114</th>\n",
       "      <td>150000</td>\n",
       "    </tr>\n",
       "    <tr>\n",
       "      <th>55116</th>\n",
       "      <td>1325000</td>\n",
       "    </tr>\n",
       "    <tr>\n",
       "      <th>55117</th>\n",
       "      <td>439000</td>\n",
       "    </tr>\n",
       "    <tr>\n",
       "      <th>55118</th>\n",
       "      <td>179000</td>\n",
       "    </tr>\n",
       "    <tr>\n",
       "      <th>55119</th>\n",
       "      <td>263525</td>\n",
       "    </tr>\n",
       "    <tr>\n",
       "      <th>55126</th>\n",
       "      <td>483900</td>\n",
       "    </tr>\n",
       "    <tr>\n",
       "      <th>55129</th>\n",
       "      <td>319000</td>\n",
       "    </tr>\n",
       "    <tr>\n",
       "      <th>55130</th>\n",
       "      <td>189900</td>\n",
       "    </tr>\n",
       "    <tr>\n",
       "      <th>55404</th>\n",
       "      <td>239900</td>\n",
       "    </tr>\n",
       "    <tr>\n",
       "      <th>55405</th>\n",
       "      <td>3750000</td>\n",
       "    </tr>\n",
       "    <tr>\n",
       "      <th>55406</th>\n",
       "      <td>875000</td>\n",
       "    </tr>\n",
       "    <tr>\n",
       "      <th>55407</th>\n",
       "      <td>429900</td>\n",
       "    </tr>\n",
       "    <tr>\n",
       "      <th>55408</th>\n",
       "      <td>1995000</td>\n",
       "    </tr>\n",
       "    <tr>\n",
       "      <th>55409</th>\n",
       "      <td>1675000</td>\n",
       "    </tr>\n",
       "    <tr>\n",
       "      <th>55410</th>\n",
       "      <td>4650000</td>\n",
       "    </tr>\n",
       "    <tr>\n",
       "      <th>55411</th>\n",
       "      <td>165000</td>\n",
       "    </tr>\n",
       "    <tr>\n",
       "      <th>55412</th>\n",
       "      <td>194900</td>\n",
       "    </tr>\n",
       "    <tr>\n",
       "      <th>55413</th>\n",
       "      <td>299900</td>\n",
       "    </tr>\n",
       "    <tr>\n",
       "      <th>55416</th>\n",
       "      <td>3775000</td>\n",
       "    </tr>\n",
       "    <tr>\n",
       "      <th>55417</th>\n",
       "      <td>499999</td>\n",
       "    </tr>\n",
       "    <tr>\n",
       "      <th>55418</th>\n",
       "      <td>385000</td>\n",
       "    </tr>\n",
       "    <tr>\n",
       "      <th>55419</th>\n",
       "      <td>1695000</td>\n",
       "    </tr>\n",
       "    <tr>\n",
       "      <th>55421</th>\n",
       "      <td>174900</td>\n",
       "    </tr>\n",
       "    <tr>\n",
       "      <th>55430</th>\n",
       "      <td>225000</td>\n",
       "    </tr>\n",
       "  </tbody>\n",
       "</table>\n",
       "</div>"
      ],
      "text/plain": [
       "       max_price\n",
       "ZIP             \n",
       "55101      99900\n",
       "55102    2225000\n",
       "55103     177500\n",
       "55104    1195000\n",
       "55105    2990000\n",
       "55106     389000\n",
       "55107     259900\n",
       "55108     294900\n",
       "55113     214000\n",
       "55114     150000\n",
       "55116    1325000\n",
       "55117     439000\n",
       "55118     179000\n",
       "55119     263525\n",
       "55126     483900\n",
       "55129     319000\n",
       "55130     189900\n",
       "55404     239900\n",
       "55405    3750000\n",
       "55406     875000\n",
       "55407     429900\n",
       "55408    1995000\n",
       "55409    1675000\n",
       "55410    4650000\n",
       "55411     165000\n",
       "55412     194900\n",
       "55413     299900\n",
       "55416    3775000\n",
       "55417     499999\n",
       "55418     385000\n",
       "55419    1695000\n",
       "55421     174900\n",
       "55430     225000"
      ]
     },
     "execution_count": 40,
     "metadata": {},
     "output_type": "execute_result"
    }
   ],
   "source": [
    "max_price_per_zip = df.groupby(['ZIP']).max()['ListPrice'].to_frame(name='max_price')\n",
    "print len(max_price_per_zip)\n",
    "max_price_per_zip"
   ]
  },
  {
   "cell_type": "code",
   "execution_count": 41,
   "metadata": {
    "collapsed": false
   },
   "outputs": [
    {
     "data": {
      "text/plain": [
       "OrderedDict([(55113,\n",
       "              {'bedrooms': 3,\n",
       "               'max_price': 214000,\n",
       "               'max_price_per_bedroom': 71333.33333333333}),\n",
       "             (55104,\n",
       "              {'bedrooms': 6,\n",
       "               'max_price': 1195000,\n",
       "               'max_price_per_bedroom': 199166.66666666666}),\n",
       "             (55106,\n",
       "              {'bedrooms': 3,\n",
       "               'max_price': 389000,\n",
       "               'max_price_per_bedroom': 129666.66666666667}),\n",
       "             (55126,\n",
       "              {'bedrooms': 4,\n",
       "               'max_price': 483900,\n",
       "               'max_price_per_bedroom': 120975.0}),\n",
       "             (55418,\n",
       "              {'bedrooms': 5,\n",
       "               'max_price': 385000,\n",
       "               'max_price_per_bedroom': 77000.0}),\n",
       "             (55116,\n",
       "              {'bedrooms': 4,\n",
       "               'max_price': 1325000,\n",
       "               'max_price_per_bedroom': 331250.0}),\n",
       "             (55103,\n",
       "              {'bedrooms': 2,\n",
       "               'max_price': 177500,\n",
       "               'max_price_per_bedroom': 88750.0}),\n",
       "             (55117,\n",
       "              {'bedrooms': 4,\n",
       "               'max_price': 439000,\n",
       "               'max_price_per_bedroom': 109750.0}),\n",
       "             (55105,\n",
       "              {'bedrooms': 4,\n",
       "               'max_price': 2990000,\n",
       "               'max_price_per_bedroom': 747500.0}),\n",
       "             (55419,\n",
       "              {'bedrooms': 7,\n",
       "               'max_price': 1695000,\n",
       "               'max_price_per_bedroom': 242142.85714285713}),\n",
       "             (55129,\n",
       "              {'bedrooms': 2,\n",
       "               'max_price': 319000,\n",
       "               'max_price_per_bedroom': 159500.0}),\n",
       "             (55417,\n",
       "              {'bedrooms': 3,\n",
       "               'max_price': 499999,\n",
       "               'max_price_per_bedroom': 166666.33333333334}),\n",
       "             (55411,\n",
       "              {'bedrooms': 5,\n",
       "               'max_price': 165000,\n",
       "               'max_price_per_bedroom': 33000.0}),\n",
       "             (55130,\n",
       "              {'bedrooms': 4,\n",
       "               'max_price': 189900,\n",
       "               'max_price_per_bedroom': 47475.0}),\n",
       "             (55108,\n",
       "              {'bedrooms': 4,\n",
       "               'max_price': 294900,\n",
       "               'max_price_per_bedroom': 73725.0}),\n",
       "             (55102,\n",
       "              {'bedrooms': 6,\n",
       "               'max_price': 2225000,\n",
       "               'max_price_per_bedroom': 370833.3333333333}),\n",
       "             (55119,\n",
       "              {'bedrooms': 5,\n",
       "               'max_price': 263525,\n",
       "               'max_price_per_bedroom': 52705.0}),\n",
       "             (55413,\n",
       "              {'bedrooms': 4,\n",
       "               'max_price': 299900,\n",
       "               'max_price_per_bedroom': 74975.0}),\n",
       "             (55107,\n",
       "              {'bedrooms': 4,\n",
       "               'max_price': 259900,\n",
       "               'max_price_per_bedroom': 64975.0}),\n",
       "             (55408,\n",
       "              {'bedrooms': 4,\n",
       "               'max_price': 1995000,\n",
       "               'max_price_per_bedroom': 498750.0}),\n",
       "             (55407,\n",
       "              {'bedrooms': 3,\n",
       "               'max_price': 429900,\n",
       "               'max_price_per_bedroom': 143300.0}),\n",
       "             (55412,\n",
       "              {'bedrooms': 3,\n",
       "               'max_price': 194900,\n",
       "               'max_price_per_bedroom': 64966.666666666664}),\n",
       "             (55118,\n",
       "              {'bedrooms': 3,\n",
       "               'max_price': 179000,\n",
       "               'max_price_per_bedroom': 59666.666666666664}),\n",
       "             (55409,\n",
       "              {'bedrooms': 4,\n",
       "               'max_price': 1675000,\n",
       "               'max_price_per_bedroom': 418750.0}),\n",
       "             (55405,\n",
       "              {'bedrooms': 5,\n",
       "               'max_price': 3750000,\n",
       "               'max_price_per_bedroom': 750000.0}),\n",
       "             (55406,\n",
       "              {'bedrooms': 5,\n",
       "               'max_price': 875000,\n",
       "               'max_price_per_bedroom': 175000.0}),\n",
       "             (55114,\n",
       "              {'bedrooms': 4,\n",
       "               'max_price': 150000,\n",
       "               'max_price_per_bedroom': 37500.0}),\n",
       "             (55404,\n",
       "              {'bedrooms': 3,\n",
       "               'max_price': 239900,\n",
       "               'max_price_per_bedroom': 79966.66666666667}),\n",
       "             (55410,\n",
       "              {'bedrooms': 5,\n",
       "               'max_price': 4650000,\n",
       "               'max_price_per_bedroom': 930000.0}),\n",
       "             (55416,\n",
       "              {'bedrooms': 4,\n",
       "               'max_price': 3775000,\n",
       "               'max_price_per_bedroom': 943750.0}),\n",
       "             (55101,\n",
       "              {'bedrooms': 3,\n",
       "               'max_price': 99900,\n",
       "               'max_price_per_bedroom': 33300.0}),\n",
       "             (55430,\n",
       "              {'bedrooms': 3,\n",
       "               'max_price': 225000,\n",
       "               'max_price_per_bedroom': 75000.0}),\n",
       "             (55421,\n",
       "              {'bedrooms': 3,\n",
       "               'max_price': 174900,\n",
       "               'max_price_per_bedroom': 58300.0})])"
      ]
     },
     "execution_count": 41,
     "metadata": {},
     "output_type": "execute_result"
    }
   ],
   "source": [
    "dic = OrderedDict()\n",
    "for ind, row in df.iterrows():\n",
    "    bedrooms = row['BEDS'] #+ 1 if we could consider a couple living in one bedroom\n",
    "    curzip = row['ZIP']\n",
    "    if curzip in dic:\n",
    "        if row['ListPrice'] > dic[curzip]['max_price']:\n",
    "            dic[curzip] = {\"max_price\": row['ListPrice'], \"bedrooms\": bedrooms,\n",
    "                          \"max_price_per_bedroom\": row['ListPrice']/bedrooms}\n",
    "    else:\n",
    "        dic[curzip] = {\"max_price\": row['ListPrice'], \"bedrooms\": bedrooms,\n",
    "                       \"max_price_per_bedroom\": row['ListPrice']/bedrooms }\n",
    "\n",
    "#beds_per_zip_for_max_price = df[max_price_per_zip['max_price'] == df['ListPrice']]\n",
    "#len(beds_per_zip_for_max_price)\n",
    "dic"
   ]
  },
  {
   "cell_type": "code",
   "execution_count": 42,
   "metadata": {
    "collapsed": false
   },
   "outputs": [
    {
     "data": {
      "text/plain": [
       "(33, 3)"
      ]
     },
     "execution_count": 42,
     "metadata": {},
     "output_type": "execute_result"
    }
   ],
   "source": [
    "price_df = pd.DataFrame(index=dic.keys(), data=dic.values())\n",
    "price_df.shape"
   ]
  },
  {
   "cell_type": "code",
   "execution_count": 43,
   "metadata": {
    "collapsed": false
   },
   "outputs": [
    {
     "data": {
      "text/html": [
       "<div>\n",
       "<table border=\"1\" class=\"dataframe\">\n",
       "  <thead>\n",
       "    <tr style=\"text-align: right;\">\n",
       "      <th></th>\n",
       "      <th>bedrooms</th>\n",
       "      <th>max_price</th>\n",
       "      <th>max_price_per_bedroom</th>\n",
       "    </tr>\n",
       "  </thead>\n",
       "  <tbody>\n",
       "    <tr>\n",
       "      <th>55416</th>\n",
       "      <td>4</td>\n",
       "      <td>3775000</td>\n",
       "      <td>943750.000000</td>\n",
       "    </tr>\n",
       "    <tr>\n",
       "      <th>55410</th>\n",
       "      <td>5</td>\n",
       "      <td>4650000</td>\n",
       "      <td>930000.000000</td>\n",
       "    </tr>\n",
       "    <tr>\n",
       "      <th>55405</th>\n",
       "      <td>5</td>\n",
       "      <td>3750000</td>\n",
       "      <td>750000.000000</td>\n",
       "    </tr>\n",
       "    <tr>\n",
       "      <th>55105</th>\n",
       "      <td>4</td>\n",
       "      <td>2990000</td>\n",
       "      <td>747500.000000</td>\n",
       "    </tr>\n",
       "    <tr>\n",
       "      <th>55408</th>\n",
       "      <td>4</td>\n",
       "      <td>1995000</td>\n",
       "      <td>498750.000000</td>\n",
       "    </tr>\n",
       "    <tr>\n",
       "      <th>55409</th>\n",
       "      <td>4</td>\n",
       "      <td>1675000</td>\n",
       "      <td>418750.000000</td>\n",
       "    </tr>\n",
       "    <tr>\n",
       "      <th>55102</th>\n",
       "      <td>6</td>\n",
       "      <td>2225000</td>\n",
       "      <td>370833.333333</td>\n",
       "    </tr>\n",
       "    <tr>\n",
       "      <th>55116</th>\n",
       "      <td>4</td>\n",
       "      <td>1325000</td>\n",
       "      <td>331250.000000</td>\n",
       "    </tr>\n",
       "    <tr>\n",
       "      <th>55419</th>\n",
       "      <td>7</td>\n",
       "      <td>1695000</td>\n",
       "      <td>242142.857143</td>\n",
       "    </tr>\n",
       "    <tr>\n",
       "      <th>55104</th>\n",
       "      <td>6</td>\n",
       "      <td>1195000</td>\n",
       "      <td>199166.666667</td>\n",
       "    </tr>\n",
       "    <tr>\n",
       "      <th>55406</th>\n",
       "      <td>5</td>\n",
       "      <td>875000</td>\n",
       "      <td>175000.000000</td>\n",
       "    </tr>\n",
       "    <tr>\n",
       "      <th>55417</th>\n",
       "      <td>3</td>\n",
       "      <td>499999</td>\n",
       "      <td>166666.333333</td>\n",
       "    </tr>\n",
       "    <tr>\n",
       "      <th>55129</th>\n",
       "      <td>2</td>\n",
       "      <td>319000</td>\n",
       "      <td>159500.000000</td>\n",
       "    </tr>\n",
       "    <tr>\n",
       "      <th>55407</th>\n",
       "      <td>3</td>\n",
       "      <td>429900</td>\n",
       "      <td>143300.000000</td>\n",
       "    </tr>\n",
       "    <tr>\n",
       "      <th>55106</th>\n",
       "      <td>3</td>\n",
       "      <td>389000</td>\n",
       "      <td>129666.666667</td>\n",
       "    </tr>\n",
       "    <tr>\n",
       "      <th>55126</th>\n",
       "      <td>4</td>\n",
       "      <td>483900</td>\n",
       "      <td>120975.000000</td>\n",
       "    </tr>\n",
       "    <tr>\n",
       "      <th>55117</th>\n",
       "      <td>4</td>\n",
       "      <td>439000</td>\n",
       "      <td>109750.000000</td>\n",
       "    </tr>\n",
       "    <tr>\n",
       "      <th>55103</th>\n",
       "      <td>2</td>\n",
       "      <td>177500</td>\n",
       "      <td>88750.000000</td>\n",
       "    </tr>\n",
       "    <tr>\n",
       "      <th>55404</th>\n",
       "      <td>3</td>\n",
       "      <td>239900</td>\n",
       "      <td>79966.666667</td>\n",
       "    </tr>\n",
       "    <tr>\n",
       "      <th>55418</th>\n",
       "      <td>5</td>\n",
       "      <td>385000</td>\n",
       "      <td>77000.000000</td>\n",
       "    </tr>\n",
       "    <tr>\n",
       "      <th>55430</th>\n",
       "      <td>3</td>\n",
       "      <td>225000</td>\n",
       "      <td>75000.000000</td>\n",
       "    </tr>\n",
       "    <tr>\n",
       "      <th>55413</th>\n",
       "      <td>4</td>\n",
       "      <td>299900</td>\n",
       "      <td>74975.000000</td>\n",
       "    </tr>\n",
       "    <tr>\n",
       "      <th>55108</th>\n",
       "      <td>4</td>\n",
       "      <td>294900</td>\n",
       "      <td>73725.000000</td>\n",
       "    </tr>\n",
       "    <tr>\n",
       "      <th>55113</th>\n",
       "      <td>3</td>\n",
       "      <td>214000</td>\n",
       "      <td>71333.333333</td>\n",
       "    </tr>\n",
       "    <tr>\n",
       "      <th>55107</th>\n",
       "      <td>4</td>\n",
       "      <td>259900</td>\n",
       "      <td>64975.000000</td>\n",
       "    </tr>\n",
       "    <tr>\n",
       "      <th>55412</th>\n",
       "      <td>3</td>\n",
       "      <td>194900</td>\n",
       "      <td>64966.666667</td>\n",
       "    </tr>\n",
       "    <tr>\n",
       "      <th>55118</th>\n",
       "      <td>3</td>\n",
       "      <td>179000</td>\n",
       "      <td>59666.666667</td>\n",
       "    </tr>\n",
       "    <tr>\n",
       "      <th>55421</th>\n",
       "      <td>3</td>\n",
       "      <td>174900</td>\n",
       "      <td>58300.000000</td>\n",
       "    </tr>\n",
       "    <tr>\n",
       "      <th>55119</th>\n",
       "      <td>5</td>\n",
       "      <td>263525</td>\n",
       "      <td>52705.000000</td>\n",
       "    </tr>\n",
       "    <tr>\n",
       "      <th>55130</th>\n",
       "      <td>4</td>\n",
       "      <td>189900</td>\n",
       "      <td>47475.000000</td>\n",
       "    </tr>\n",
       "    <tr>\n",
       "      <th>55114</th>\n",
       "      <td>4</td>\n",
       "      <td>150000</td>\n",
       "      <td>37500.000000</td>\n",
       "    </tr>\n",
       "    <tr>\n",
       "      <th>55101</th>\n",
       "      <td>3</td>\n",
       "      <td>99900</td>\n",
       "      <td>33300.000000</td>\n",
       "    </tr>\n",
       "    <tr>\n",
       "      <th>55411</th>\n",
       "      <td>5</td>\n",
       "      <td>165000</td>\n",
       "      <td>33000.000000</td>\n",
       "    </tr>\n",
       "  </tbody>\n",
       "</table>\n",
       "</div>"
      ],
      "text/plain": [
       "       bedrooms  max_price  max_price_per_bedroom\n",
       "55416         4    3775000          943750.000000\n",
       "55410         5    4650000          930000.000000\n",
       "55405         5    3750000          750000.000000\n",
       "55105         4    2990000          747500.000000\n",
       "55408         4    1995000          498750.000000\n",
       "55409         4    1675000          418750.000000\n",
       "55102         6    2225000          370833.333333\n",
       "55116         4    1325000          331250.000000\n",
       "55419         7    1695000          242142.857143\n",
       "55104         6    1195000          199166.666667\n",
       "55406         5     875000          175000.000000\n",
       "55417         3     499999          166666.333333\n",
       "55129         2     319000          159500.000000\n",
       "55407         3     429900          143300.000000\n",
       "55106         3     389000          129666.666667\n",
       "55126         4     483900          120975.000000\n",
       "55117         4     439000          109750.000000\n",
       "55103         2     177500           88750.000000\n",
       "55404         3     239900           79966.666667\n",
       "55418         5     385000           77000.000000\n",
       "55430         3     225000           75000.000000\n",
       "55413         4     299900           74975.000000\n",
       "55108         4     294900           73725.000000\n",
       "55113         3     214000           71333.333333\n",
       "55107         4     259900           64975.000000\n",
       "55412         3     194900           64966.666667\n",
       "55118         3     179000           59666.666667\n",
       "55421         3     174900           58300.000000\n",
       "55119         5     263525           52705.000000\n",
       "55130         4     189900           47475.000000\n",
       "55114         4     150000           37500.000000\n",
       "55101         3      99900           33300.000000\n",
       "55411         5     165000           33000.000000"
      ]
     },
     "execution_count": 43,
     "metadata": {},
     "output_type": "execute_result"
    }
   ],
   "source": [
    "price_df.sort_values(by='max_price_per_bedroom', ascending=False)"
   ]
  },
  {
   "cell_type": "markdown",
   "metadata": {},
   "source": [
    "There are links that support that this analysis is correct:\n",
    "https://www.zillow.com/homedetails/3305-E-Calhoun-Pkwy-Minneapolis-MN-55408/1717992_zpid/\n",
    "\n",
    "https://www.zillow.com/homedetails/2424-W-Lake-Of-The-Isles-Pkwy-Minneapolis-MN-55405/1990862_zpid/\n",
    "\n",
    "https://www.zillow.com/homedetails/2603-Newton-Ave-S-Minneapolis-MN-55405/2001002_zpid/\n",
    "\n",
    "https://www.zillow.com/homedetails/4243-Fremont-Ave-S-Minneapolis-MN-55409/1771866_zpid/"
   ]
  },
  {
   "cell_type": "markdown",
   "metadata": {},
   "source": [
    "### Alternatively by taking the median values per area"
   ]
  },
  {
   "cell_type": "code",
   "execution_count": 44,
   "metadata": {
    "collapsed": false
   },
   "outputs": [
    {
     "data": {
      "text/html": [
       "<div>\n",
       "<table border=\"1\" class=\"dataframe\">\n",
       "  <thead>\n",
       "    <tr style=\"text-align: right;\">\n",
       "      <th></th>\n",
       "      <th>ListPrice</th>\n",
       "      <th>BEDS</th>\n",
       "    </tr>\n",
       "    <tr>\n",
       "      <th>ZIP</th>\n",
       "      <th></th>\n",
       "      <th></th>\n",
       "    </tr>\n",
       "  </thead>\n",
       "  <tbody>\n",
       "    <tr>\n",
       "      <th>55419</th>\n",
       "      <td>319900.0</td>\n",
       "      <td>3.0</td>\n",
       "    </tr>\n",
       "    <tr>\n",
       "      <th>55116</th>\n",
       "      <td>329900.0</td>\n",
       "      <td>3.0</td>\n",
       "    </tr>\n",
       "    <tr>\n",
       "      <th>55117</th>\n",
       "      <td>139900.0</td>\n",
       "      <td>3.0</td>\n",
       "    </tr>\n",
       "    <tr>\n",
       "      <th>55421</th>\n",
       "      <td>147400.0</td>\n",
       "      <td>3.5</td>\n",
       "    </tr>\n",
       "    <tr>\n",
       "      <th>55408</th>\n",
       "      <td>320500.0</td>\n",
       "      <td>3.0</td>\n",
       "    </tr>\n",
       "  </tbody>\n",
       "</table>\n",
       "</div>"
      ],
      "text/plain": [
       "       ListPrice  BEDS\n",
       "ZIP                   \n",
       "55419   319900.0   3.0\n",
       "55116   329900.0   3.0\n",
       "55117   139900.0   3.0\n",
       "55421   147400.0   3.5\n",
       "55408   320500.0   3.0"
      ]
     },
     "execution_count": 44,
     "metadata": {},
     "output_type": "execute_result"
    }
   ],
   "source": [
    "median_per_zip = df.groupby(['ZIP']).median()[['ListPrice', 'BEDS']]\n",
    "#print len(max_price_per_zip)\n",
    "median_per_zip.sample(n=5)"
   ]
  },
  {
   "cell_type": "code",
   "execution_count": 45,
   "metadata": {
    "collapsed": true
   },
   "outputs": [],
   "source": [
    "median_per_zip['price_per_bed'] = median_per_zip['ListPrice'] / median_per_zip['BEDS']"
   ]
  },
  {
   "cell_type": "code",
   "execution_count": 46,
   "metadata": {
    "collapsed": false
   },
   "outputs": [
    {
     "data": {
      "text/html": [
       "<div>\n",
       "<table border=\"1\" class=\"dataframe\">\n",
       "  <thead>\n",
       "    <tr style=\"text-align: right;\">\n",
       "      <th></th>\n",
       "      <th>ListPrice</th>\n",
       "      <th>BEDS</th>\n",
       "      <th>price_per_bed</th>\n",
       "    </tr>\n",
       "    <tr>\n",
       "      <th>ZIP</th>\n",
       "      <th></th>\n",
       "      <th></th>\n",
       "      <th></th>\n",
       "    </tr>\n",
       "  </thead>\n",
       "  <tbody>\n",
       "    <tr>\n",
       "      <th>55405</th>\n",
       "      <td>1465000.0</td>\n",
       "      <td>5.0</td>\n",
       "      <td>293000.000000</td>\n",
       "    </tr>\n",
       "    <tr>\n",
       "      <th>55416</th>\n",
       "      <td>1049450.0</td>\n",
       "      <td>4.0</td>\n",
       "      <td>262362.500000</td>\n",
       "    </tr>\n",
       "    <tr>\n",
       "      <th>55410</th>\n",
       "      <td>754950.0</td>\n",
       "      <td>4.0</td>\n",
       "      <td>188737.500000</td>\n",
       "    </tr>\n",
       "    <tr>\n",
       "      <th>55129</th>\n",
       "      <td>319000.0</td>\n",
       "      <td>2.0</td>\n",
       "      <td>159500.000000</td>\n",
       "    </tr>\n",
       "    <tr>\n",
       "      <th>55105</th>\n",
       "      <td>360000.0</td>\n",
       "      <td>3.0</td>\n",
       "      <td>120000.000000</td>\n",
       "    </tr>\n",
       "    <tr>\n",
       "      <th>55126</th>\n",
       "      <td>464400.0</td>\n",
       "      <td>4.0</td>\n",
       "      <td>116100.000000</td>\n",
       "    </tr>\n",
       "    <tr>\n",
       "      <th>55116</th>\n",
       "      <td>329900.0</td>\n",
       "      <td>3.0</td>\n",
       "      <td>109966.666667</td>\n",
       "    </tr>\n",
       "    <tr>\n",
       "      <th>55408</th>\n",
       "      <td>320500.0</td>\n",
       "      <td>3.0</td>\n",
       "      <td>106833.333333</td>\n",
       "    </tr>\n",
       "    <tr>\n",
       "      <th>55419</th>\n",
       "      <td>319900.0</td>\n",
       "      <td>3.0</td>\n",
       "      <td>106633.333333</td>\n",
       "    </tr>\n",
       "    <tr>\n",
       "      <th>55409</th>\n",
       "      <td>354900.0</td>\n",
       "      <td>4.0</td>\n",
       "      <td>88725.000000</td>\n",
       "    </tr>\n",
       "  </tbody>\n",
       "</table>\n",
       "</div>"
      ],
      "text/plain": [
       "       ListPrice  BEDS  price_per_bed\n",
       "ZIP                                  \n",
       "55405  1465000.0   5.0  293000.000000\n",
       "55416  1049450.0   4.0  262362.500000\n",
       "55410   754950.0   4.0  188737.500000\n",
       "55129   319000.0   2.0  159500.000000\n",
       "55105   360000.0   3.0  120000.000000\n",
       "55126   464400.0   4.0  116100.000000\n",
       "55116   329900.0   3.0  109966.666667\n",
       "55408   320500.0   3.0  106833.333333\n",
       "55419   319900.0   3.0  106633.333333\n",
       "55409   354900.0   4.0   88725.000000"
      ]
     },
     "execution_count": 46,
     "metadata": {},
     "output_type": "execute_result"
    }
   ],
   "source": [
    "temp_df = median_per_zip.sort_values(by='price_per_bed', ascending=False)\n",
    "temp_df.head(10)"
   ]
  },
  {
   "cell_type": "code",
   "execution_count": 47,
   "metadata": {
    "collapsed": true
   },
   "outputs": [],
   "source": [
    "temp_df.to_csv('exer1_quest6b.csv', encoding='utf-8', quoting=QUOTE_ALL)"
   ]
  },
  {
   "cell_type": "markdown",
   "metadata": {},
   "source": [
    "#### comparison"
   ]
  },
  {
   "cell_type": "code",
   "execution_count": 111,
   "metadata": {
    "collapsed": false
   },
   "outputs": [
    {
     "data": {
      "text/plain": [
       "((10, 3), (10, 3))"
      ]
     },
     "execution_count": 111,
     "metadata": {},
     "output_type": "execute_result"
    }
   ],
   "source": [
    "median_top = median_per_zip.sort_values(by='price_per_bed', ascending=False)[:10]\n",
    "max_top = price_df.sort_values(by='max_price_per_bedroom', ascending=False)[:10]\n",
    "median_top.shape, max_top.shape"
   ]
  },
  {
   "cell_type": "code",
   "execution_count": 112,
   "metadata": {
    "collapsed": true
   },
   "outputs": [],
   "source": [
    "inds1 = median_top.index\n",
    "inds2 = max_top.index"
   ]
  },
  {
   "cell_type": "code",
   "execution_count": 113,
   "metadata": {
    "collapsed": false
   },
   "outputs": [
    {
     "data": {
      "text/plain": [
       "{55126, 55129}"
      ]
     },
     "execution_count": 113,
     "metadata": {},
     "output_type": "execute_result"
    }
   ],
   "source": [
    "set(inds1).difference(inds2)"
   ]
  },
  {
   "cell_type": "code",
   "execution_count": 114,
   "metadata": {
    "collapsed": false
   },
   "outputs": [
    {
     "data": {
      "text/plain": [
       "{55102, 55104}"
      ]
     },
     "execution_count": 114,
     "metadata": {},
     "output_type": "execute_result"
    }
   ],
   "source": [
    "set(inds2).difference(inds1)"
   ]
  },
  {
   "cell_type": "code",
   "execution_count": 115,
   "metadata": {
    "collapsed": false
   },
   "outputs": [
    {
     "data": {
      "text/plain": [
       "{55105, 55116, 55405, 55408, 55409, 55410, 55416, 55419}"
      ]
     },
     "execution_count": 115,
     "metadata": {},
     "output_type": "execute_result"
    }
   ],
   "source": [
    "set(inds2).intersection(inds1)"
   ]
  },
  {
   "cell_type": "markdown",
   "metadata": {},
   "source": [
    "We notice that the two metrics agree at 8/10 or 4/5 cases for the top most expensive houses in Minneapolis\n",
    "\n",
    "This heatmap comes in agreement: https://www.trulia.com/home_prices/Minnesota/Minneapolis-heat_map/"
   ]
  },
  {
   "cell_type": "markdown",
   "metadata": {},
   "source": [
    "#### compare"
   ]
  },
  {
   "cell_type": "code",
   "execution_count": 127,
   "metadata": {
    "collapsed": false
   },
   "outputs": [
    {
     "data": {
      "text/plain": [
       "(10, 3)"
      ]
     },
     "execution_count": 127,
     "metadata": {},
     "output_type": "execute_result"
    }
   ],
   "source": [
    "max_top_df = max_top.rename(columns={\n",
    "        'max_price_per_bedroom': 'price_per_bed',\n",
    "    })['price_per_bed'].reset_index().rename(columns={'index': 'ZIP'})\n",
    "max_top_df['type'] = 'maximum'\n",
    "max_top_df.shape"
   ]
  },
  {
   "cell_type": "code",
   "execution_count": 128,
   "metadata": {
    "collapsed": false,
    "scrolled": true
   },
   "outputs": [
    {
     "data": {
      "text/plain": [
       "(10, 3)"
      ]
     },
     "execution_count": 128,
     "metadata": {},
     "output_type": "execute_result"
    }
   ],
   "source": [
    "median_top_df = median_top['price_per_bed'].reset_index()\n",
    "median_top_df['type'] = 'median'\n",
    "median_top_df.shape"
   ]
  },
  {
   "cell_type": "code",
   "execution_count": 131,
   "metadata": {
    "collapsed": false
   },
   "outputs": [
    {
     "data": {
      "text/html": [
       "<div>\n",
       "<table border=\"1\" class=\"dataframe\">\n",
       "  <thead>\n",
       "    <tr style=\"text-align: right;\">\n",
       "      <th></th>\n",
       "      <th>ZIP</th>\n",
       "      <th>Listing Price per Bed</th>\n",
       "      <th>type</th>\n",
       "    </tr>\n",
       "  </thead>\n",
       "  <tbody>\n",
       "    <tr>\n",
       "      <th>0</th>\n",
       "      <td>55416</td>\n",
       "      <td>943750.0</td>\n",
       "      <td>maximum</td>\n",
       "    </tr>\n",
       "  </tbody>\n",
       "</table>\n",
       "</div>"
      ],
      "text/plain": [
       "     ZIP  Listing Price per Bed     type\n",
       "0  55416               943750.0  maximum"
      ]
     },
     "execution_count": 131,
     "metadata": {},
     "output_type": "execute_result"
    }
   ],
   "source": [
    "merged_df = pd.concat((max_top_df, median_top_df), axis=0)\n",
    "merged_df = merged_df.rename(columns={'price_per_bed': 'Listing Price per Bed'})\n",
    "merged_df.head(1)"
   ]
  },
  {
   "cell_type": "code",
   "execution_count": 137,
   "metadata": {
    "collapsed": true
   },
   "outputs": [],
   "source": [
    "sns.set(font_scale=1.5)"
   ]
  },
  {
   "cell_type": "code",
   "execution_count": 143,
   "metadata": {
    "collapsed": false
   },
   "outputs": [
    {
     "data": {
      "image/png": "[encoded data removed]",
      "text/plain": [
       "<matplotlib.figure.Figure at 0x7efe5817b310>"
      ]
     },
     "metadata": {},
     "output_type": "display_data"
    }
   ],
   "source": [
    "plt.figure(figsize=(15,10))\n",
    "sns.barplot(data=merged_df, x='ZIP', y='Listing Price per Bed', hue='type', estimator=lambda xx: xx)\n",
    "plt.ylabel('Listing Price per Bedroom')\n",
    "plt.legend(loc='upper left')\n",
    "plt.show()"
   ]
  },
  {
   "cell_type": "markdown",
   "metadata": {},
   "source": [
    "# How to guess the number of people per bed?"
   ]
  },
  {
   "cell_type": "markdown",
   "metadata": {},
   "source": [
    "So let's see first what is the most prevelant bedroom per zip code"
   ]
  },
  {
   "cell_type": "code",
   "execution_count": 52,
   "metadata": {
    "collapsed": false
   },
   "outputs": [
    {
     "data": {
      "text/plain": [
       "(1111, 48)"
      ]
     },
     "execution_count": 52,
     "metadata": {},
     "output_type": "execute_result"
    }
   ],
   "source": [
    "XX.shape"
   ]
  },
  {
   "cell_type": "code",
   "execution_count": 55,
   "metadata": {
    "collapsed": false
   },
   "outputs": [
    {
     "data": {
      "text/plain": [
       "BATHS         1\n",
       "LOCATION      6\n",
       "LotSize      64\n",
       "LATITUDE      6\n",
       "LONGITUDE     6\n",
       "dtype: int64"
      ]
     },
     "execution_count": 55,
     "metadata": {},
     "output_type": "execute_result"
    }
   ],
   "source": [
    "sums = df.isnull().sum()\n",
    "sums = sums[sums > 0]\n",
    "sums"
   ]
  },
  {
   "cell_type": "code",
   "execution_count": 56,
   "metadata": {
    "collapsed": true
   },
   "outputs": [],
   "source": [
    "assert df['ZIP'].isnull().sum() == 0\n",
    "assert df['BEDS'].isnull().sum() == 0"
   ]
  },
  {
   "cell_type": "code",
   "execution_count": 59,
   "metadata": {
    "collapsed": true
   },
   "outputs": [],
   "source": [
    "from matplotlib import rcParams"
   ]
  },
  {
   "cell_type": "code",
   "execution_count": 60,
   "metadata": {
    "collapsed": true
   },
   "outputs": [],
   "source": [
    "rcParams['figure.figsize'] = 15,7"
   ]
  },
  {
   "cell_type": "code",
   "execution_count": 64,
   "metadata": {
    "collapsed": false
   },
   "outputs": [
    {
     "data": {
      "image/png": "[encoded data removed]",
      "text/plain": [
       "<matplotlib.figure.Figure at 0x7efe58d93d50>"
      ]
     },
     "metadata": {},
     "output_type": "display_data"
    }
   ],
   "source": [
    "plt.figure(figsize=(16, 10))\n",
    "sns.barplot(data=df, x = 'BEDS', y='ZIP', orient='horizontal', estimator=np.median)\n",
    "plt.show()"
   ]
  },
  {
   "cell_type": "code",
   "execution_count": 69,
   "metadata": {
    "collapsed": false
   },
   "outputs": [
    {
     "data": {
      "text/html": [
       "<div>\n",
       "<table border=\"1\" class=\"dataframe\">\n",
       "  <thead>\n",
       "    <tr style=\"text-align: right;\">\n",
       "      <th></th>\n",
       "      <th>ADDRESS</th>\n",
       "      <th>CITY</th>\n",
       "      <th>ZIP</th>\n",
       "      <th>ListPrice</th>\n",
       "      <th>BEDS</th>\n",
       "      <th>BATHS</th>\n",
       "      <th>LOCATION</th>\n",
       "      <th>SQFT</th>\n",
       "      <th>LotSize</th>\n",
       "      <th>YearBuilt</th>\n",
       "      <th>ParkingSpots</th>\n",
       "      <th>HasGarage</th>\n",
       "      <th>DOM</th>\n",
       "      <th>SoldPrev</th>\n",
       "      <th>Realty</th>\n",
       "      <th>LATITUDE</th>\n",
       "      <th>LONGITUDE</th>\n",
       "      <th>ShortSale</th>\n",
       "      <th>pop</th>\n",
       "    </tr>\n",
       "    <tr>\n",
       "      <th>ID</th>\n",
       "      <th></th>\n",
       "      <th></th>\n",
       "      <th></th>\n",
       "      <th></th>\n",
       "      <th></th>\n",
       "      <th></th>\n",
       "      <th></th>\n",
       "      <th></th>\n",
       "      <th></th>\n",
       "      <th></th>\n",
       "      <th></th>\n",
       "      <th></th>\n",
       "      <th></th>\n",
       "      <th></th>\n",
       "      <th></th>\n",
       "      <th></th>\n",
       "      <th></th>\n",
       "      <th></th>\n",
       "      <th></th>\n",
       "    </tr>\n",
       "  </thead>\n",
       "  <tbody>\n",
       "    <tr>\n",
       "      <th>4435756</th>\n",
       "      <td>694 37th Ave NE</td>\n",
       "      <td>Minneapolis</td>\n",
       "      <td>55421</td>\n",
       "      <td>174900</td>\n",
       "      <td>3</td>\n",
       "      <td>2</td>\n",
       "      <td>Columbia Park</td>\n",
       "      <td>2084</td>\n",
       "      <td>5227.0</td>\n",
       "      <td>1925</td>\n",
       "      <td>2</td>\n",
       "      <td>Garage</td>\n",
       "      <td>36</td>\n",
       "      <td>N</td>\n",
       "      <td>RE/MAX Specialists</td>\n",
       "      <td>45,035309</td>\n",
       "      <td>-93,252892</td>\n",
       "      <td>N</td>\n",
       "      <td>27035</td>\n",
       "    </tr>\n",
       "    <tr>\n",
       "      <th>4415169</th>\n",
       "      <td>704 37th Ave NE</td>\n",
       "      <td>Minneapolis</td>\n",
       "      <td>55421</td>\n",
       "      <td>119900</td>\n",
       "      <td>4</td>\n",
       "      <td>1,5</td>\n",
       "      <td>Columbia Park</td>\n",
       "      <td>1304</td>\n",
       "      <td>5227.0</td>\n",
       "      <td>1939</td>\n",
       "      <td>2</td>\n",
       "      <td>Garage</td>\n",
       "      <td>119</td>\n",
       "      <td>N</td>\n",
       "      <td>Counselor Realty, Inc.</td>\n",
       "      <td>45,035301</td>\n",
       "      <td>-93,252388</td>\n",
       "      <td>N</td>\n",
       "      <td>27035</td>\n",
       "    </tr>\n",
       "  </tbody>\n",
       "</table>\n",
       "</div>"
      ],
      "text/plain": [
       "                 ADDRESS         CITY    ZIP  ListPrice  BEDS BATHS  \\\n",
       "ID                                                                    \n",
       "4435756  694 37th Ave NE  Minneapolis  55421     174900     3     2   \n",
       "4415169  704 37th Ave NE  Minneapolis  55421     119900     4   1,5   \n",
       "\n",
       "              LOCATION  SQFT  LotSize  YearBuilt  ParkingSpots HasGarage  DOM  \\\n",
       "ID                                                                              \n",
       "4435756  Columbia Park  2084   5227.0       1925             2    Garage   36   \n",
       "4415169  Columbia Park  1304   5227.0       1939             2    Garage  119   \n",
       "\n",
       "        SoldPrev                  Realty   LATITUDE   LONGITUDE ShortSale  \\\n",
       "ID                                                                          \n",
       "4435756        N      RE/MAX Specialists  45,035309  -93,252892         N   \n",
       "4415169        N  Counselor Realty, Inc.  45,035301  -93,252388         N   \n",
       "\n",
       "           pop  \n",
       "ID              \n",
       "4435756  27035  \n",
       "4415169  27035  "
      ]
     },
     "execution_count": 69,
     "metadata": {},
     "output_type": "execute_result"
    }
   ],
   "source": [
    "df[df['ZIP']==55421]"
   ]
  },
  {
   "cell_type": "code",
   "execution_count": 66,
   "metadata": {
    "collapsed": false
   },
   "outputs": [
    {
     "data": {
      "text/plain": [
       "(1111, 19)"
      ]
     },
     "execution_count": 66,
     "metadata": {},
     "output_type": "execute_result"
    }
   ],
   "source": [
    "df[np.round(df['BEDS']) == df['BEDS'] ].shape"
   ]
  },
  {
   "cell_type": "markdown",
   "metadata": {},
   "source": [
    "If the areas where you have as median value the three bedrooms you also have the population of the area.  \n",
    "Therefore you could assign a weight: the population per bedroom  \n",
    "You do the same for the rest of the areas  \n",
    "And then you have a function of population per bedroom"
   ]
  },
  {
   "cell_type": "code",
   "execution_count": 72,
   "metadata": {
    "collapsed": false
   },
   "outputs": [
    {
     "data": {
      "text/plain": [
       "ZIP\n",
       "55101    2.5\n",
       "55102    3.0\n",
       "55103    3.0\n",
       "55104    3.0\n",
       "55105    3.0\n",
       "55106    3.0\n",
       "55107    3.0\n",
       "55108    3.0\n",
       "55113    3.0\n",
       "55114    4.0\n",
       "55116    3.0\n",
       "55117    3.0\n",
       "55118    3.0\n",
       "55119    3.0\n",
       "55126    4.0\n",
       "55129    2.0\n",
       "55130    3.0\n",
       "55404    3.0\n",
       "55405    5.0\n",
       "55406    3.0\n",
       "55407    3.0\n",
       "55408    3.0\n",
       "55409    4.0\n",
       "55410    4.0\n",
       "55411    3.0\n",
       "55412    3.0\n",
       "55413    3.0\n",
       "55416    4.0\n",
       "55417    3.0\n",
       "55418    3.0\n",
       "55419    3.0\n",
       "55421    3.5\n",
       "55430    3.0\n",
       "Name: BEDS, dtype: float64"
      ]
     },
     "execution_count": 72,
     "metadata": {},
     "output_type": "execute_result"
    }
   ],
   "source": [
    "zip_beds = df.groupby('ZIP').median()['BEDS']\n",
    "zip_beds"
   ]
  },
  {
   "cell_type": "code",
   "execution_count": 107,
   "metadata": {
    "collapsed": false
   },
   "outputs": [
    {
     "data": {
      "text/plain": [
       "ZIP\n",
       "55101     2236.800000\n",
       "55102     6069.000000\n",
       "55103     4330.333333\n",
       "55104    14416.000000\n",
       "55105     9485.000000\n",
       "55106    17576.666667\n",
       "55107     4925.333333\n",
       "55108     4896.000000\n",
       "55113    12998.000000\n",
       "55114      775.000000\n",
       "55116     7950.333333\n",
       "55117    13883.000000\n",
       "55118     9182.666667\n",
       "55119    12988.666667\n",
       "55126     6285.000000\n",
       "55129     9348.500000\n",
       "55130     5858.333333\n",
       "55404     9040.333333\n",
       "55405     3082.200000\n",
       "55406    10704.000000\n",
       "55407    12627.000000\n",
       "55408     9993.666667\n",
       "55409     2903.750000\n",
       "55410     4835.000000\n",
       "55411     9142.666667\n",
       "55412     7382.666667\n",
       "55413     4311.333333\n",
       "55416     7256.750000\n",
       "55417     8291.666667\n",
       "55418     9824.000000\n",
       "55419     8802.000000\n",
       "55421     7724.285714\n",
       "55430     7169.333333\n",
       "dtype: float64"
      ]
     },
     "execution_count": 107,
     "metadata": {},
     "output_type": "execute_result"
    }
   ],
   "source": [
    "assert np.all(pop_per_zip.index == zip_beds.index)\n",
    "pop_per_bed = pd.Series(data = pop_per_zip.values.flatten() / zip_beds.values.flatten(), index=pop_per_zip.index)\n",
    "pop_per_bed"
   ]
  },
  {
   "cell_type": "markdown",
   "metadata": {},
   "source": [
    "**Alternatively** we could do it manually, to create a map according to our domain knowledge"
   ]
  },
  {
   "cell_type": "code",
   "execution_count": 108,
   "metadata": {
    "collapsed": false
   },
   "outputs": [
    {
     "data": {
      "text/plain": [
       "array([3, 4, 2, 5, 7, 6, 1, 8])"
      ]
     },
     "execution_count": 108,
     "metadata": {},
     "output_type": "execute_result"
    }
   ],
   "source": [
    "df['BEDS'].unique()"
   ]
  },
  {
   "cell_type": "code",
   "execution_count": 109,
   "metadata": {
    "collapsed": true
   },
   "outputs": [],
   "source": [
    "bed_people = {\n",
    "    1: 1.5, #one bedroom, one or two people\n",
    "    2: 2.5, #two people or a couple and a child\n",
    "    3: 3.5, #3 people or a couple and two kids\n",
    "    4: 4, #most likely 4 people\n",
    "    5: 4.5, #most likely 4 people and a guest room or 5 people\n",
    "    6: 5, #most likely 5 people and a guest room\n",
    "    7: 5.5, #five or six people\n",
    "    8: 6, #six people on average\n",
    "}"
   ]
  },
  {
   "cell_type": "markdown",
   "metadata": {},
   "source": [
    "# Yet Another Idea"
   ]
  },
  {
   "cell_type": "code",
   "execution_count": 146,
   "metadata": {
    "collapsed": false
   },
   "outputs": [
    {
     "data": {
      "image/png": "[encoded data removed]",
      "text/plain": [
       "<matplotlib.figure.Figure at 0x7efe4b232f50>"
      ]
     },
     "metadata": {},
     "output_type": "display_data"
    }
   ],
   "source": [
    "sns.distplot(df[df['ZIP']==55410]['BEDS'])\n",
    "plt.show()"
   ]
  },
  {
   "cell_type": "markdown",
   "metadata": {},
   "source": [
    "And we assign the population of this area to the bedrooms according to the listing. As if the listings were representative of the houses that in general exist in the area"
   ]
  },
  {
   "cell_type": "code",
   "execution_count": 148,
   "metadata": {
    "collapsed": true
   },
   "outputs": [],
   "source": [
    "beds_of_area = df[df['ZIP']==55410]['BEDS']"
   ]
  },
  {
   "cell_type": "code",
   "execution_count": 153,
   "metadata": {
    "collapsed": false
   },
   "outputs": [
    {
     "data": {
      "text/plain": [
       "array([2, 3, 4, 5])"
      ]
     },
     "execution_count": 153,
     "metadata": {},
     "output_type": "execute_result"
    }
   ],
   "source": [
    "unique_beds = np.sort(beds_of_area.unique())\n",
    "unique_beds"
   ]
  },
  {
   "cell_type": "code",
   "execution_count": 154,
   "metadata": {
    "collapsed": false
   },
   "outputs": [
    {
     "data": {
      "text/plain": [
       "array([ 4, 17, 23, 12])"
      ]
     },
     "execution_count": 154,
     "metadata": {},
     "output_type": "execute_result"
    }
   ],
   "source": [
    "weights = np.histogram(beds_of_area, bins=len(beds_of_area.unique()))[0]\n",
    "weights"
   ]
  },
  {
   "cell_type": "code",
   "execution_count": 162,
   "metadata": {
    "collapsed": false
   },
   "outputs": [
    {
     "data": {
      "text/plain": [
       "19340"
      ]
     },
     "execution_count": 162,
     "metadata": {},
     "output_type": "execute_result"
    }
   ],
   "source": [
    "cur_pop = pop_per_zip.loc[55410].values[0]\n",
    "cur_pop"
   ]
  },
  {
   "cell_type": "code",
   "execution_count": 160,
   "metadata": {
    "collapsed": false
   },
   "outputs": [
    {
     "data": {
      "text/plain": [
       "array([ 4, 17, 23, 12])"
      ]
     },
     "execution_count": 160,
     "metadata": {},
     "output_type": "execute_result"
    }
   ],
   "source": [
    "weights"
   ]
  },
  {
   "cell_type": "code",
   "execution_count": 164,
   "metadata": {
    "collapsed": false
   },
   "outputs": [
    {
     "data": {
      "text/plain": [
       "array([  690.71428571,  1957.02380952,  1985.80357143,   828.85714286])"
      ]
     },
     "execution_count": 164,
     "metadata": {},
     "output_type": "execute_result"
    }
   ],
   "source": [
    "weighted_pop_per_bed = ((weights * cur_pop) / np.sum(weights)) / unique_beds\n",
    "weighted_pop_per_bed"
   ]
  },
  {
   "cell_type": "code",
   "execution_count": 167,
   "metadata": {
    "collapsed": false
   },
   "outputs": [
    {
     "data": {
      "text/plain": [
       "{2: 690.71428571428567,\n",
       " 3: 1957.0238095238094,\n",
       " 4: 1985.8035714285713,\n",
       " 5: 828.85714285714289}"
      ]
     },
     "execution_count": 167,
     "metadata": {},
     "output_type": "execute_result"
    }
   ],
   "source": [
    "dict(zip(unique_beds, weighted_pop_per_bed))"
   ]
  },
  {
   "cell_type": "code",
   "execution_count": 168,
   "metadata": {
    "collapsed": true
   },
   "outputs": [],
   "source": [
    "def get_weighted_pop_per_bed(zip_code):\n",
    "    beds_of_area = df[df['ZIP']==zip_code]['BEDS']\n",
    "    unique_beds = np.sort(beds_of_area.unique())\n",
    "    weights = np.histogram(beds_of_area, bins=len(beds_of_area.unique()))[0]\n",
    "    cur_pop = pop_per_zip.loc[zip_code].values[0]\n",
    "    weighted_pop_per_bed = ((weights * cur_pop) / np.sum(weights)) / unique_beds\n",
    "    return dict(zip(unique_beds, weighted_pop_per_bed))"
   ]
  },
  {
   "cell_type": "code",
   "execution_count": 174,
   "metadata": {
    "collapsed": false
   },
   "outputs": [
    {
     "data": {
      "text/plain": [
       "{2: 690.71428571428567,\n",
       " 3: 1957.0238095238094,\n",
       " 4: 1985.8035714285713,\n",
       " 5: 828.85714285714289}"
      ]
     },
     "execution_count": 174,
     "metadata": {},
     "output_type": "execute_result"
    }
   ],
   "source": [
    "cur_weighted_pop_per_bed = get_weighted_pop_per_bed(55410)\n",
    "cur_weighted_pop_per_bed"
   ]
  },
  {
   "cell_type": "code",
   "execution_count": 171,
   "metadata": {
    "collapsed": true
   },
   "outputs": [],
   "source": [
    "zip_code = 55410"
   ]
  },
  {
   "cell_type": "code",
   "execution_count": 181,
   "metadata": {
    "collapsed": false
   },
   "outputs": [],
   "source": [
    "#for every zip code take all the prices and multiply them with the corresponding weight for the bedrooms in hand\n",
    "#then take the median value of the results\n",
    "#for zip_code in pop_per_zip.keys()\n",
    "def get_median_value(zip_code, cur_weighted_pop_per_bed):\n",
    "    return np.median([series['ListPrice'] * cur_weighted_pop_per_bed[series['BEDS']]\n",
    "    for ind, series in df[df['ZIP'] == zip_code].iterrows()])"
   ]
  },
  {
   "cell_type": "code",
   "execution_count": 182,
   "metadata": {
    "collapsed": true
   },
   "outputs": [],
   "source": [
    "zips_weighted = OrderedDict()"
   ]
  },
  {
   "cell_type": "code",
   "execution_count": 190,
   "metadata": {
    "collapsed": false
   },
   "outputs": [],
   "source": [
    "for zip_code in pop_per_zip.index:\n",
    "    cur_weighted_pop_per_bed = get_weighted_pop_per_bed(zip_code)\n",
    "    zips_weighted[zip_code] = get_median_value(zip_code, cur_weighted_pop_per_bed)"
   ]
  },
  {
   "cell_type": "code",
   "execution_count": 193,
   "metadata": {
    "collapsed": false
   },
   "outputs": [
    {
     "data": {
      "text/plain": [
       "55101    7.094850e+07\n",
       "55102    2.329039e+08\n",
       "55103    1.459709e+08\n",
       "55104    6.793768e+08\n",
       "55105    8.048828e+08\n",
       "55106    7.305880e+08\n",
       "55107    2.333178e+08\n",
       "55108    2.936131e+08\n",
       "55113    2.781572e+09\n",
       "55114    1.162500e+08\n",
       "dtype: float64"
      ]
     },
     "execution_count": 193,
     "metadata": {},
     "output_type": "execute_result"
    }
   ],
   "source": [
    "ranks = pd.Series(index=zips_weighted.keys(), data=zips_weighted.values())\n",
    "ranks.head(10)"
   ]
  },
  {
   "cell_type": "code",
   "execution_count": 196,
   "metadata": {
    "collapsed": false
   },
   "outputs": [
    {
     "data": {
      "text/plain": [
       "Int64Index([55129, 55416, 55126, 55113, 55408, 55405, 55417, 55407, 55404,\n",
       "            55118],\n",
       "           dtype='int64')"
      ]
     },
     "execution_count": 196,
     "metadata": {},
     "output_type": "execute_result"
    }
   ],
   "source": [
    "top_10 = ranks.sort_values(ascending=False).index[:10]\n",
    "top_10"
   ]
  },
  {
   "cell_type": "code",
   "execution_count": null,
   "metadata": {
    "collapsed": true
   },
   "outputs": [],
   "source": []
  }
 ],
 "metadata": {
  "kernelspec": {
   "display_name": "Python [iaml]",
   "language": "python",
   "name": "Python [iaml]"
  },
  "language_info": {
   "codemirror_mode": {
    "name": "ipython",
    "version": 2
   },
   "file_extension": ".py",
   "mimetype": "text/x-python",
   "name": "python",
   "nbconvert_exporter": "python",
   "pygments_lexer": "ipython2",
   "version": "2.7.12"
  }
 },
 "nbformat": 4,
 "nbformat_minor": 2
}
