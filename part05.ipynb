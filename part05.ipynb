{
 "cells": [
  {
   "cell_type": "markdown",
   "metadata": {},
   "source": [
    "# Part 5\n",
    "# Author: Georgios Pligoropoulos < george@pligor.com >"
   ]
  },
  {
   "cell_type": "code",
   "execution_count": 1,
   "metadata": {
    "collapsed": true
   },
   "outputs": [],
   "source": [
    "# -*- coding: UTF-8 -*-\n",
    "#%load_ext autoreload\n",
    "%reload_ext autoreload\n",
    "%autoreload 2"
   ]
  },
  {
   "cell_type": "code",
   "execution_count": 2,
   "metadata": {
    "collapsed": false
   },
   "outputs": [
    {
     "name": "stderr",
     "output_type": "stream",
     "text": [
      "/home/student/anaconda2/envs/iaml/lib/python2.7/site-packages/sklearn/cross_validation.py:44: DeprecationWarning: This module was deprecated in version 0.18 in favor of the model_selection module into which all the refactored classes and functions are moved. Also note that the interface of the new CV iterators are different from that of this module. This module will be removed in 0.20.\n",
      "  \"This module will be removed in 0.20.\", DeprecationWarning)\n"
     ]
    }
   ],
   "source": [
    "from __future__ import division\n",
    "from os import path, remove\n",
    "import numpy as np\n",
    "import pandas as pd\n",
    "from csv import QUOTE_ALL\n",
    "from sklearn.model_selection import StratifiedShuffleSplit\n",
    "from time import time\n",
    "from matplotlib import pyplot as plt\n",
    "import seaborn as sns\n",
    "import shutil\n",
    "from sklearn.metrics import r2_score\n",
    "from collections import OrderedDict\n",
    "from scipy.spatial.distance import euclidean\n",
    "from statsmodels.tsa.stattools import coint\n",
    "from skopt.space.space import Integer, Real\n",
    "from skopt import gp_minimize\n",
    "from skopt.plots import plot_convergence\n",
    "import pickle\n",
    "import inspect\n",
    "import dill\n",
    "import sys\n",
    "from sklearn.neighbors import NearestNeighbors\n",
    "from datetime import datetime\n",
    "import operator\n",
    "from os.path import isfile, isdir, join\n",
    "from os import getcwd\n",
    "from sklearn.cross_validation import train_test_split\n",
    "from sklearn.linear_model import LinearRegression, Ridge\n",
    "from sklearn.model_selection import cross_val_score\n",
    "from fancyimpute import KNN, NuclearNormMinimization, SoftImpute, IterativeSVD, MICE, \\\n",
    "    MatrixFactorization, BiScaler\n",
    "from math import floor\n",
    "from scipy import stats"
   ]
  },
  {
   "cell_type": "code",
   "execution_count": 3,
   "metadata": {
    "collapsed": true
   },
   "outputs": [],
   "source": [
    "seed = 16011984\n",
    "random_state = np.random.RandomState(seed=seed)\n",
    "n_jobs = 1\n",
    "%matplotlib inline"
   ]
  },
  {
   "cell_type": "code",
   "execution_count": 4,
   "metadata": {
    "collapsed": true
   },
   "outputs": [],
   "source": [
    "from advanced_one_hot_encoder import AdvancedOneHotEncoder"
   ]
  },
  {
   "cell_type": "markdown",
   "metadata": {},
   "source": [
    "**Short sale** explained: http://www.investopedia.com/terms/r/real-estate-short-sale.asp"
   ]
  },
  {
   "cell_type": "markdown",
   "metadata": {},
   "source": [
    "## Load Data"
   ]
  },
  {
   "cell_type": "code",
   "execution_count": 5,
   "metadata": {
    "collapsed": false
   },
   "outputs": [
    {
     "data": {
      "text/plain": [
       "(1111, 20)"
      ]
     },
     "execution_count": 5,
     "metadata": {},
     "output_type": "execute_result"
    }
   ],
   "source": [
    "twin_cities_path = join(getcwd(), 'twin_cities.csv')\n",
    "df = pd.read_csv(twin_cities_path, delimiter = ',', encoding='utf-8', quoting=QUOTE_ALL, index_col=0)\n",
    "df.shape"
   ]
  },
  {
   "cell_type": "markdown",
   "metadata": {},
   "source": [
    "## Drop redundant columns\n",
    "State column does not hold any information since it is the same for all instances\n",
    "Also we are dropping last sale date as we are advised to not use it but also because it contains lots of nulls"
   ]
  },
  {
   "cell_type": "code",
   "execution_count": 6,
   "metadata": {
    "collapsed": false
   },
   "outputs": [
    {
     "data": {
      "text/plain": [
       "(1111, 18)"
      ]
     },
     "execution_count": 6,
     "metadata": {},
     "output_type": "execute_result"
    }
   ],
   "source": [
    "if 'STATE' in df.columns:\n",
    "    df = df.drop(labels=['STATE'], axis=1)\n",
    "if 'LastSaleDate' in df.columns:\n",
    "    df = df.drop(labels=['LastSaleDate'], axis=1)\n",
    "df.shape"
   ]
  },
  {
   "cell_type": "markdown",
   "metadata": {},
   "source": [
    "### Keep columns for Price Regression"
   ]
  },
  {
   "cell_type": "code",
   "execution_count": 7,
   "metadata": {
    "collapsed": false
   },
   "outputs": [
    {
     "data": {
      "text/plain": [
       "(1111, 13)"
      ]
     },
     "execution_count": 7,
     "metadata": {},
     "output_type": "execute_result"
    }
   ],
   "source": [
    "#Regression Columns\n",
    "#CITY, ZIP, BEDS, BATHS, SQFT, LotSize, YearBuilt, ParkingSpots, HasGarage, LATITUDE, LONGITUDE, ShortSale\n",
    "XX = df[\n",
    "    ['CITY', 'ZIP', 'BEDS', 'BATHS', 'SQFT', 'LotSize', 'YearBuilt', 'ParkingSpots', 'HasGarage', 'LATITUDE',\n",
    "     'LONGITUDE', 'ShortSale', 'LOCATION']\n",
    "]\n",
    "XX.shape"
   ]
  },
  {
   "cell_type": "code",
   "execution_count": 8,
   "metadata": {
    "collapsed": false
   },
   "outputs": [
    {
     "data": {
      "text/plain": [
       "(1111,)"
      ]
     },
     "execution_count": 8,
     "metadata": {},
     "output_type": "execute_result"
    }
   ],
   "source": [
    "#target: ListPrice\n",
    "yy = df['ListPrice']\n",
    "yy.shape"
   ]
  },
  {
   "cell_type": "markdown",
   "metadata": {},
   "source": [
    "### Numerify data"
   ]
  },
  {
   "cell_type": "code",
   "execution_count": 9,
   "metadata": {
    "collapsed": false
   },
   "outputs": [
    {
     "name": "stderr",
     "output_type": "stream",
     "text": [
      "/home/student/anaconda2/envs/iaml/lib/python2.7/site-packages/ipykernel/__main__.py:3: SettingWithCopyWarning: \n",
      "A value is trying to be set on a copy of a slice from a DataFrame.\n",
      "Try using .loc[row_indexer,col_indexer] = value instead\n",
      "\n",
      "See the caveats in the documentation: http://pandas.pydata.org/pandas-docs/stable/indexing.html#indexing-view-versus-copy\n",
      "  app.launch_new_instance()\n"
     ]
    },
    {
     "data": {
      "text/plain": [
       "dtype('float64')"
      ]
     },
     "execution_count": 9,
     "metadata": {},
     "output_type": "execute_result"
    }
   ],
   "source": [
    "if XX['BATHS'].dtype == 'object':\n",
    "    XX['BATHS'] = [float(coord.replace(',', '.')) if isinstance(coord, basestring) else float(coord)\n",
    "            for coord in XX['BATHS']]\n",
    "XX['BATHS'].dtype"
   ]
  },
  {
   "cell_type": "markdown",
   "metadata": {},
   "source": [
    "#### CITY"
   ]
  },
  {
   "cell_type": "code",
   "execution_count": 10,
   "metadata": {
    "collapsed": false
   },
   "outputs": [
    {
     "name": "stdout",
     "output_type": "stream",
     "text": [
      "6\n"
     ]
    },
    {
     "data": {
      "text/plain": [
       "array([u'St. Paul', u'Shoreview', u'Minneapolis', u'Woodbury',\n",
       "       u'West St. Paul', u'Maplewood'], dtype=object)"
      ]
     },
     "execution_count": 10,
     "metadata": {},
     "output_type": "execute_result"
    }
   ],
   "source": [
    "print len(XX['CITY'].unique())\n",
    "XX['CITY'].unique()"
   ]
  },
  {
   "cell_type": "code",
   "execution_count": 11,
   "metadata": {
    "collapsed": false
   },
   "outputs": [
    {
     "data": {
      "text/plain": [
       "(1111, 17)"
      ]
     },
     "execution_count": 11,
     "metadata": {},
     "output_type": "execute_result"
    }
   ],
   "source": [
    "if 'CITY' in XX.columns:\n",
    "    XX = AdvancedOneHotEncoder().encodePandasColAndMerge(data_frame=XX, col_name='CITY')\n",
    "XX.shape"
   ]
  },
  {
   "cell_type": "markdown",
   "metadata": {},
   "source": [
    "#### ZIP"
   ]
  },
  {
   "cell_type": "code",
   "execution_count": 12,
   "metadata": {
    "collapsed": false
   },
   "outputs": [
    {
     "name": "stdout",
     "output_type": "stream",
     "text": [
      "86\n",
      "33\n"
     ]
    }
   ],
   "source": [
    "#comparing locations and zips lengths\n",
    "print len(df['LOCATION'].unique())\n",
    "print len(df['ZIP'].unique())"
   ]
  },
  {
   "cell_type": "code",
   "execution_count": 13,
   "metadata": {
    "collapsed": false
   },
   "outputs": [
    {
     "data": {
      "text/plain": [
       "(1111, 48)"
      ]
     },
     "execution_count": 13,
     "metadata": {},
     "output_type": "execute_result"
    }
   ],
   "source": [
    "if 'ZIP' in XX.columns:\n",
    "    XX = AdvancedOneHotEncoder().encodePandasColAndMerge(data_frame=XX, col_name='ZIP')\n",
    "XX.shape"
   ]
  },
  {
   "cell_type": "markdown",
   "metadata": {},
   "source": [
    "#### Year Built to Age"
   ]
  },
  {
   "cell_type": "code",
   "execution_count": 14,
   "metadata": {
    "collapsed": false
   },
   "outputs": [
    {
     "data": {
      "text/plain": [
       "(1111, 48)"
      ]
     },
     "execution_count": 14,
     "metadata": {},
     "output_type": "execute_result"
    }
   ],
   "source": [
    "if 'YearBuilt' in XX.columns:\n",
    "    XX['age'] = 2014 - XX['YearBuilt']\n",
    "    XX.drop(labels='YearBuilt', axis=1, inplace=True)\n",
    "assert 'age' in XX.columns\n",
    "XX.shape"
   ]
  },
  {
   "cell_type": "markdown",
   "metadata": {},
   "source": [
    "#### Has Garage to binary"
   ]
  },
  {
   "cell_type": "code",
   "execution_count": 15,
   "metadata": {
    "collapsed": false
   },
   "outputs": [
    {
     "data": {
      "text/plain": [
       "array([u'Garage', u'No Garage'], dtype=object)"
      ]
     },
     "execution_count": 15,
     "metadata": {},
     "output_type": "execute_result"
    }
   ],
   "source": [
    "XX['HasGarage'].unique()"
   ]
  },
  {
   "cell_type": "code",
   "execution_count": 16,
   "metadata": {
    "collapsed": false
   },
   "outputs": [
    {
     "data": {
      "text/plain": [
       "array([True, False], dtype=object)"
      ]
     },
     "execution_count": 16,
     "metadata": {},
     "output_type": "execute_result"
    }
   ],
   "source": [
    "if 'Garage' in XX['HasGarage'].unique():\n",
    "    XX['HasGarage'] = XX['HasGarage'] == 'Garage'\n",
    "XX['HasGarage'].unique()"
   ]
  },
  {
   "cell_type": "markdown",
   "metadata": {},
   "source": [
    "#### Short Sale to binary"
   ]
  },
  {
   "cell_type": "code",
   "execution_count": 17,
   "metadata": {
    "collapsed": false
   },
   "outputs": [
    {
     "data": {
      "text/plain": [
       "array([u'N', u'Y'], dtype=object)"
      ]
     },
     "execution_count": 17,
     "metadata": {},
     "output_type": "execute_result"
    }
   ],
   "source": [
    "XX['ShortSale'].unique()"
   ]
  },
  {
   "cell_type": "code",
   "execution_count": 18,
   "metadata": {
    "collapsed": false
   },
   "outputs": [
    {
     "data": {
      "text/plain": [
       "array([False, True], dtype=object)"
      ]
     },
     "execution_count": 18,
     "metadata": {},
     "output_type": "execute_result"
    }
   ],
   "source": [
    "if 'Y' in XX['ShortSale'].unique():\n",
    "    XX['ShortSale'] = XX['ShortSale'] == 'Y'\n",
    "XX['ShortSale'].unique()"
   ]
  },
  {
   "cell_type": "markdown",
   "metadata": {},
   "source": [
    "#### Latitude"
   ]
  },
  {
   "cell_type": "code",
   "execution_count": 19,
   "metadata": {
    "collapsed": false
   },
   "outputs": [
    {
     "data": {
      "text/plain": [
       "dtype('float64')"
      ]
     },
     "execution_count": 19,
     "metadata": {},
     "output_type": "execute_result"
    }
   ],
   "source": [
    "if XX['LATITUDE'].dtype == 'object':\n",
    "    XX['LATITUDE'] = [float(coord.replace(',', '.')) if isinstance(coord, basestring) else float(coord)\n",
    "            for coord in XX['LATITUDE']]\n",
    "XX['LATITUDE'].dtype"
   ]
  },
  {
   "cell_type": "markdown",
   "metadata": {},
   "source": [
    "#### Longitude"
   ]
  },
  {
   "cell_type": "code",
   "execution_count": 20,
   "metadata": {
    "collapsed": false
   },
   "outputs": [
    {
     "data": {
      "text/plain": [
       "dtype('float64')"
      ]
     },
     "execution_count": 20,
     "metadata": {},
     "output_type": "execute_result"
    }
   ],
   "source": [
    "if XX['LONGITUDE'].dtype == 'object':\n",
    "    XX['LONGITUDE'] = [float(coord.replace(',', '.')) if isinstance(coord, basestring) else float(coord)\n",
    "            for coord in XX['LONGITUDE']]\n",
    "XX['LONGITUDE'].dtype"
   ]
  },
  {
   "cell_type": "markdown",
   "metadata": {},
   "source": [
    "#### Location\n",
    "We are not converting location in one hot encoding since we are only using it for grouping and not for input in Machine Learning models"
   ]
  },
  {
   "cell_type": "code",
   "execution_count": 21,
   "metadata": {
    "collapsed": true
   },
   "outputs": [],
   "source": [
    "# if 'LOCATION' in XX.columns:\n",
    "#     XX = AdvancedOneHotEncoder().encodePandasColAndMerge(data_frame=XX, col_name='LOCATION',\n",
    "#                                                          #nan is not equal to itself\n",
    "#                                                          check_to_null = lambda vv: vv != vv)\n",
    "# XX.shape"
   ]
  },
  {
   "cell_type": "code",
   "execution_count": 22,
   "metadata": {
    "collapsed": true
   },
   "outputs": [],
   "source": [
    "from sklearn.preprocessing import LabelEncoder"
   ]
  },
  {
   "cell_type": "code",
   "execution_count": 23,
   "metadata": {
    "collapsed": false
   },
   "outputs": [
    {
     "name": "stderr",
     "output_type": "stream",
     "text": [
      "/home/student/anaconda2/envs/iaml/lib/python2.7/site-packages/numpy/lib/arraysetops.py:200: FutureWarning: numpy not_equal will not check object identity in the future. The comparison did not return the same result as suggested by the identity (`is`)) and will change.\n",
      "  flag = np.concatenate(([True], aux[1:] != aux[:-1]))\n"
     ]
    }
   ],
   "source": [
    "le = LabelEncoder().fit(XX['LOCATION'])"
   ]
  },
  {
   "cell_type": "code",
   "execution_count": 24,
   "metadata": {
    "collapsed": false
   },
   "outputs": [
    {
     "name": "stderr",
     "output_type": "stream",
     "text": [
      "/home/student/anaconda2/envs/iaml/lib/python2.7/site-packages/numpy/lib/arraysetops.py:259: FutureWarning: numpy equal will not check object identity in the future. The comparison did not return the same result as suggested by the identity (`is`)) and will change.\n",
      "  return aux[:-1][aux[1:] == aux[:-1]]\n"
     ]
    },
    {
     "data": {
      "text/plain": [
       "(1111,)"
      ]
     },
     "execution_count": 24,
     "metadata": {},
     "output_type": "execute_result"
    }
   ],
   "source": [
    "XX['LOCATION'] = le.transform(XX['LOCATION'])\n",
    "XX['LOCATION'].shape"
   ]
  },
  {
   "cell_type": "markdown",
   "metadata": {},
   "source": [
    "### Fill the Gaps\n",
    "Rule of thumb of KNN to pick a neighborhood of 1%\n",
    "\n",
    "Also here we hypothesize that the LabelEncoding will be enough information for KNN to work properly and fill the gaps.  \n",
    "More properly we could take the Longitude and Latitude values and see if the predicted ones from filling with KNN fall in one location or the other. But this is too cumbersome and adds little value to what we are trying to achieve here"
   ]
  },
  {
   "cell_type": "code",
   "execution_count": 25,
   "metadata": {
    "collapsed": false,
    "scrolled": true
   },
   "outputs": [
    {
     "data": {
      "text/plain": [
       "11"
      ]
     },
     "execution_count": 25,
     "metadata": {},
     "output_type": "execute_result"
    }
   ],
   "source": [
    "k_factor = int(floor(len(XX) * 0.01))\n",
    "k_factor"
   ]
  },
  {
   "cell_type": "code",
   "execution_count": 26,
   "metadata": {
    "collapsed": false
   },
   "outputs": [
    {
     "data": {
      "text/plain": [
       "ADDRESS          0\n",
       "CITY             0\n",
       "ZIP              0\n",
       "ListPrice        0\n",
       "BEDS             0\n",
       "BATHS            1\n",
       "LOCATION         6\n",
       "SQFT             0\n",
       "LotSize         64\n",
       "YearBuilt        0\n",
       "ParkingSpots     0\n",
       "HasGarage        0\n",
       "DOM              0\n",
       "SoldPrev         0\n",
       "Realty           0\n",
       "LATITUDE         6\n",
       "LONGITUDE        6\n",
       "ShortSale        0\n",
       "dtype: int64"
      ]
     },
     "execution_count": 26,
     "metadata": {},
     "output_type": "execute_result"
    }
   ],
   "source": [
    "df.isnull().sum()"
   ]
  },
  {
   "cell_type": "code",
   "execution_count": 27,
   "metadata": {
    "collapsed": false
   },
   "outputs": [
    {
     "name": "stdout",
     "output_type": "stream",
     "text": [
      "Imputing row 1/1111 with 0 missing, elapsed time: 0.392\n",
      "Imputing row 101/1111 with 1 missing, elapsed time: 0.394\n",
      "Imputing row 201/1111 with 1 missing, elapsed time: 0.394\n",
      "Imputing row 301/1111 with 0 missing, elapsed time: 0.395\n",
      "Imputing row 401/1111 with 0 missing, elapsed time: 0.395\n",
      "Imputing row 501/1111 with 0 missing, elapsed time: 0.396\n",
      "Imputing row 601/1111 with 0 missing, elapsed time: 0.396\n",
      "Imputing row 701/1111 with 0 missing, elapsed time: 0.397\n",
      "Imputing row 801/1111 with 0 missing, elapsed time: 0.397\n",
      "Imputing row 901/1111 with 0 missing, elapsed time: 0.398\n",
      "Imputing row 1001/1111 with 0 missing, elapsed time: 0.398\n",
      "Imputing row 1101/1111 with 0 missing, elapsed time: 0.399\n"
     ]
    }
   ],
   "source": [
    "if sum(XX.isnull().sum()) > 0:\n",
    "    XX[XX.columns] = KNN(k=k_factor).complete(XX.values)"
   ]
  },
  {
   "cell_type": "code",
   "execution_count": 28,
   "metadata": {
    "collapsed": false
   },
   "outputs": [
    {
     "data": {
      "text/plain": [
       "0"
      ]
     },
     "execution_count": 28,
     "metadata": {},
     "output_type": "execute_result"
    }
   ],
   "source": [
    "sum(XX.isnull().sum())"
   ]
  },
  {
   "cell_type": "markdown",
   "metadata": {},
   "source": [
    "# Question 5\n",
    "Short sales are sometimes good opportunities to get value for a house but there is also\n",
    "the risk the property will need a lot of work. How do short sales compare on the average\n",
    "square foot of the house, average price per square foot, and the average lot size?\n",
    "\n",
    "Now pivot this data based on the location field. Are short sales always a better deal than\n",
    "regular listings? Can we say with certainty this is true for every location? Why or why\n",
    "not?"
   ]
  },
  {
   "cell_type": "markdown",
   "metadata": {},
   "source": [
    "## Explanation what Short Sale is\n",
    "So we have the bank that has given a loan of 75000 to a person and he got a house\n",
    "\n",
    "Then after the years have passed this person is in financial crisis and he will lose the house, because he cannot repay and get a big credit score penalty: he will not be able to borrow money from the bank again\n",
    "\n",
    "Acting more responsibly he goes to the bank and say: I must sell this house.\n",
    "The bank decides what is the objective value of the house (according to objective goverment standards): 65000\n",
    "\n",
    "So now the bank, which cares more about money and cash rather than being a real estate agency they say: I cannot accept that but I will accept at 69000. So the bank will lose 6000.\n",
    "\n",
    "Now a real estate agent or any other buyer comes and he sees that this house is on Short Sale. The house owner could cost 85000 or more if the house owner decided to sell it with profit but now he sees it as a very good deal so he decides to proceed.\n",
    "\n",
    "Note that the original owner still gets a credit score penalty but a reduced one because he acted responsibly.\n",
    "\n",
    "Now of course if the house would NOT be competitive and the buyers are only willing to give 65000 which is its objective value (the house might be in bad condition) then the original owner in financial crisis might have a big problem because the bank only allows the sale on 69000"
   ]
  },
  {
   "cell_type": "markdown",
   "metadata": {},
   "source": [
    "### Answer"
   ]
  },
  {
   "cell_type": "code",
   "execution_count": 29,
   "metadata": {
    "collapsed": false
   },
   "outputs": [
    {
     "data": {
      "text/plain": [
       "Index([u'ADDRESS', u'CITY', u'ZIP', u'ListPrice', u'BEDS', u'BATHS',\n",
       "       u'LOCATION', u'SQFT', u'LotSize', u'YearBuilt', u'ParkingSpots',\n",
       "       u'HasGarage', u'DOM', u'SoldPrev', u'Realty', u'LATITUDE', u'LONGITUDE',\n",
       "       u'ShortSale'],\n",
       "      dtype='object')"
      ]
     },
     "execution_count": 29,
     "metadata": {},
     "output_type": "execute_result"
    }
   ],
   "source": [
    "df.columns"
   ]
  },
  {
   "cell_type": "code",
   "execution_count": 30,
   "metadata": {
    "collapsed": false
   },
   "outputs": [
    {
     "data": {
      "text/plain": [
       "86"
      ]
     },
     "execution_count": 30,
     "metadata": {},
     "output_type": "execute_result"
    }
   ],
   "source": [
    "df['LOCATION'].unique().size"
   ]
  },
  {
   "cell_type": "code",
   "execution_count": 31,
   "metadata": {
    "collapsed": false
   },
   "outputs": [
    {
     "data": {
      "text/plain": [
       "LOCATION      6\n",
       "SQFT          0\n",
       "LotSize      64\n",
       "ListPrice     0\n",
       "ShortSale     0\n",
       "dtype: int64"
      ]
     },
     "execution_count": 31,
     "metadata": {},
     "output_type": "execute_result"
    }
   ],
   "source": [
    "df[['LOCATION', 'SQFT', 'LotSize', 'ListPrice','ShortSale']].isnull().sum()"
   ]
  },
  {
   "cell_type": "markdown",
   "metadata": {},
   "source": [
    "Do we have any Short sales for those null values?"
   ]
  },
  {
   "cell_type": "code",
   "execution_count": 32,
   "metadata": {
    "collapsed": false
   },
   "outputs": [
    {
     "data": {
      "text/plain": [
       "True"
      ]
     },
     "execution_count": 32,
     "metadata": {},
     "output_type": "execute_result"
    }
   ],
   "source": [
    "doWeHaveShortSales = np.all(df[df['LotSize'].isnull()]['ShortSale'] == 'N') == False\n",
    "doWeHaveShortSales"
   ]
  },
  {
   "cell_type": "markdown",
   "metadata": {},
   "source": [
    "Yes we do have shortsales among those null values so this means we cannot just drop them\n",
    "\n",
    "We will include location in the XX table"
   ]
  },
  {
   "cell_type": "code",
   "execution_count": 33,
   "metadata": {
    "collapsed": false
   },
   "outputs": [
    {
     "name": "stdout",
     "output_type": "stream",
     "text": [
      "how many shortsales in total\n"
     ]
    },
    {
     "data": {
      "text/plain": [
       "73.0"
      ]
     },
     "execution_count": 33,
     "metadata": {},
     "output_type": "execute_result"
    }
   ],
   "source": [
    "print \"how many shortsales in total\"\n",
    "XX['ShortSale'].sum()"
   ]
  },
  {
   "cell_type": "code",
   "execution_count": 34,
   "metadata": {
    "collapsed": false
   },
   "outputs": [
    {
     "name": "stdout",
     "output_type": "stream",
     "text": [
      "ratio of shortsales ?\n"
     ]
    },
    {
     "data": {
      "text/plain": [
       "'6.57%'"
      ]
     },
     "execution_count": 34,
     "metadata": {},
     "output_type": "execute_result"
    }
   ],
   "source": [
    "print \"ratio of shortsales ?\"\n",
    "\"{:.2f}%\".format(100 * XX['ShortSale'].sum() / len(XX))"
   ]
  },
  {
   "cell_type": "code",
   "execution_count": 35,
   "metadata": {
    "collapsed": false
   },
   "outputs": [
    {
     "data": {
      "text/plain": [
       "(73, 48)"
      ]
     },
     "execution_count": 35,
     "metadata": {},
     "output_type": "execute_result"
    }
   ],
   "source": [
    "shortSales = XX[XX['ShortSale'] == True]\n",
    "shortSales.shape"
   ]
  },
  {
   "cell_type": "code",
   "execution_count": 36,
   "metadata": {
    "collapsed": false
   },
   "outputs": [
    {
     "data": {
      "text/plain": [
       "(1038, 48)"
      ]
     },
     "execution_count": 36,
     "metadata": {},
     "output_type": "execute_result"
    }
   ],
   "source": [
    "normals = XX[XX['ShortSale'] == False]\n",
    "normals.shape"
   ]
  },
  {
   "cell_type": "code",
   "execution_count": 37,
   "metadata": {
    "collapsed": false
   },
   "outputs": [
    {
     "data": {
      "text/plain": [
       "((73,), (1038,))"
      ]
     },
     "execution_count": 37,
     "metadata": {},
     "output_type": "execute_result"
    }
   ],
   "source": [
    "yy_shortSales = yy[XX['ShortSale'] == True]\n",
    "yy_normals = yy[XX['ShortSale'] == False]\n",
    "yy_shortSales.shape, yy_normals.shape"
   ]
  },
  {
   "cell_type": "markdown",
   "metadata": {},
   "source": [
    "### Compare attributes globally"
   ]
  },
  {
   "cell_type": "code",
   "execution_count": 38,
   "metadata": {
    "collapsed": false
   },
   "outputs": [
    {
     "data": {
      "text/plain": [
       "(1374.0, 1545.5, 1498.3698630136987, 1801.6281310211946)"
      ]
     },
     "execution_count": 38,
     "metadata": {},
     "output_type": "execute_result"
    }
   ],
   "source": [
    "shortSales['SQFT'].median(), normals['SQFT'].median(), shortSales['SQFT'].mean(), normals['SQFT'].mean()"
   ]
  },
  {
   "cell_type": "markdown",
   "metadata": {},
   "source": [
    "Shortsales have on average less sqft, which means are smaller houses than the rest of the houses"
   ]
  },
  {
   "cell_type": "code",
   "execution_count": 39,
   "metadata": {
    "collapsed": false
   },
   "outputs": [
    {
     "data": {
      "text/plain": [
       "(82.7653359298929, 92.88855678748338)"
      ]
     },
     "execution_count": 39,
     "metadata": {},
     "output_type": "execute_result"
    }
   ],
   "source": [
    "(yy_shortSales / shortSales['SQFT']).median(), (yy_shortSales / shortSales['SQFT']).mean()"
   ]
  },
  {
   "cell_type": "code",
   "execution_count": 40,
   "metadata": {
    "collapsed": false
   },
   "outputs": [
    {
     "data": {
      "text/plain": [
       "(119.95232102720091, 136.35636167738735)"
      ]
     },
     "execution_count": 40,
     "metadata": {},
     "output_type": "execute_result"
    }
   ],
   "source": [
    "(yy_normals / normals['SQFT']).median(), (yy_normals / normals['SQFT']).mean()"
   ]
  },
  {
   "cell_type": "markdown",
   "metadata": {},
   "source": [
    "Shortsales are not only smaller houses but they are also cheaper houses because the Price per SQFT is on average smaller"
   ]
  },
  {
   "cell_type": "code",
   "execution_count": 41,
   "metadata": {
    "collapsed": false
   },
   "outputs": [
    {
     "data": {
      "text/plain": [
       "(5662.0, 5227.0, 6302.178469297995, 6694.790914491739)"
      ]
     },
     "execution_count": 41,
     "metadata": {},
     "output_type": "execute_result"
    }
   ],
   "source": [
    "shortSales['LotSize'].median(), normals['LotSize'].median(), shortSales['LotSize'].mean(), normals['LotSize'].mean()"
   ]
  },
  {
   "cell_type": "markdown",
   "metadata": {},
   "source": [
    "Even the LotSize of short sales is smaller than the lotsize of normal houses so overall our judgement of this is that they are on average smaller and cheaper"
   ]
  },
  {
   "cell_type": "markdown",
   "metadata": {},
   "source": [
    "### Compare attributes per location"
   ]
  },
  {
   "cell_type": "markdown",
   "metadata": {},
   "source": [
    "#### adding the price inside the tables for convenience"
   ]
  },
  {
   "cell_type": "code",
   "execution_count": 42,
   "metadata": {
    "collapsed": false
   },
   "outputs": [
    {
     "name": "stdout",
     "output_type": "stream",
     "text": [
      "(73, 48)\n"
     ]
    },
    {
     "name": "stderr",
     "output_type": "stream",
     "text": [
      "/home/student/anaconda2/envs/iaml/lib/python2.7/site-packages/ipykernel/__main__.py:2: SettingWithCopyWarning: \n",
      "A value is trying to be set on a copy of a slice from a DataFrame.\n",
      "Try using .loc[row_indexer,col_indexer] = value instead\n",
      "\n",
      "See the caveats in the documentation: http://pandas.pydata.org/pandas-docs/stable/indexing.html#indexing-view-versus-copy\n",
      "  from ipykernel import kernelapp as app\n"
     ]
    },
    {
     "data": {
      "text/plain": [
       "(73, 49)"
      ]
     },
     "execution_count": 42,
     "metadata": {},
     "output_type": "execute_result"
    }
   ],
   "source": [
    "print shortSales.shape\n",
    "shortSales['price'] = yy_shortSales\n",
    "shortSales.shape"
   ]
  },
  {
   "cell_type": "code",
   "execution_count": 43,
   "metadata": {
    "collapsed": false
   },
   "outputs": [
    {
     "name": "stdout",
     "output_type": "stream",
     "text": [
      "(1038, 48)\n"
     ]
    },
    {
     "name": "stderr",
     "output_type": "stream",
     "text": [
      "/home/student/anaconda2/envs/iaml/lib/python2.7/site-packages/ipykernel/__main__.py:2: SettingWithCopyWarning: \n",
      "A value is trying to be set on a copy of a slice from a DataFrame.\n",
      "Try using .loc[row_indexer,col_indexer] = value instead\n",
      "\n",
      "See the caveats in the documentation: http://pandas.pydata.org/pandas-docs/stable/indexing.html#indexing-view-versus-copy\n",
      "  from ipykernel import kernelapp as app\n"
     ]
    },
    {
     "data": {
      "text/plain": [
       "(1038, 49)"
      ]
     },
     "execution_count": 43,
     "metadata": {},
     "output_type": "execute_result"
    }
   ],
   "source": [
    "print normals.shape\n",
    "normals['price'] = yy_normals\n",
    "normals.shape"
   ]
  },
  {
   "cell_type": "markdown",
   "metadata": {},
   "source": [
    "#### doing the actual comparison"
   ]
  },
  {
   "cell_type": "code",
   "execution_count": 44,
   "metadata": {
    "collapsed": false
   },
   "outputs": [
    {
     "data": {
      "text/plain": [
       "(34, 3)"
      ]
     },
     "execution_count": 44,
     "metadata": {},
     "output_type": "execute_result"
    }
   ],
   "source": [
    "short_sale_sizes_per_loc = shortSales.groupby(by='LOCATION').median()[['SQFT', 'LotSize', 'price']]\n",
    "short_sale_sizes_per_loc.shape"
   ]
  },
  {
   "cell_type": "code",
   "execution_count": 45,
   "metadata": {
    "collapsed": false
   },
   "outputs": [
    {
     "data": {
      "text/plain": [
       "(85, 3)"
      ]
     },
     "execution_count": 45,
     "metadata": {},
     "output_type": "execute_result"
    }
   ],
   "source": [
    "normals_sizes_per_loc = normals.groupby(by='LOCATION').median()[['SQFT', 'LotSize', 'price']]\n",
    "normals_sizes_per_loc.shape"
   ]
  },
  {
   "cell_type": "markdown",
   "metadata": {},
   "source": [
    "From the above we notice that there are locations that have no shortsales at all in our dataset, so we cannot do a comparison for these cases"
   ]
  },
  {
   "cell_type": "code",
   "execution_count": 46,
   "metadata": {
    "collapsed": false
   },
   "outputs": [
    {
     "data": {
      "text/plain": [
       "{20.0}"
      ]
     },
     "execution_count": 46,
     "metadata": {},
     "output_type": "execute_result"
    }
   ],
   "source": [
    "set(short_sale_sizes_per_loc.index).difference(normals_sizes_per_loc.index)"
   ]
  },
  {
   "cell_type": "markdown",
   "metadata": {},
   "source": [
    "Interesting!!! Interestingly enough there are two locations where ONLY shortsales exist!"
   ]
  },
  {
   "cell_type": "code",
   "execution_count": 47,
   "metadata": {
    "collapsed": false
   },
   "outputs": [
    {
     "data": {
      "text/plain": [
       "33"
      ]
     },
     "execution_count": 47,
     "metadata": {},
     "output_type": "execute_result"
    }
   ],
   "source": [
    "locations_with_both = set(short_sale_sizes_per_loc.index).intersection(normals_sizes_per_loc.index)\n",
    "len(locations_with_both)"
   ]
  },
  {
   "cell_type": "code",
   "execution_count": 48,
   "metadata": {
    "collapsed": false
   },
   "outputs": [
    {
     "data": {
      "text/html": [
       "<div>\n",
       "<table border=\"1\" class=\"dataframe\">\n",
       "  <thead>\n",
       "    <tr style=\"text-align: right;\">\n",
       "      <th></th>\n",
       "      <th>SQFT_ss</th>\n",
       "      <th>LotSize_ss</th>\n",
       "      <th>price_ss</th>\n",
       "      <th>SQFT</th>\n",
       "      <th>LotSize</th>\n",
       "      <th>price</th>\n",
       "    </tr>\n",
       "    <tr>\n",
       "      <th>LOCATION</th>\n",
       "      <th></th>\n",
       "      <th></th>\n",
       "      <th></th>\n",
       "      <th></th>\n",
       "      <th></th>\n",
       "      <th></th>\n",
       "    </tr>\n",
       "  </thead>\n",
       "  <tbody>\n",
       "    <tr>\n",
       "      <th>0.0</th>\n",
       "      <td>1133.0</td>\n",
       "      <td>8276.0</td>\n",
       "      <td>84900</td>\n",
       "      <td>1694.0</td>\n",
       "      <td>5227.000000</td>\n",
       "      <td>174900</td>\n",
       "    </tr>\n",
       "    <tr>\n",
       "      <th>1.0</th>\n",
       "      <td>1485.5</td>\n",
       "      <td>8058.0</td>\n",
       "      <td>182450</td>\n",
       "      <td>1681.0</td>\n",
       "      <td>5662.000000</td>\n",
       "      <td>249900</td>\n",
       "    </tr>\n",
       "    <tr>\n",
       "      <th>3.0</th>\n",
       "      <td>1410.0</td>\n",
       "      <td>5009.0</td>\n",
       "      <td>162450</td>\n",
       "      <td>1453.0</td>\n",
       "      <td>5227.000000</td>\n",
       "      <td>187500</td>\n",
       "    </tr>\n",
       "    <tr>\n",
       "      <th>4.0</th>\n",
       "      <td>2330.0</td>\n",
       "      <td>9147.0</td>\n",
       "      <td>164900</td>\n",
       "      <td>1702.0</td>\n",
       "      <td>7405.000000</td>\n",
       "      <td>164900</td>\n",
       "    </tr>\n",
       "    <tr>\n",
       "      <th>9.0</th>\n",
       "      <td>1879.0</td>\n",
       "      <td>5444.5</td>\n",
       "      <td>140400</td>\n",
       "      <td>1450.0</td>\n",
       "      <td>5328.075558</td>\n",
       "      <td>174843</td>\n",
       "    </tr>\n",
       "  </tbody>\n",
       "</table>\n",
       "</div>"
      ],
      "text/plain": [
       "          SQFT_ss  LotSize_ss  price_ss    SQFT      LotSize   price\n",
       "LOCATION                                                            \n",
       "0.0        1133.0      8276.0     84900  1694.0  5227.000000  174900\n",
       "1.0        1485.5      8058.0    182450  1681.0  5662.000000  249900\n",
       "3.0        1410.0      5009.0    162450  1453.0  5227.000000  187500\n",
       "4.0        2330.0      9147.0    164900  1702.0  7405.000000  164900\n",
       "9.0        1879.0      5444.5    140400  1450.0  5328.075558  174843"
      ]
     },
     "execution_count": 48,
     "metadata": {},
     "output_type": "execute_result"
    }
   ],
   "source": [
    "comp_table = pd.concat( (short_sale_sizes_per_loc.loc[locations_with_both].rename(\n",
    "    columns={'SQFT': 'SQFT_ss', 'LotSize':'LotSize_ss', 'price':'price_ss'}),\n",
    "            normals_sizes_per_loc.loc[locations_with_both]), axis=1)\n",
    "comp_table.head(n=5)"
   ]
  },
  {
   "cell_type": "markdown",
   "metadata": {},
   "source": [
    "It is important also to count how many shortsales we have per location"
   ]
  },
  {
   "cell_type": "code",
   "execution_count": 49,
   "metadata": {
    "collapsed": false
   },
   "outputs": [],
   "source": [
    "counts_short_sales = shortSales.groupby(by='LOCATION').count()[shortSales.columns[:1]].rename(\n",
    "    columns={shortSales.columns[0]: 'count'})"
   ]
  },
  {
   "cell_type": "code",
   "execution_count": null,
   "metadata": {
    "collapsed": false
   },
   "outputs": [],
   "source": []
  },
  {
   "cell_type": "code",
   "execution_count": 50,
   "metadata": {
    "collapsed": false
   },
   "outputs": [
    {
     "data": {
      "text/html": [
       "<div>\n",
       "<table border=\"1\" class=\"dataframe\">\n",
       "  <thead>\n",
       "    <tr style=\"text-align: right;\">\n",
       "      <th></th>\n",
       "      <th>LOCATION</th>\n",
       "      <th>count</th>\n",
       "    </tr>\n",
       "  </thead>\n",
       "  <tbody>\n",
       "    <tr>\n",
       "      <th>0</th>\n",
       "      <td>25.0</td>\n",
       "      <td>9</td>\n",
       "    </tr>\n",
       "    <tr>\n",
       "      <th>1</th>\n",
       "      <td>73.0</td>\n",
       "      <td>6</td>\n",
       "    </tr>\n",
       "    <tr>\n",
       "      <th>2</th>\n",
       "      <td>53.0</td>\n",
       "      <td>5</td>\n",
       "    </tr>\n",
       "    <tr>\n",
       "      <th>3</th>\n",
       "      <td>57.0</td>\n",
       "      <td>4</td>\n",
       "    </tr>\n",
       "    <tr>\n",
       "      <th>4</th>\n",
       "      <td>15.0</td>\n",
       "      <td>4</td>\n",
       "    </tr>\n",
       "    <tr>\n",
       "      <th>5</th>\n",
       "      <td>23.0</td>\n",
       "      <td>3</td>\n",
       "    </tr>\n",
       "    <tr>\n",
       "      <th>6</th>\n",
       "      <td>4.0</td>\n",
       "      <td>3</td>\n",
       "    </tr>\n",
       "    <tr>\n",
       "      <th>7</th>\n",
       "      <td>40.0</td>\n",
       "      <td>3</td>\n",
       "    </tr>\n",
       "    <tr>\n",
       "      <th>8</th>\n",
       "      <td>72.0</td>\n",
       "      <td>3</td>\n",
       "    </tr>\n",
       "    <tr>\n",
       "      <th>9</th>\n",
       "      <td>1.0</td>\n",
       "      <td>2</td>\n",
       "    </tr>\n",
       "    <tr>\n",
       "      <th>10</th>\n",
       "      <td>74.0</td>\n",
       "      <td>2</td>\n",
       "    </tr>\n",
       "    <tr>\n",
       "      <th>11</th>\n",
       "      <td>28.0</td>\n",
       "      <td>2</td>\n",
       "    </tr>\n",
       "    <tr>\n",
       "      <th>12</th>\n",
       "      <td>75.0</td>\n",
       "      <td>2</td>\n",
       "    </tr>\n",
       "    <tr>\n",
       "      <th>13</th>\n",
       "      <td>13.0</td>\n",
       "      <td>2</td>\n",
       "    </tr>\n",
       "    <tr>\n",
       "      <th>14</th>\n",
       "      <td>10.0</td>\n",
       "      <td>2</td>\n",
       "    </tr>\n",
       "  </tbody>\n",
       "</table>\n",
       "</div>"
      ],
      "text/plain": [
       "    LOCATION  count\n",
       "0       25.0      9\n",
       "1       73.0      6\n",
       "2       53.0      5\n",
       "3       57.0      4\n",
       "4       15.0      4\n",
       "5       23.0      3\n",
       "6        4.0      3\n",
       "7       40.0      3\n",
       "8       72.0      3\n",
       "9        1.0      2\n",
       "10      74.0      2\n",
       "11      28.0      2\n",
       "12      75.0      2\n",
       "13      13.0      2\n",
       "14      10.0      2"
      ]
     },
     "execution_count": 50,
     "metadata": {},
     "output_type": "execute_result"
    }
   ],
   "source": [
    "temp_df = counts_short_sales\n",
    "temp_df = temp_df.sort_values(by='count', ascending=False)[:10].reset_index()\n",
    "temp_df"
   ]
  },
  {
   "cell_type": "code",
   "execution_count": 51,
   "metadata": {
    "collapsed": false
   },
   "outputs": [
    {
     "data": {
      "text/plain": [
       "array([u'Greater East Side', u'Victory', u'North End/South Como',\n",
       "       u'Payne-Phalen', u\"Dayton's Bluff\", u'Folwell',\n",
       "       u'Battle Creek-Highwood', u'Longfellow', u'Thomas-Dale (Frogtown)',\n",
       "       u'Armatage', u'Waite Park', u'Hawthorne', u'Webber - Camden',\n",
       "       u'Cooper', u'Cleveland'], dtype=object)"
      ]
     },
     "execution_count": 51,
     "metadata": {},
     "output_type": "execute_result"
    }
   ],
   "source": [
    "temp_locs =le.inverse_transform( map(lambda xx: int(xx), temp_df['LOCATION'].values) )\n",
    "temp_locs"
   ]
  },
  {
   "cell_type": "code",
   "execution_count": 52,
   "metadata": {
    "collapsed": false
   },
   "outputs": [
    {
     "data": {
      "image/png": "[encoded data removed]",
      "text/plain": [
       "<matplotlib.figure.Figure at 0x7f1adbbeaf10>"
      ]
     },
     "metadata": {},
     "output_type": "display_data"
    }
   ],
   "source": [
    "sns.set(font_scale=1.5)\n",
    "plt.figure(figsize=(6,4))\n",
    "sns.barplot(temp_df['count'].values,temp_locs #estimator=lambda x:x[0],\n",
    "            )\n",
    "plt.xlabel('count short sales')\n",
    "plt.ylabel('Location')\n",
    "plt.margins(0.02)\n",
    "plt.xticks(range(10))\n",
    "x0, x1, y0, y1 = plt.axis()\n",
    "plot_margin = 0.1\n",
    "plt.axis((x0,\n",
    "          x1 + plot_margin,\n",
    "          y0,\n",
    "          y1))\n",
    "plt.show()"
   ]
  },
  {
   "cell_type": "markdown",
   "metadata": {},
   "source": [
    "We do not have really many samples per location"
   ]
  },
  {
   "cell_type": "code",
   "execution_count": 53,
   "metadata": {
    "collapsed": false
   },
   "outputs": [
    {
     "data": {
      "text/plain": [
       "count    9\n",
       "Name: 25.0, dtype: int64"
      ]
     },
     "execution_count": 53,
     "metadata": {},
     "output_type": "execute_result"
    }
   ],
   "source": [
    "most_short_sales_area = counts_short_sales.iloc[np.argmax(counts_short_sales.values)]\n",
    "most_short_sales_area"
   ]
  },
  {
   "cell_type": "code",
   "execution_count": 54,
   "metadata": {
    "collapsed": false
   },
   "outputs": [
    {
     "data": {
      "text/plain": [
       "25"
      ]
     },
     "execution_count": 54,
     "metadata": {},
     "output_type": "execute_result"
    }
   ],
   "source": [
    "target_location = int(most_short_sales_area.name)\n",
    "target_location"
   ]
  },
  {
   "cell_type": "code",
   "execution_count": 55,
   "metadata": {
    "collapsed": false
   },
   "outputs": [
    {
     "name": "stdout",
     "output_type": "stream",
     "text": [
      "So location Greater East Side has the most short sales\n"
     ]
    }
   ],
   "source": [
    "location_name = df.loc[XX[XX['LOCATION'] == target_location].head(1).index[0], 'LOCATION']\n",
    "print \"So location {} has the most short sales\".format(location_name)"
   ]
  },
  {
   "cell_type": "markdown",
   "metadata": {},
   "source": [
    "Let's answer the question if everywhere is cheaper and smaller, on average, when a Short sale case is involved"
   ]
  },
  {
   "cell_type": "code",
   "execution_count": 56,
   "metadata": {
    "collapsed": false
   },
   "outputs": [
    {
     "data": {
      "text/plain": [
       "(33, 6)"
      ]
     },
     "execution_count": 56,
     "metadata": {},
     "output_type": "execute_result"
    }
   ],
   "source": [
    "comp_table.shape"
   ]
  },
  {
   "cell_type": "code",
   "execution_count": 57,
   "metadata": {
    "collapsed": false
   },
   "outputs": [
    {
     "data": {
      "text/plain": [
       "LOCATION\n",
       "0.0    1133.0\n",
       "1.0    1485.5\n",
       "3.0    1410.0\n",
       "Name: SQFT_ss, dtype: float64"
      ]
     },
     "execution_count": 57,
     "metadata": {},
     "output_type": "execute_result"
    }
   ],
   "source": [
    "comp_table['SQFT_ss'][:3]"
   ]
  },
  {
   "cell_type": "code",
   "execution_count": 58,
   "metadata": {
    "collapsed": false
   },
   "outputs": [
    {
     "data": {
      "text/plain": [
       "(33, 1)"
      ]
     },
     "execution_count": 58,
     "metadata": {},
     "output_type": "execute_result"
    }
   ],
   "source": [
    "sqft_comp = (comp_table['SQFT_ss'] < comp_table['SQFT']).to_frame('sqft')\n",
    "sqft_comp.shape"
   ]
  },
  {
   "cell_type": "code",
   "execution_count": 59,
   "metadata": {
    "collapsed": false
   },
   "outputs": [
    {
     "data": {
      "text/plain": [
       "(33, 1)"
      ]
     },
     "execution_count": 59,
     "metadata": {},
     "output_type": "execute_result"
    }
   ],
   "source": [
    "lot_size_comp = (comp_table['LotSize_ss'] < comp_table['LotSize']).to_frame('lot_size')\n",
    "lot_size_comp.shape"
   ]
  },
  {
   "cell_type": "code",
   "execution_count": 60,
   "metadata": {
    "collapsed": false
   },
   "outputs": [
    {
     "data": {
      "text/plain": [
       "(33, 1)"
      ]
     },
     "execution_count": 60,
     "metadata": {},
     "output_type": "execute_result"
    }
   ],
   "source": [
    "price_comp = (comp_table['price_ss'] < comp_table['price']).to_frame('price')\n",
    "price_comp.shape"
   ]
  },
  {
   "cell_type": "code",
   "execution_count": 61,
   "metadata": {
    "collapsed": false
   },
   "outputs": [
    {
     "data": {
      "text/html": [
       "<div>\n",
       "<table border=\"1\" class=\"dataframe\">\n",
       "  <thead>\n",
       "    <tr style=\"text-align: right;\">\n",
       "      <th></th>\n",
       "      <th>is median SQFT smaller when shortsale</th>\n",
       "      <th>is median Lot Size smaller when shortsale</th>\n",
       "      <th>is median Listing Price smaller when shortsale</th>\n",
       "    </tr>\n",
       "  </thead>\n",
       "  <tbody>\n",
       "    <tr>\n",
       "      <th>Armatage</th>\n",
       "      <td>True</td>\n",
       "      <td>False</td>\n",
       "      <td>True</td>\n",
       "    </tr>\n",
       "    <tr>\n",
       "      <th>Willard - Hay</th>\n",
       "      <td>False</td>\n",
       "      <td>False</td>\n",
       "      <td>True</td>\n",
       "    </tr>\n",
       "    <tr>\n",
       "      <th>Howe</th>\n",
       "      <td>True</td>\n",
       "      <td>False</td>\n",
       "      <td>True</td>\n",
       "    </tr>\n",
       "    <tr>\n",
       "      <th>Northeast Park</th>\n",
       "      <td>True</td>\n",
       "      <td>True</td>\n",
       "      <td>True</td>\n",
       "    </tr>\n",
       "    <tr>\n",
       "      <th>Cleveland</th>\n",
       "      <td>False</td>\n",
       "      <td>False</td>\n",
       "      <td>True</td>\n",
       "    </tr>\n",
       "  </tbody>\n",
       "</table>\n",
       "</div>"
      ],
      "text/plain": [
       "               is median SQFT smaller when shortsale  \\\n",
       "Armatage                                        True   \n",
       "Willard - Hay                                  False   \n",
       "Howe                                            True   \n",
       "Northeast Park                                  True   \n",
       "Cleveland                                      False   \n",
       "\n",
       "               is median Lot Size smaller when shortsale  \\\n",
       "Armatage                                           False   \n",
       "Willard - Hay                                      False   \n",
       "Howe                                               False   \n",
       "Northeast Park                                      True   \n",
       "Cleveland                                          False   \n",
       "\n",
       "               is median Listing Price smaller when shortsale  \n",
       "Armatage                                                 True  \n",
       "Willard - Hay                                            True  \n",
       "Howe                                                     True  \n",
       "Northeast Park                                           True  \n",
       "Cleveland                                                True  "
      ]
     },
     "execution_count": 61,
     "metadata": {},
     "output_type": "execute_result"
    }
   ],
   "source": [
    "comparison = pd.concat((sqft_comp, lot_size_comp, price_comp), axis=1)\n",
    "comparison.set_index(le.inverse_transform( map(lambda xx: int(xx), comparison.index) )).sample(n=5).rename(\n",
    "    columns={\n",
    "        'sqft': 'is median SQFT smaller when shortsale',\n",
    "        'lot_size': 'is median Lot Size smaller when shortsale',\n",
    "        'price': 'is median Listing Price smaller when shortsale',\n",
    "    })"
   ]
  },
  {
   "cell_type": "markdown",
   "metadata": {},
   "source": [
    "So we observe that per location is different"
   ]
  },
  {
   "cell_type": "markdown",
   "metadata": {},
   "source": [
    "## Compare with objective value\n",
    "In this dataset we do NOT have the objective value of a house as this is set by the government\n",
    "\n",
    "But we can estimate that from the shortsales since we could hypothesize that the shortsales represent a price very near the objective value of the house\n",
    "\n",
    "We consider in our simplistic example that the government has only available the sqft and the lotsize and this is how the objective value of the house is determined but this is done per location"
   ]
  },
  {
   "cell_type": "code",
   "execution_count": 62,
   "metadata": {
    "collapsed": false
   },
   "outputs": [
    {
     "data": {
      "text/plain": [
       "(9, 49)"
      ]
     },
     "execution_count": 62,
     "metadata": {},
     "output_type": "execute_result"
    }
   ],
   "source": [
    "shortSales30 = shortSales[shortSales['LOCATION']==target_location]\n",
    "shortSales30.shape"
   ]
  },
  {
   "cell_type": "code",
   "execution_count": 63,
   "metadata": {
    "collapsed": false
   },
   "outputs": [
    {
     "data": {
      "text/plain": [
       "((9, 2), (9,))"
      ]
     },
     "execution_count": 63,
     "metadata": {},
     "output_type": "execute_result"
    }
   ],
   "source": [
    "inputs = shortSales30[['SQFT', 'LotSize']]\n",
    "targets = shortSales30['price']\n",
    "inputs.shape, targets.shape"
   ]
  },
  {
   "cell_type": "markdown",
   "metadata": {},
   "source": [
    "We also assume the government has a simplistic linear formula to derive the objective value of a house"
   ]
  },
  {
   "cell_type": "code",
   "execution_count": 64,
   "metadata": {
    "collapsed": false
   },
   "outputs": [
    {
     "data": {
      "text/plain": [
       "LinearRegression(copy_X=True, fit_intercept=True, n_jobs=1, normalize=True)"
      ]
     },
     "execution_count": 64,
     "metadata": {},
     "output_type": "execute_result"
    }
   ],
   "source": [
    "gov_model = LinearRegression(normalize=True).fit(inputs, targets)\n",
    "gov_model"
   ]
  },
  {
   "cell_type": "code",
   "execution_count": 65,
   "metadata": {
    "collapsed": false
   },
   "outputs": [
    {
     "data": {
      "text/plain": [
       "0.52658123401629198"
      ]
     },
     "execution_count": 65,
     "metadata": {},
     "output_type": "execute_result"
    }
   ],
   "source": [
    "gov_model.score(inputs, targets)"
   ]
  },
  {
   "cell_type": "markdown",
   "metadata": {},
   "source": [
    "First of all we define what a good deal is. A good deal we say is defined if we have the price nearest to the objective value, otherwise the price is\n",
    "\n",
    "So now using this model we calculate the objective value of all the houses and then we subtract the actual value to see how good of a deal we get"
   ]
  },
  {
   "cell_type": "code",
   "execution_count": 66,
   "metadata": {
    "collapsed": false
   },
   "outputs": [
    {
     "data": {
      "text/plain": [
       "(52, 48)"
      ]
     },
     "execution_count": 66,
     "metadata": {},
     "output_type": "execute_result"
    }
   ],
   "source": [
    "XX30 = XX[XX['LOCATION'] == target_location]\n",
    "XX30.shape"
   ]
  },
  {
   "cell_type": "code",
   "execution_count": 67,
   "metadata": {
    "collapsed": false
   },
   "outputs": [
    {
     "data": {
      "text/plain": [
       "(52,)"
      ]
     },
     "execution_count": 67,
     "metadata": {},
     "output_type": "execute_result"
    }
   ],
   "source": [
    "objective_prices = gov_model.predict(XX30[['SQFT', 'LotSize']])\n",
    "objective_prices.shape"
   ]
  },
  {
   "cell_type": "code",
   "execution_count": 68,
   "metadata": {
    "collapsed": false
   },
   "outputs": [
    {
     "data": {
      "text/plain": [
       "(52,)"
      ]
     },
     "execution_count": 68,
     "metadata": {},
     "output_type": "execute_result"
    }
   ],
   "source": [
    "list_prices = yy[XX['LOCATION'] == target_location]\n",
    "list_prices.shape"
   ]
  },
  {
   "cell_type": "code",
   "execution_count": 69,
   "metadata": {
    "collapsed": false
   },
   "outputs": [
    {
     "data": {
      "text/plain": [
       "(52,)"
      ]
     },
     "execution_count": 69,
     "metadata": {},
     "output_type": "execute_result"
    }
   ],
   "source": [
    "how_good_deal = objective_prices - list_prices\n",
    "how_good_deal.shape"
   ]
  },
  {
   "cell_type": "code",
   "execution_count": 70,
   "metadata": {
    "collapsed": false
   },
   "outputs": [
    {
     "data": {
      "text/plain": [
       "(43,)"
      ]
     },
     "execution_count": 70,
     "metadata": {},
     "output_type": "execute_result"
    }
   ],
   "source": [
    "how_good_deal_normals = how_good_deal[XX30['ShortSale']==False]\n",
    "how_good_deal_normals.shape"
   ]
  },
  {
   "cell_type": "code",
   "execution_count": 71,
   "metadata": {
    "collapsed": false
   },
   "outputs": [
    {
     "data": {
      "text/plain": [
       "(9,)"
      ]
     },
     "execution_count": 71,
     "metadata": {},
     "output_type": "execute_result"
    }
   ],
   "source": [
    "how_good_deal_ss = how_good_deal[XX30['ShortSale']==True]\n",
    "how_good_deal_ss.shape"
   ]
  },
  {
   "cell_type": "code",
   "execution_count": 72,
   "metadata": {
    "collapsed": false
   },
   "outputs": [
    {
     "data": {
      "text/plain": [
       "ID\n",
       "4421741    -37614.246948\n",
       "4440232    -49876.518195\n",
       "4424954     -7100.212974\n",
       "4424069     69676.473537\n",
       "4437449    -31944.025380\n",
       "4421949    -21184.147989\n",
       "4413767    -30822.561691\n",
       "4439700    -76895.875885\n",
       "4440678     -7470.938624\n",
       "4429604    -67797.589009\n",
       "4428009    -48789.702553\n",
       "4433509    -13563.127955\n",
       "4436989    -20447.015818\n",
       "4379870    -14876.096835\n",
       "4429472     -4254.039384\n",
       "4440663      7195.656654\n",
       "4427697    -74381.542902\n",
       "4440256     21162.355735\n",
       "4440914    -70387.451376\n",
       "4339473     96633.265700\n",
       "4440058      4719.436799\n",
       "4439595    -22778.677676\n",
       "4406207   -110237.998174\n",
       "4431781    -29154.636594\n",
       "4437522    -44067.156029\n",
       "4436904    -14026.942633\n",
       "4428053     15519.728103\n",
       "4437323    -45445.965535\n",
       "4433516    -15798.492523\n",
       "4441218    -59572.162258\n",
       "4394200    -22860.921133\n",
       "4435052     -6970.020848\n",
       "4415256    -26026.820244\n",
       "4394547      4605.942279\n",
       "4422118    -28247.459324\n",
       "4440793     23686.289128\n",
       "4411464    -15806.486330\n",
       "4439702    -25819.239723\n",
       "4428765    -50538.924877\n",
       "4434676    -24942.675908\n",
       "4440290     -5332.064694\n",
       "4422331    -21369.347851\n",
       "4412582    -41845.130919\n",
       "Name: ListPrice, dtype: float64"
      ]
     },
     "execution_count": 72,
     "metadata": {},
     "output_type": "execute_result"
    }
   ],
   "source": [
    "how_good_deal_normals"
   ]
  },
  {
   "cell_type": "code",
   "execution_count": 73,
   "metadata": {
    "collapsed": false
   },
   "outputs": [
    {
     "data": {
      "text/plain": [
       "ID\n",
       "4398012   -19807.469480\n",
       "4434836      -91.628477\n",
       "4441246    36550.870638\n",
       "4391715     7636.004320\n",
       "4427450    33029.326035\n",
       "4432160   -23041.793552\n",
       "4388484    -4777.593703\n",
       "4427000     8020.401100\n",
       "4397338   -37518.116882\n",
       "Name: ListPrice, dtype: float64"
      ]
     },
     "execution_count": 73,
     "metadata": {},
     "output_type": "execute_result"
    }
   ],
   "source": [
    "how_good_deal_ss"
   ]
  },
  {
   "cell_type": "code",
   "execution_count": 74,
   "metadata": {
    "collapsed": false
   },
   "outputs": [
    {
     "data": {
      "image/png": "[encoded data removed]",
      "text/plain": [
       "<matplotlib.figure.Figure at 0x7f1adbb23d10>"
      ]
     },
     "metadata": {},
     "output_type": "display_data"
    }
   ],
   "source": [
    "sns.set(font_scale=2)\n",
    "plt.figure(figsize=(17,7))\n",
    "plt.hist(how_good_deal_normals, histtype='step', color='black', linewidth=2, label='normal sale')\n",
    "plt.hist(how_good_deal_ss, histtype='step', color='red', linewidth=2, label='short sale')\n",
    "plt.xlabel(u'objective value — listing price')\n",
    "plt.ylabel('count')\n",
    "plt.legend(loc='best')\n",
    "plt.show()"
   ]
  },
  {
   "cell_type": "markdown",
   "metadata": {},
   "source": [
    "#### conclusions\n",
    "Comparing this plot we see that there are many cases where the houses which are NOT short sales are quite expensive\n",
    "\n",
    "but there are also cases where the short sales seem to be higher than the objective value of the house\n",
    "\n",
    "The surprise is that there are cases where the value is much better than the objective value of the house and this is not a short sale.  \n",
    "We could hypothesize that this is a house whose residents are in a financial crisis but they don't owe anything to a bank or to another lender in order to set it as short sale"
   ]
  },
  {
   "cell_type": "markdown",
   "metadata": {},
   "source": [
    "#### note\n",
    "Finally we must stress that we cannot say that for other locations since we only have a very limited amount of short sales per location from which we could determine the weights that play a role for estimating the objective value"
   ]
  },
  {
   "cell_type": "markdown",
   "metadata": {},
   "source": [
    "# Extra exploration"
   ]
  },
  {
   "cell_type": "code",
   "execution_count": 75,
   "metadata": {
    "collapsed": false
   },
   "outputs": [
    {
     "data": {
      "text/plain": [
       "<matplotlib.axes._subplots.AxesSubplot at 0x7f1adbb23b10>"
      ]
     },
     "execution_count": 75,
     "metadata": {},
     "output_type": "execute_result"
    },
    {
     "data": {
      "image/png": "[encoded data removed]",
      "text/plain": [
       "<matplotlib.figure.Figure at 0x7f1b26440310>"
      ]
     },
     "metadata": {},
     "output_type": "display_data"
    }
   ],
   "source": [
    "sns.barplot(data=df, x='ShortSale', y='ListPrice')"
   ]
  },
  {
   "cell_type": "code",
   "execution_count": 76,
   "metadata": {
    "collapsed": true
   },
   "outputs": [],
   "source": [
    "from matplotlib import rcParams"
   ]
  },
  {
   "cell_type": "code",
   "execution_count": 77,
   "metadata": {
    "collapsed": true
   },
   "outputs": [],
   "source": [
    "rcParams['figure.figsize'] = 15, 7"
   ]
  },
  {
   "cell_type": "code",
   "execution_count": 78,
   "metadata": {
    "collapsed": true
   },
   "outputs": [],
   "source": [
    "from ecdf import ecdf, plot_ecdf_bootstrap_replicates"
   ]
  },
  {
   "cell_type": "code",
   "execution_count": 79,
   "metadata": {
    "collapsed": false
   },
   "outputs": [
    {
     "data": {
      "text/plain": [
       "(1111,)"
      ]
     },
     "execution_count": 79,
     "metadata": {},
     "output_type": "execute_result"
    }
   ],
   "source": [
    "yy.shape"
   ]
  },
  {
   "cell_type": "code",
   "execution_count": 80,
   "metadata": {
    "collapsed": true
   },
   "outputs": [],
   "source": [
    "short_sale_prices = yy[XX['ShortSale'] == 1]\n",
    "normal_sale_prices = yy[XX['ShortSale'] == 0]"
   ]
  },
  {
   "cell_type": "code",
   "execution_count": 81,
   "metadata": {
    "collapsed": false
   },
   "outputs": [
    {
     "ename": "SyntaxError",
     "evalue": "invalid syntax (<ipython-input-81-077d92473484>, line 1)",
     "output_type": "error",
     "traceback": [
      "\u001b[1;36m  File \u001b[1;32m\"<ipython-input-81-077d92473484>\"\u001b[1;36m, line \u001b[1;32m1\u001b[0m\n\u001b[1;33m    plot_ecdf_bootstrap_replicates(100, random_state, , 'short sale')\u001b[0m\n\u001b[1;37m                                                      ^\u001b[0m\n\u001b[1;31mSyntaxError\u001b[0m\u001b[1;31m:\u001b[0m invalid syntax\n"
     ]
    }
   ],
   "source": [
    "plot_ecdf_bootstrap_replicates(100, random_state, , 'short sale')\n",
    "plot_ecdf_bootstrap_replicates(10, random_state, yy[XX['ShortSale'] == 0], 'NOT short sale')\n",
    "plt.xscale('log')\n",
    "#ax = plt.gca()\n",
    "leg = plt.legend(['short sale: blue', 'normal sale: green'], loc='best')\n",
    "leg.legendHandles[0].set_color('red')\n",
    "leg.legendHandles[1].set_color('yellow')\n",
    "plt.show()"
   ]
  },
  {
   "cell_type": "markdown",
   "metadata": {},
   "source": [
    "From the ecdf it is obvious that the distributions are quite different.\n",
    "\n",
    "So fir a price of 100,000 we have already 40% of shortsales being below that while only ~20% of normal sales are below this price"
   ]
  },
  {
   "cell_type": "markdown",
   "metadata": {},
   "source": [
    "# Hypothesis check. Do short sales prices have the same distribution?\n",
    "T-statistic: Our test statistic will be the mean value and the variance\n",
    "\n",
    "Null hypothesis: We are saying that shortsale prices have the same distribution as the rest of the normal prices\n",
    "\n",
    "Under this assumption we are going to permute the prices and measure our test metric lots of times\n",
    "\n",
    "If we get a measurement of a difference in the mean value only a few times then this means that we have to reject the null hypothesis"
   ]
  },
  {
   "cell_type": "code",
   "execution_count": 82,
   "metadata": {
    "collapsed": true
   },
   "outputs": [],
   "source": [
    "from permutation_replicates import draw_perm_reps"
   ]
  },
  {
   "cell_type": "code",
   "execution_count": 83,
   "metadata": {
    "collapsed": true
   },
   "outputs": [],
   "source": [
    "from test_statistics import diff_of_means"
   ]
  },
  {
   "cell_type": "code",
   "execution_count": 84,
   "metadata": {
    "collapsed": false
   },
   "outputs": [
    {
     "data": {
      "text/plain": [
       "138318.0999419326"
      ]
     },
     "execution_count": 84,
     "metadata": {},
     "output_type": "execute_result"
    }
   ],
   "source": [
    "observed_mean_diff = diff_of_means(normal_sale_prices, short_sale_prices)\n",
    "#keep the same order (first normal then short sales) below\n",
    "observed_mean_diff"
   ]
  },
  {
   "cell_type": "code",
   "execution_count": 85,
   "metadata": {
    "collapsed": true
   },
   "outputs": [],
   "source": [
    "#abs_diff_means = lambda aa, bb : abs(diff_of_means(aa,bb))"
   ]
  },
  {
   "cell_type": "code",
   "execution_count": 89,
   "metadata": {
    "collapsed": false
   },
   "outputs": [
    {
     "name": "stdout",
     "output_type": "stream",
     "text": [
      "CPU times: user 6.3 s, sys: 0 ns, total: 6.3 s\n",
      "Wall time: 6.29 s\n"
     ]
    }
   ],
   "source": [
    "%%time\n",
    "diff_means = draw_perm_reps(normal_sale_prices, short_sale_prices, diff_of_means, size=100000,\n",
    "                                 random_state = random_state)\n",
    "diff_means = np.array(diff_means)\n",
    "diff_means.shape"
   ]
  },
  {
   "cell_type": "code",
   "execution_count": 90,
   "metadata": {
    "collapsed": false
   },
   "outputs": [
    {
     "data": {
      "image/png": "[encoded data removed]",
      "text/plain": [
       "<matplotlib.figure.Figure at 0x7f1ad9096c50>"
      ]
     },
     "metadata": {},
     "output_type": "display_data"
    }
   ],
   "source": [
    "sns.distplot(diff_means)\n",
    "plt.show()"
   ]
  },
  {
   "cell_type": "code",
   "execution_count": 91,
   "metadata": {
    "collapsed": false
   },
   "outputs": [
    {
     "data": {
      "text/plain": [
       "0.0"
      ]
     },
     "execution_count": 91,
     "metadata": {},
     "output_type": "execute_result"
    }
   ],
   "source": [
    "p_value = np.sum(diff_means >= observed_mean_diff) / len(diff_means)\n",
    "p_value"
   ]
  },
  {
   "cell_type": "markdown",
   "metadata": {},
   "source": [
    "0.0 % means extremely low and this means that our hypothesis is rejected but let's test also with the other test statistic, the variance"
   ]
  },
  {
   "cell_type": "code",
   "execution_count": 92,
   "metadata": {
    "collapsed": true
   },
   "outputs": [],
   "source": [
    "from test_statistics import diff_of_stds"
   ]
  },
  {
   "cell_type": "code",
   "execution_count": 93,
   "metadata": {
    "collapsed": false
   },
   "outputs": [
    {
     "data": {
      "text/plain": [
       "262136.68186060127"
      ]
     },
     "execution_count": 93,
     "metadata": {},
     "output_type": "execute_result"
    }
   ],
   "source": [
    "observed_diff_std = diff_of_stds(normal_sale_prices, short_sale_prices)\n",
    "observed_diff_std"
   ]
  },
  {
   "cell_type": "code",
   "execution_count": 96,
   "metadata": {
    "collapsed": false
   },
   "outputs": [
    {
     "name": "stdout",
     "output_type": "stream",
     "text": [
      "CPU times: user 11.3 s, sys: 16 ms, total: 11.3 s\n",
      "Wall time: 11.3 s\n"
     ]
    }
   ],
   "source": [
    "%%time\n",
    "diff_stds = draw_perm_reps(normal_sale_prices, short_sale_prices, diff_of_stds, size=100000,\n",
    "                           random_state = random_state)\n",
    "diff_stds = np.array(diff_stds)\n",
    "diff_stds.shape"
   ]
  },
  {
   "cell_type": "code",
   "execution_count": 97,
   "metadata": {
    "collapsed": false
   },
   "outputs": [
    {
     "data": {
      "image/png": "[encoded data removed]",
      "text/plain": [
       "<matplotlib.figure.Figure at 0x7f1ad8ccd990>"
      ]
     },
     "metadata": {},
     "output_type": "display_data"
    }
   ],
   "source": [
    "sns.distplot(diff_stds)\n",
    "plt.show()"
   ]
  },
  {
   "cell_type": "code",
   "execution_count": 98,
   "metadata": {
    "collapsed": false
   },
   "outputs": [
    {
     "data": {
      "text/plain": [
       "0.00331"
      ]
     },
     "execution_count": 98,
     "metadata": {},
     "output_type": "execute_result"
    }
   ],
   "source": [
    "p_value = np.sum(diff_stds >= observed_diff_std) / len(diff_stds)\n",
    "p_value"
   ]
  },
  {
   "cell_type": "markdown",
   "metadata": {},
   "source": [
    "Again we have witnessed such an extreme difference very few times: 0.3%"
   ]
  },
  {
   "cell_type": "markdown",
   "metadata": {},
   "source": [
    "## First relaxing accepting symmetric differences\n",
    "This is just to check if the absolute differences will bring a higher p-value"
   ]
  },
  {
   "cell_type": "code",
   "execution_count": 99,
   "metadata": {
    "collapsed": true
   },
   "outputs": [],
   "source": [
    "abs_diff_means = lambda aa, bb : abs(diff_of_means(aa,bb))"
   ]
  },
  {
   "cell_type": "code",
   "execution_count": 100,
   "metadata": {
    "collapsed": false
   },
   "outputs": [
    {
     "data": {
      "text/plain": [
       "138318.0999419326"
      ]
     },
     "execution_count": 100,
     "metadata": {},
     "output_type": "execute_result"
    }
   ],
   "source": [
    "observed_mean_diff = abs_diff_means(short_sale_prices, normal_sale_prices)\n",
    "#keep the same order (first normal then short sales) below\n",
    "observed_mean_diff"
   ]
  },
  {
   "cell_type": "code",
   "execution_count": 101,
   "metadata": {
    "collapsed": false
   },
   "outputs": [
    {
     "name": "stdout",
     "output_type": "stream",
     "text": [
      "CPU times: user 6.52 s, sys: 16 ms, total: 6.54 s\n",
      "Wall time: 6.53 s\n"
     ]
    }
   ],
   "source": [
    "%%time\n",
    "diff_means = draw_perm_reps(normal_sale_prices, short_sale_prices, abs_diff_means, size=100000,\n",
    "                                 random_state = random_state)\n",
    "diff_means = np.array(diff_means)\n",
    "diff_means.shape"
   ]
  },
  {
   "cell_type": "code",
   "execution_count": 102,
   "metadata": {
    "collapsed": false
   },
   "outputs": [
    {
     "data": {
      "image/png": "[encoded data removed]",
      "text/plain": [
       "<matplotlib.figure.Figure at 0x7f1ad8c1e850>"
      ]
     },
     "metadata": {},
     "output_type": "display_data"
    }
   ],
   "source": [
    "sns.distplot(diff_means)\n",
    "plt.show()"
   ]
  },
  {
   "cell_type": "code",
   "execution_count": 103,
   "metadata": {
    "collapsed": false
   },
   "outputs": [
    {
     "data": {
      "text/plain": [
       "0.0054900000000000001"
      ]
     },
     "execution_count": 103,
     "metadata": {},
     "output_type": "execute_result"
    }
   ],
   "source": [
    "p_value = np.sum(diff_means >= observed_mean_diff) / len(diff_means)\n",
    "p_value"
   ]
  },
  {
   "cell_type": "markdown",
   "metadata": {},
   "source": [
    "0.5 % is very low and this means that our hypothesis is rejected but let's test also with the other test statistic, the variance to be even more sure"
   ]
  },
  {
   "cell_type": "code",
   "execution_count": 104,
   "metadata": {
    "collapsed": true
   },
   "outputs": [],
   "source": [
    "abs_diff_stds = lambda aa, bb : abs(diff_of_stds(aa, bb))"
   ]
  },
  {
   "cell_type": "code",
   "execution_count": 105,
   "metadata": {
    "collapsed": false
   },
   "outputs": [
    {
     "data": {
      "text/plain": [
       "262136.68186060127"
      ]
     },
     "execution_count": 105,
     "metadata": {},
     "output_type": "execute_result"
    }
   ],
   "source": [
    "observed_diff_std = abs_diff_stds(short_sale_prices, normal_sale_prices)\n",
    "observed_diff_std"
   ]
  },
  {
   "cell_type": "code",
   "execution_count": 108,
   "metadata": {
    "collapsed": false
   },
   "outputs": [
    {
     "name": "stdout",
     "output_type": "stream",
     "text": [
      "CPU times: user 11.3 s, sys: 4 ms, total: 11.3 s\n",
      "Wall time: 11.3 s\n"
     ]
    }
   ],
   "source": [
    "%%time\n",
    "diff_stds = draw_perm_reps(normal_sale_prices, short_sale_prices, abs_diff_stds, size=100000,\n",
    "                           random_state = random_state)\n",
    "diff_stds = np.array(diff_stds)\n",
    "diff_stds.shape"
   ]
  },
  {
   "cell_type": "code",
   "execution_count": 109,
   "metadata": {
    "collapsed": false
   },
   "outputs": [
    {
     "data": {
      "image/png": "[encoded data removed]",
      "text/plain": [
       "<matplotlib.figure.Figure at 0x7f1ad9721290>"
      ]
     },
     "metadata": {},
     "output_type": "display_data"
    }
   ],
   "source": [
    "sns.distplot(diff_stds)\n",
    "plt.show()"
   ]
  },
  {
   "cell_type": "code",
   "execution_count": 110,
   "metadata": {
    "collapsed": false
   },
   "outputs": [
    {
     "data": {
      "text/plain": [
       "0.038219999999999997"
      ]
     },
     "execution_count": 110,
     "metadata": {},
     "output_type": "execute_result"
    }
   ],
   "source": [
    "p_value = np.sum(diff_stds >= observed_diff_std) / len(diff_stds)\n",
    "p_value"
   ]
  },
  {
   "cell_type": "markdown",
   "metadata": {},
   "source": [
    "We see that the differences of the variances are not that high and if we set our threshold to 0.01 we could say that due to the variance test statistic the null hypothesis cannot be fully rejected. However if we set the threshold to 0.05 as it is also quite common then we are going to consider also this test statistic to be a rejection of the null hypothesis"
   ]
  },
  {
   "cell_type": "markdown",
   "metadata": {},
   "source": [
    "# Second ever larger relaxation\n",
    "We are NOT claiming that we have two identical distributions but rather that we have similar mean values. Then below we are going to check for similar variances"
   ]
  },
  {
   "cell_type": "code",
   "execution_count": 111,
   "metadata": {
    "collapsed": false
   },
   "outputs": [
    {
     "data": {
      "text/plain": [
       "138318.0999419326"
      ]
     },
     "execution_count": 111,
     "metadata": {},
     "output_type": "execute_result"
    }
   ],
   "source": [
    "observed_diff_means = diff_of_means(normal_sale_prices, short_sale_prices)\n",
    "observed_diff_means"
   ]
  },
  {
   "cell_type": "markdown",
   "metadata": {},
   "source": [
    "Null hypotheis that they have different distributions but same mean\n",
    "\n",
    "So under the assumption that the null hypothesis is true.. <-- this is realized by forcing the means to be equal to the global mean\n",
    "..we check whether there are as extreme values as the ones we observed by bootstraping.\n",
    "If there are only a few large values this means that the original difference is significant and we need to reject the original null hypothesis"
   ]
  },
  {
   "cell_type": "code",
   "execution_count": 113,
   "metadata": {
    "collapsed": false
   },
   "outputs": [
    {
     "data": {
      "text/plain": [
       "271408.0207020702"
      ]
     },
     "execution_count": 113,
     "metadata": {},
     "output_type": "execute_result"
    }
   ],
   "source": [
    "global_mean = np.mean(yy)\n",
    "global_mean"
   ]
  },
  {
   "cell_type": "code",
   "execution_count": 114,
   "metadata": {
    "collapsed": false
   },
   "outputs": [
    {
     "data": {
      "text/plain": [
       "(1038,)"
      ]
     },
     "execution_count": 114,
     "metadata": {},
     "output_type": "execute_result"
    }
   ],
   "source": [
    "trans_normal_sales = normal_sale_prices - np.mean(normal_sale_prices) + global_mean\n",
    "trans_normal_sales.shape"
   ]
  },
  {
   "cell_type": "code",
   "execution_count": 116,
   "metadata": {
    "collapsed": false
   },
   "outputs": [
    {
     "data": {
      "text/plain": [
       "(73,)"
      ]
     },
     "execution_count": 116,
     "metadata": {},
     "output_type": "execute_result"
    }
   ],
   "source": [
    "trans_short_sales = short_sale_prices - np.mean(short_sale_prices) + global_mean\n",
    "trans_short_sales.shape"
   ]
  },
  {
   "cell_type": "code",
   "execution_count": 119,
   "metadata": {
    "collapsed": true
   },
   "outputs": [],
   "source": [
    "assert np.mean(np.concatenate((trans_normal_sales, trans_short_sales))) == global_mean\n",
    "#try np.allclose if it fails"
   ]
  },
  {
   "cell_type": "code",
   "execution_count": 120,
   "metadata": {
    "collapsed": true
   },
   "outputs": [],
   "source": [
    "from bootstrap_replicates import draw_bootstrap_replicates"
   ]
  },
  {
   "cell_type": "code",
   "execution_count": 125,
   "metadata": {
    "collapsed": false
   },
   "outputs": [
    {
     "data": {
      "text/plain": [
       "(100000,)"
      ]
     },
     "execution_count": 125,
     "metadata": {},
     "output_type": "execute_result"
    }
   ],
   "source": [
    "normal_reps = draw_bootstrap_replicates(np.mean, 100000, random_state, trans_normal_sales)\n",
    "normal_reps = np.array(normal_reps)\n",
    "normal_reps.shape"
   ]
  },
  {
   "cell_type": "code",
   "execution_count": 126,
   "metadata": {
    "collapsed": false
   },
   "outputs": [
    {
     "data": {
      "text/plain": [
       "(100000,)"
      ]
     },
     "execution_count": 126,
     "metadata": {},
     "output_type": "execute_result"
    }
   ],
   "source": [
    "ss_reps = draw_bootstrap_replicates(np.mean, 100000, random_state, trans_short_sales)\n",
    "ss_reps = np.array(ss_reps)\n",
    "ss_reps.shape"
   ]
  },
  {
   "cell_type": "code",
   "execution_count": 127,
   "metadata": {
    "collapsed": false
   },
   "outputs": [
    {
     "data": {
      "image/png": "[encoded data removed]",
      "text/plain": [
       "<matplotlib.figure.Figure at 0x7f1ad9147dd0>"
      ]
     },
     "metadata": {},
     "output_type": "display_data"
    }
   ],
   "source": [
    "mean_diffs = normal_reps - ss_reps\n",
    "sns.distplot(mean_diffs)\n",
    "plt.show()"
   ]
  },
  {
   "cell_type": "code",
   "execution_count": 128,
   "metadata": {
    "collapsed": false
   },
   "outputs": [
    {
     "data": {
      "text/plain": [
       "0.0"
      ]
     },
     "execution_count": 128,
     "metadata": {},
     "output_type": "execute_result"
    }
   ],
   "source": [
    "p_value = np.sum(mean_diffs >= observed_diff_means) / len(mean_diffs)\n",
    "p_value"
   ]
  },
  {
   "cell_type": "markdown",
   "metadata": {},
   "source": [
    "So we have to reject the hypothesis that the average values are the same"
   ]
  },
  {
   "cell_type": "markdown",
   "metadata": {},
   "source": [
    "# Check if variances are the same\n",
    "Even if they do not come out of the same distribution"
   ]
  },
  {
   "cell_type": "code",
   "execution_count": 129,
   "metadata": {
    "collapsed": false
   },
   "outputs": [
    {
     "data": {
      "text/plain": [
       "262136.68186060127"
      ]
     },
     "execution_count": 129,
     "metadata": {},
     "output_type": "execute_result"
    }
   ],
   "source": [
    "observed_diff_stds = diff_of_stds(normal_sale_prices, short_sale_prices)\n",
    "observed_diff_stds"
   ]
  },
  {
   "cell_type": "code",
   "execution_count": 130,
   "metadata": {
    "collapsed": true
   },
   "outputs": [],
   "source": [
    "global_std = np.std(yy)"
   ]
  },
  {
   "cell_type": "code",
   "execution_count": 132,
   "metadata": {
    "collapsed": true
   },
   "outputs": [],
   "source": [
    "scaled_normals = (normal_sale_prices / np.std(normal_sale_prices)) * global_std\n",
    "scaled_shorts = (short_sale_prices / np.std(short_sale_prices)) * global_std"
   ]
  },
  {
   "cell_type": "code",
   "execution_count": 135,
   "metadata": {
    "collapsed": false
   },
   "outputs": [],
   "source": [
    "assert np.allclose(np.std(scaled_normals), np.std(scaled_shorts))\n",
    "assert np.allclose(np.std(scaled_normals), global_std)"
   ]
  },
  {
   "cell_type": "code",
   "execution_count": 136,
   "metadata": {
    "collapsed": false
   },
   "outputs": [
    {
     "name": "stdout",
     "output_type": "stream",
     "text": [
      "CPU times: user 9.49 s, sys: 0 ns, total: 9.49 s\n",
      "Wall time: 9.5 s\n"
     ]
    }
   ],
   "source": [
    "%%time\n",
    "bs_reps_normals = draw_bootstrap_replicates(np.std, int(1e5), random_state, scaled_normals)\n",
    "bs_reps_normals = np.array(bs_reps_normals)\n",
    "bs_reps_normals.shape"
   ]
  },
  {
   "cell_type": "code",
   "execution_count": 137,
   "metadata": {
    "collapsed": false
   },
   "outputs": [
    {
     "name": "stdout",
     "output_type": "stream",
     "text": [
      "CPU times: user 6.66 s, sys: 0 ns, total: 6.66 s\n",
      "Wall time: 6.66 s\n"
     ]
    }
   ],
   "source": [
    "%%time\n",
    "bs_reps_shorts = draw_bootstrap_replicates(np.std, int(1e5), random_state, scaled_shorts)\n",
    "bs_reps_shorts = np.array(bs_reps_shorts)\n",
    "bs_reps_shorts.shape"
   ]
  },
  {
   "cell_type": "code",
   "execution_count": 138,
   "metadata": {
    "collapsed": false
   },
   "outputs": [
    {
     "data": {
      "text/plain": [
       "(100000,)"
      ]
     },
     "execution_count": 138,
     "metadata": {},
     "output_type": "execute_result"
    }
   ],
   "source": [
    "std_diffs = bs_reps_normals - bs_reps_shorts\n",
    "std_diffs.shape"
   ]
  },
  {
   "cell_type": "code",
   "execution_count": 139,
   "metadata": {
    "collapsed": false
   },
   "outputs": [
    {
     "data": {
      "image/png": "[encoded data removed]",
      "text/plain": [
       "<matplotlib.figure.Figure at 0x7f1ad8a92e50>"
      ]
     },
     "metadata": {},
     "output_type": "display_data"
    }
   ],
   "source": [
    "sns.distplot(std_diffs)\n",
    "plt.show()"
   ]
  },
  {
   "cell_type": "code",
   "execution_count": 140,
   "metadata": {
    "collapsed": false
   },
   "outputs": [
    {
     "data": {
      "text/plain": [
       "262136.68186060127"
      ]
     },
     "execution_count": 140,
     "metadata": {},
     "output_type": "execute_result"
    }
   ],
   "source": [
    "observed_diff_stds"
   ]
  },
  {
   "cell_type": "code",
   "execution_count": 141,
   "metadata": {
    "collapsed": false
   },
   "outputs": [
    {
     "data": {
      "text/plain": [
       "0.019869999999999999"
      ]
     },
     "execution_count": 141,
     "metadata": {},
     "output_type": "execute_result"
    }
   ],
   "source": [
    "p_value = np.sum(std_diffs >= observed_diff_stds) / len(std_diffs)\n",
    "p_value"
   ]
  },
  {
   "cell_type": "markdown",
   "metadata": {},
   "source": [
    "p_value is not small and therefore we could say that we cannot completely reject the hypothesis that the standard deviations of normal sales and short sales are not the same"
   ]
  },
  {
   "cell_type": "code",
   "execution_count": null,
   "metadata": {
    "collapsed": true
   },
   "outputs": [],
   "source": []
  },
  {
   "cell_type": "markdown",
   "metadata": {},
   "source": [
    "# Final ever larger relaxation\n",
    "We are NOT claiming that we have two identical distributions but rather that we have similar mean values. Then below we are going to check for similar variances. Now we are even considering opposite sign to be the same. That is why we are taking the absolute difference"
   ]
  },
  {
   "cell_type": "code",
   "execution_count": 142,
   "metadata": {
    "collapsed": false
   },
   "outputs": [
    {
     "data": {
      "text/plain": [
       "138318.0999419326"
      ]
     },
     "execution_count": 142,
     "metadata": {},
     "output_type": "execute_result"
    }
   ],
   "source": [
    "observed_diff_means = abs_diff_means(normal_sale_prices, short_sale_prices)\n",
    "observed_diff_means"
   ]
  },
  {
   "cell_type": "markdown",
   "metadata": {},
   "source": [
    "Null hypotheis that they have different distributions but same mean\n",
    "\n",
    "So under the assumption that the null hypothesis is true.. <-- this is realized by forcing the means to be equal to the global mean\n",
    "..we check whether there are as extreme values as the ones we observed by bootstraping.\n",
    "If there are only a few large values this means that the original difference is significant and we need to reject the original null hypothesis"
   ]
  },
  {
   "cell_type": "code",
   "execution_count": 143,
   "metadata": {
    "collapsed": false
   },
   "outputs": [
    {
     "data": {
      "text/plain": [
       "271408.0207020702"
      ]
     },
     "execution_count": 143,
     "metadata": {},
     "output_type": "execute_result"
    }
   ],
   "source": [
    "global_mean = np.mean(yy)\n",
    "global_mean"
   ]
  },
  {
   "cell_type": "code",
   "execution_count": 144,
   "metadata": {
    "collapsed": false
   },
   "outputs": [
    {
     "data": {
      "text/plain": [
       "(1038,)"
      ]
     },
     "execution_count": 144,
     "metadata": {},
     "output_type": "execute_result"
    }
   ],
   "source": [
    "trans_normal_sales = normal_sale_prices - np.mean(normal_sale_prices) + global_mean\n",
    "trans_normal_sales.shape"
   ]
  },
  {
   "cell_type": "code",
   "execution_count": 145,
   "metadata": {
    "collapsed": false
   },
   "outputs": [
    {
     "data": {
      "text/plain": [
       "(73,)"
      ]
     },
     "execution_count": 145,
     "metadata": {},
     "output_type": "execute_result"
    }
   ],
   "source": [
    "trans_short_sales = short_sale_prices - np.mean(short_sale_prices) + global_mean\n",
    "trans_short_sales.shape"
   ]
  },
  {
   "cell_type": "code",
   "execution_count": 150,
   "metadata": {
    "collapsed": true
   },
   "outputs": [],
   "source": [
    "assert np.mean(np.concatenate((trans_normal_sales, trans_short_sales))) == global_mean\n",
    "#try np.allclose if it fails"
   ]
  },
  {
   "cell_type": "code",
   "execution_count": 151,
   "metadata": {
    "collapsed": true
   },
   "outputs": [],
   "source": [
    "from bootstrap_replicates import draw_bootstrap_replicates"
   ]
  },
  {
   "cell_type": "code",
   "execution_count": 152,
   "metadata": {
    "collapsed": false
   },
   "outputs": [
    {
     "name": "stdout",
     "output_type": "stream",
     "text": [
      "CPU times: user 6.96 s, sys: 0 ns, total: 6.96 s\n",
      "Wall time: 6.96 s\n"
     ]
    }
   ],
   "source": [
    "%%time\n",
    "normal_reps = draw_bootstrap_replicates(np.mean, 100000, random_state, trans_normal_sales)\n",
    "normal_reps = np.array(normal_reps)\n",
    "normal_reps.shape"
   ]
  },
  {
   "cell_type": "code",
   "execution_count": 153,
   "metadata": {
    "collapsed": false
   },
   "outputs": [
    {
     "name": "stdout",
     "output_type": "stream",
     "text": [
      "CPU times: user 4.4 s, sys: 4 ms, total: 4.4 s\n",
      "Wall time: 4.4 s\n"
     ]
    }
   ],
   "source": [
    "%%time\n",
    "ss_reps = draw_bootstrap_replicates(np.mean, 100000, random_state, trans_short_sales)\n",
    "ss_reps = np.array(ss_reps)\n",
    "ss_reps.shape"
   ]
  },
  {
   "cell_type": "code",
   "execution_count": 154,
   "metadata": {
    "collapsed": false
   },
   "outputs": [
    {
     "data": {
      "image/png": "[encoded data removed]",
      "text/plain": [
       "<matplotlib.figure.Figure at 0x7f1ad93700d0>"
      ]
     },
     "metadata": {},
     "output_type": "display_data"
    }
   ],
   "source": [
    "mean_diffs = np.abs(normal_reps - ss_reps)\n",
    "sns.distplot(mean_diffs)\n",
    "plt.show()"
   ]
  },
  {
   "cell_type": "code",
   "execution_count": 155,
   "metadata": {
    "collapsed": false
   },
   "outputs": [
    {
     "data": {
      "text/plain": [
       "0.0"
      ]
     },
     "execution_count": 155,
     "metadata": {},
     "output_type": "execute_result"
    }
   ],
   "source": [
    "p_value = np.sum(mean_diffs >= observed_diff_means) / len(mean_diffs)\n",
    "p_value"
   ]
  },
  {
   "cell_type": "markdown",
   "metadata": {},
   "source": [
    "So we have to reject the hypothesis that the average values are the same"
   ]
  },
  {
   "cell_type": "markdown",
   "metadata": {},
   "source": [
    "# Check if variances are the same\n",
    "Even if they do not come out of the same distribution"
   ]
  },
  {
   "cell_type": "code",
   "execution_count": 156,
   "metadata": {
    "collapsed": false
   },
   "outputs": [
    {
     "data": {
      "text/plain": [
       "262136.68186060127"
      ]
     },
     "execution_count": 156,
     "metadata": {},
     "output_type": "execute_result"
    }
   ],
   "source": [
    "observed_diff_stds = abs_diff_stds(normal_sale_prices, short_sale_prices)\n",
    "observed_diff_stds"
   ]
  },
  {
   "cell_type": "code",
   "execution_count": 157,
   "metadata": {
    "collapsed": true
   },
   "outputs": [],
   "source": [
    "global_std = np.std(yy)"
   ]
  },
  {
   "cell_type": "code",
   "execution_count": 158,
   "metadata": {
    "collapsed": true
   },
   "outputs": [],
   "source": [
    "scaled_normals = (normal_sale_prices / np.std(normal_sale_prices)) * global_std\n",
    "scaled_shorts = (short_sale_prices / np.std(short_sale_prices)) * global_std"
   ]
  },
  {
   "cell_type": "code",
   "execution_count": 159,
   "metadata": {
    "collapsed": false
   },
   "outputs": [],
   "source": [
    "assert np.allclose(np.std(scaled_normals), np.std(scaled_shorts))\n",
    "assert np.allclose(np.std(scaled_normals), global_std)"
   ]
  },
  {
   "cell_type": "code",
   "execution_count": 160,
   "metadata": {
    "collapsed": false
   },
   "outputs": [
    {
     "name": "stdout",
     "output_type": "stream",
     "text": [
      "CPU times: user 9.38 s, sys: 0 ns, total: 9.38 s\n",
      "Wall time: 9.38 s\n"
     ]
    }
   ],
   "source": [
    "%%time\n",
    "bs_reps_normals = draw_bootstrap_replicates(np.std, int(1e5), random_state, scaled_normals)\n",
    "bs_reps_normals = np.array(bs_reps_normals)\n",
    "bs_reps_normals.shape"
   ]
  },
  {
   "cell_type": "code",
   "execution_count": 161,
   "metadata": {
    "collapsed": false
   },
   "outputs": [
    {
     "name": "stdout",
     "output_type": "stream",
     "text": [
      "CPU times: user 6.78 s, sys: 0 ns, total: 6.78 s\n",
      "Wall time: 6.78 s\n"
     ]
    }
   ],
   "source": [
    "%%time\n",
    "bs_reps_shorts = draw_bootstrap_replicates(np.std, int(1e5), random_state, scaled_shorts)\n",
    "bs_reps_shorts = np.array(bs_reps_shorts)\n",
    "bs_reps_shorts.shape"
   ]
  },
  {
   "cell_type": "code",
   "execution_count": 162,
   "metadata": {
    "collapsed": false
   },
   "outputs": [
    {
     "data": {
      "text/plain": [
       "(100000,)"
      ]
     },
     "execution_count": 162,
     "metadata": {},
     "output_type": "execute_result"
    }
   ],
   "source": [
    "std_diffs = np.abs(bs_reps_normals - bs_reps_shorts)\n",
    "std_diffs.shape"
   ]
  },
  {
   "cell_type": "code",
   "execution_count": 163,
   "metadata": {
    "collapsed": false
   },
   "outputs": [
    {
     "data": {
      "image/png": "[encoded data removed]",
      "text/plain": [
       "<matplotlib.figure.Figure at 0x7f1ad8a2edd0>"
      ]
     },
     "metadata": {},
     "output_type": "display_data"
    }
   ],
   "source": [
    "sns.distplot(std_diffs)\n",
    "plt.show()"
   ]
  },
  {
   "cell_type": "code",
   "execution_count": 164,
   "metadata": {
    "collapsed": false
   },
   "outputs": [
    {
     "data": {
      "text/plain": [
       "262136.68186060127"
      ]
     },
     "execution_count": 164,
     "metadata": {},
     "output_type": "execute_result"
    }
   ],
   "source": [
    "observed_diff_stds"
   ]
  },
  {
   "cell_type": "code",
   "execution_count": 165,
   "metadata": {
    "collapsed": false
   },
   "outputs": [
    {
     "data": {
      "text/plain": [
       "0.02537"
      ]
     },
     "execution_count": 165,
     "metadata": {},
     "output_type": "execute_result"
    }
   ],
   "source": [
    "p_value = np.sum(std_diffs >= observed_diff_stds) / len(std_diffs)\n",
    "p_value"
   ]
  },
  {
   "cell_type": "markdown",
   "metadata": {},
   "source": [
    "p_value is not small and therefore we could say that we cannot completely reject the hypothesis that the standard deviations of normal sales and short sales are not the same"
   ]
  },
  {
   "cell_type": "code",
   "execution_count": null,
   "metadata": {
    "collapsed": true
   },
   "outputs": [],
   "source": []
  }
 ],
 "metadata": {
  "kernelspec": {
   "display_name": "Python [iaml]",
   "language": "python",
   "name": "Python [iaml]"
  },
  "language_info": {
   "codemirror_mode": {
    "name": "ipython",
    "version": 2
   },
   "file_extension": ".py",
   "mimetype": "text/x-python",
   "name": "python",
   "nbconvert_exporter": "python",
   "pygments_lexer": "ipython2",
   "version": "2.7.12"
  }
 },
 "nbformat": 4,
 "nbformat_minor": 2
}
