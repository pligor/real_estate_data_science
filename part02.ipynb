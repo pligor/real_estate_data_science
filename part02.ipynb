{
 "cells": [
  {
   "cell_type": "markdown",
   "metadata": {},
   "source": [
    "# Part 2\n",
    "# Author: Georgios Pligoropoulos < george@pligor.com >"
   ]
  },
  {
   "cell_type": "code",
   "execution_count": 1,
   "metadata": {
    "collapsed": true
   },
   "outputs": [],
   "source": [
    "# -*- coding: UTF-8 -*-\n",
    "#%load_ext autoreload\n",
    "%reload_ext autoreload\n",
    "%autoreload 2"
   ]
  },
  {
   "cell_type": "code",
   "execution_count": 2,
   "metadata": {
    "collapsed": false
   },
   "outputs": [
    {
     "name": "stderr",
     "output_type": "stream",
     "text": [
      "/home/student/anaconda2/envs/iaml/lib/python2.7/site-packages/sklearn/cross_validation.py:44: DeprecationWarning: This module was deprecated in version 0.18 in favor of the model_selection module into which all the refactored classes and functions are moved. Also note that the interface of the new CV iterators are different from that of this module. This module will be removed in 0.20.\n",
      "  \"This module will be removed in 0.20.\", DeprecationWarning)\n"
     ]
    }
   ],
   "source": [
    "from __future__ import division\n",
    "from os import path, remove\n",
    "import numpy as np\n",
    "import pandas as pd\n",
    "from csv import QUOTE_ALL\n",
    "from sklearn.model_selection import StratifiedShuffleSplit\n",
    "from time import time\n",
    "from matplotlib import pyplot as plt\n",
    "import seaborn as sns\n",
    "import shutil\n",
    "from sklearn.metrics import r2_score\n",
    "from collections import OrderedDict\n",
    "from scipy.spatial.distance import euclidean\n",
    "from statsmodels.tsa.stattools import coint\n",
    "from skopt.space.space import Integer, Real\n",
    "from skopt import gp_minimize\n",
    "from skopt.plots import plot_convergence\n",
    "import pickle\n",
    "import inspect\n",
    "import dill\n",
    "import sys\n",
    "from sklearn.neighbors import NearestNeighbors\n",
    "from datetime import datetime\n",
    "import operator\n",
    "from os.path import isfile, isdir, join\n",
    "from os import getcwd\n",
    "from sklearn.cross_validation import train_test_split\n",
    "from sklearn.linear_model import LinearRegression, Ridge\n",
    "from sklearn.model_selection import cross_val_score\n",
    "from fancyimpute import KNN, NuclearNormMinimization, SoftImpute, IterativeSVD, MICE, \\\n",
    "    MatrixFactorization, BiScaler\n",
    "from math import floor"
   ]
  },
  {
   "cell_type": "code",
   "execution_count": 3,
   "metadata": {
    "collapsed": true
   },
   "outputs": [],
   "source": [
    "seed = 16011984\n",
    "random_state = np.random.RandomState(seed=seed)\n",
    "n_jobs = 1\n",
    "%matplotlib inline"
   ]
  },
  {
   "cell_type": "code",
   "execution_count": 4,
   "metadata": {
    "collapsed": true
   },
   "outputs": [],
   "source": [
    "from advanced_one_hot_encoder import AdvancedOneHotEncoder"
   ]
  },
  {
   "cell_type": "markdown",
   "metadata": {},
   "source": [
    "**Short sale** explained: http://www.investopedia.com/terms/r/real-estate-short-sale.asp"
   ]
  },
  {
   "cell_type": "markdown",
   "metadata": {},
   "source": [
    "## Load Data"
   ]
  },
  {
   "cell_type": "code",
   "execution_count": 5,
   "metadata": {
    "collapsed": false
   },
   "outputs": [
    {
     "data": {
      "text/plain": [
       "(1111, 20)"
      ]
     },
     "execution_count": 5,
     "metadata": {},
     "output_type": "execute_result"
    }
   ],
   "source": [
    "twin_cities_path = join(getcwd(), 'twin_cities.csv')\n",
    "df = pd.read_csv(twin_cities_path, delimiter = ',', encoding='utf-8', quoting=QUOTE_ALL, index_col=0)\n",
    "df.shape"
   ]
  },
  {
   "cell_type": "code",
   "execution_count": 6,
   "metadata": {
    "collapsed": false
   },
   "outputs": [
    {
     "data": {
      "text/html": [
       "<div>\n",
       "<table border=\"1\" class=\"dataframe\">\n",
       "  <thead>\n",
       "    <tr style=\"text-align: right;\">\n",
       "      <th></th>\n",
       "      <th>ADDRESS</th>\n",
       "      <th>CITY</th>\n",
       "      <th>STATE</th>\n",
       "      <th>ZIP</th>\n",
       "      <th>ListPrice</th>\n",
       "      <th>BEDS</th>\n",
       "      <th>BATHS</th>\n",
       "      <th>LOCATION</th>\n",
       "      <th>SQFT</th>\n",
       "      <th>LotSize</th>\n",
       "      <th>YearBuilt</th>\n",
       "      <th>ParkingSpots</th>\n",
       "      <th>HasGarage</th>\n",
       "      <th>DOM</th>\n",
       "      <th>LastSaleDate</th>\n",
       "      <th>SoldPrev</th>\n",
       "      <th>Realty</th>\n",
       "      <th>LATITUDE</th>\n",
       "      <th>LONGITUDE</th>\n",
       "      <th>ShortSale</th>\n",
       "    </tr>\n",
       "    <tr>\n",
       "      <th>ID</th>\n",
       "      <th></th>\n",
       "      <th></th>\n",
       "      <th></th>\n",
       "      <th></th>\n",
       "      <th></th>\n",
       "      <th></th>\n",
       "      <th></th>\n",
       "      <th></th>\n",
       "      <th></th>\n",
       "      <th></th>\n",
       "      <th></th>\n",
       "      <th></th>\n",
       "      <th></th>\n",
       "      <th></th>\n",
       "      <th></th>\n",
       "      <th></th>\n",
       "      <th></th>\n",
       "      <th></th>\n",
       "      <th></th>\n",
       "      <th></th>\n",
       "    </tr>\n",
       "  </thead>\n",
       "  <tbody>\n",
       "    <tr>\n",
       "      <th>4416206</th>\n",
       "      <td>1000 Larpenteur Ave W</td>\n",
       "      <td>St. Paul</td>\n",
       "      <td>MN</td>\n",
       "      <td>55113</td>\n",
       "      <td>214000</td>\n",
       "      <td>3</td>\n",
       "      <td>2</td>\n",
       "      <td>Como</td>\n",
       "      <td>1954</td>\n",
       "      <td>6969.0</td>\n",
       "      <td>1918</td>\n",
       "      <td>2</td>\n",
       "      <td>Garage</td>\n",
       "      <td>117</td>\n",
       "      <td>6/10/2008</td>\n",
       "      <td>Y</td>\n",
       "      <td>Edina Realty, Inc.</td>\n",
       "      <td>44,991634</td>\n",
       "      <td>-93,142616</td>\n",
       "      <td>N</td>\n",
       "    </tr>\n",
       "    <tr>\n",
       "      <th>4423768</th>\n",
       "      <td>1004 Charles Ave</td>\n",
       "      <td>St. Paul</td>\n",
       "      <td>MN</td>\n",
       "      <td>55104</td>\n",
       "      <td>134900</td>\n",
       "      <td>3</td>\n",
       "      <td>1</td>\n",
       "      <td>Thomas-Dale (Frogtown)</td>\n",
       "      <td>1028</td>\n",
       "      <td>4356.0</td>\n",
       "      <td>1911</td>\n",
       "      <td>1</td>\n",
       "      <td>Garage</td>\n",
       "      <td>93</td>\n",
       "      <td>8/11/2010</td>\n",
       "      <td>Y</td>\n",
       "      <td>Fish MLS Realty</td>\n",
       "      <td>44,957291</td>\n",
       "      <td>-93,142624</td>\n",
       "      <td>N</td>\n",
       "    </tr>\n",
       "    <tr>\n",
       "      <th>4427963</th>\n",
       "      <td>1004 Euclid St</td>\n",
       "      <td>St. Paul</td>\n",
       "      <td>MN</td>\n",
       "      <td>55106</td>\n",
       "      <td>129722</td>\n",
       "      <td>4</td>\n",
       "      <td>1</td>\n",
       "      <td>Dayton's Bluff</td>\n",
       "      <td>1420</td>\n",
       "      <td>5227.0</td>\n",
       "      <td>1900</td>\n",
       "      <td>0</td>\n",
       "      <td>No Garage</td>\n",
       "      <td>77</td>\n",
       "      <td>NaN</td>\n",
       "      <td>N</td>\n",
       "      <td>Coldwell Banker Burnet</td>\n",
       "      <td>44,954708</td>\n",
       "      <td>-93,057976</td>\n",
       "      <td>N</td>\n",
       "    </tr>\n",
       "    <tr>\n",
       "      <th>4432178</th>\n",
       "      <td>1005 Saint Anthony Ave</td>\n",
       "      <td>St. Paul</td>\n",
       "      <td>MN</td>\n",
       "      <td>55104</td>\n",
       "      <td>134900</td>\n",
       "      <td>2</td>\n",
       "      <td>1,75</td>\n",
       "      <td>Summit-University</td>\n",
       "      <td>904</td>\n",
       "      <td>8712.0</td>\n",
       "      <td>1928</td>\n",
       "      <td>3</td>\n",
       "      <td>Garage</td>\n",
       "      <td>57</td>\n",
       "      <td>NaN</td>\n",
       "      <td>N</td>\n",
       "      <td>Real Estate Masters, Ltd.</td>\n",
       "      <td>44,952404</td>\n",
       "      <td>-93,142693</td>\n",
       "      <td>N</td>\n",
       "    </tr>\n",
       "    <tr>\n",
       "      <th>4440070</th>\n",
       "      <td>100X Chatsworth Pl</td>\n",
       "      <td>Shoreview</td>\n",
       "      <td>MN</td>\n",
       "      <td>55126</td>\n",
       "      <td>444900</td>\n",
       "      <td>4</td>\n",
       "      <td>2,5</td>\n",
       "      <td>Shoreview</td>\n",
       "      <td>2014</td>\n",
       "      <td>12632.0</td>\n",
       "      <td>2014</td>\n",
       "      <td>3</td>\n",
       "      <td>Garage</td>\n",
       "      <td>8</td>\n",
       "      <td>NaN</td>\n",
       "      <td>N</td>\n",
       "      <td>Coldwell Banker Burnet</td>\n",
       "      <td>44,944391</td>\n",
       "      <td>-93,141348</td>\n",
       "      <td>N</td>\n",
       "    </tr>\n",
       "  </tbody>\n",
       "</table>\n",
       "</div>"
      ],
      "text/plain": [
       "                        ADDRESS       CITY STATE    ZIP  ListPrice  BEDS  \\\n",
       "ID                                                                         \n",
       "4416206   1000 Larpenteur Ave W   St. Paul    MN  55113     214000     3   \n",
       "4423768        1004 Charles Ave   St. Paul    MN  55104     134900     3   \n",
       "4427963          1004 Euclid St   St. Paul    MN  55106     129722     4   \n",
       "4432178  1005 Saint Anthony Ave   St. Paul    MN  55104     134900     2   \n",
       "4440070      100X Chatsworth Pl  Shoreview    MN  55126     444900     4   \n",
       "\n",
       "        BATHS                LOCATION  SQFT  LotSize  YearBuilt  ParkingSpots  \\\n",
       "ID                                                                              \n",
       "4416206     2                    Como  1954   6969.0       1918             2   \n",
       "4423768     1  Thomas-Dale (Frogtown)  1028   4356.0       1911             1   \n",
       "4427963     1          Dayton's Bluff  1420   5227.0       1900             0   \n",
       "4432178  1,75       Summit-University   904   8712.0       1928             3   \n",
       "4440070   2,5               Shoreview  2014  12632.0       2014             3   \n",
       "\n",
       "         HasGarage  DOM LastSaleDate SoldPrev                     Realty  \\\n",
       "ID                                                                         \n",
       "4416206     Garage  117    6/10/2008        Y         Edina Realty, Inc.   \n",
       "4423768     Garage   93    8/11/2010        Y            Fish MLS Realty   \n",
       "4427963  No Garage   77          NaN        N     Coldwell Banker Burnet   \n",
       "4432178     Garage   57          NaN        N  Real Estate Masters, Ltd.   \n",
       "4440070     Garage    8          NaN        N     Coldwell Banker Burnet   \n",
       "\n",
       "          LATITUDE   LONGITUDE ShortSale  \n",
       "ID                                        \n",
       "4416206  44,991634  -93,142616         N  \n",
       "4423768  44,957291  -93,142624         N  \n",
       "4427963  44,954708  -93,057976         N  \n",
       "4432178  44,952404  -93,142693         N  \n",
       "4440070  44,944391  -93,141348         N  "
      ]
     },
     "execution_count": 6,
     "metadata": {},
     "output_type": "execute_result"
    }
   ],
   "source": [
    "df[:5]"
   ]
  },
  {
   "cell_type": "markdown",
   "metadata": {},
   "source": [
    "## Drop redundant columns\n",
    "State column does not hold any information since it is the same for all instances\n",
    "Also we are dropping last sale date as we are advised to not use it but also because it contains lots of nulls"
   ]
  },
  {
   "cell_type": "code",
   "execution_count": 7,
   "metadata": {
    "collapsed": false
   },
   "outputs": [
    {
     "data": {
      "text/plain": [
       "(1111, 18)"
      ]
     },
     "execution_count": 7,
     "metadata": {},
     "output_type": "execute_result"
    }
   ],
   "source": [
    "if 'STATE' in df.columns:\n",
    "    df = df.drop(labels=['STATE'], axis=1)\n",
    "if 'LastSaleDate' in df.columns:\n",
    "    df = df.drop(labels=['LastSaleDate'], axis=1)\n",
    "df.shape"
   ]
  },
  {
   "cell_type": "markdown",
   "metadata": {},
   "source": [
    "### Keep columns for Price Regression"
   ]
  },
  {
   "cell_type": "code",
   "execution_count": 8,
   "metadata": {
    "collapsed": false
   },
   "outputs": [
    {
     "data": {
      "text/plain": [
       "(1111, 12)"
      ]
     },
     "execution_count": 8,
     "metadata": {},
     "output_type": "execute_result"
    }
   ],
   "source": [
    "#Regression Columns\n",
    "#CITY, ZIP, BEDS, BATHS, SQFT, LotSize, YearBuilt, ParkingSpots, HasGarage, LATITUDE, LONGITUDE, ShortSale\n",
    "XX = df[\n",
    "    ['CITY', 'ZIP', 'BEDS', 'BATHS', 'SQFT', 'LotSize', 'YearBuilt', 'ParkingSpots', 'HasGarage', 'LATITUDE',\n",
    "     'LONGITUDE', 'ShortSale']\n",
    "]\n",
    "XX.shape"
   ]
  },
  {
   "cell_type": "code",
   "execution_count": 9,
   "metadata": {
    "collapsed": false
   },
   "outputs": [
    {
     "data": {
      "text/plain": [
       "(1111,)"
      ]
     },
     "execution_count": 9,
     "metadata": {},
     "output_type": "execute_result"
    }
   ],
   "source": [
    "#target: ListPrice\n",
    "yy = df['ListPrice']\n",
    "yy.shape"
   ]
  },
  {
   "cell_type": "markdown",
   "metadata": {},
   "source": [
    "### Numerify data\n",
    ", already numerical"
   ]
  },
  {
   "cell_type": "code",
   "execution_count": 10,
   "metadata": {
    "collapsed": false
   },
   "outputs": [
    {
     "data": {
      "text/plain": [
       "dtype('int64')"
      ]
     },
     "execution_count": 10,
     "metadata": {},
     "output_type": "execute_result"
    }
   ],
   "source": [
    "XX['BEDS'].dtype"
   ]
  },
  {
   "cell_type": "code",
   "execution_count": 11,
   "metadata": {
    "collapsed": false
   },
   "outputs": [
    {
     "data": {
      "text/plain": [
       "dtype('int64')"
      ]
     },
     "execution_count": 11,
     "metadata": {},
     "output_type": "execute_result"
    }
   ],
   "source": [
    "XX['SQFT'].dtype"
   ]
  },
  {
   "cell_type": "code",
   "execution_count": 12,
   "metadata": {
    "collapsed": false
   },
   "outputs": [
    {
     "data": {
      "text/plain": [
       "dtype('float64')"
      ]
     },
     "execution_count": 12,
     "metadata": {},
     "output_type": "execute_result"
    }
   ],
   "source": [
    "XX['LotSize'].dtype"
   ]
  },
  {
   "cell_type": "code",
   "execution_count": 13,
   "metadata": {
    "collapsed": false
   },
   "outputs": [
    {
     "data": {
      "text/plain": [
       "dtype('int64')"
      ]
     },
     "execution_count": 13,
     "metadata": {},
     "output_type": "execute_result"
    }
   ],
   "source": [
    "XX['ParkingSpots'].dtype"
   ]
  },
  {
   "cell_type": "code",
   "execution_count": 14,
   "metadata": {
    "collapsed": false
   },
   "outputs": [
    {
     "name": "stderr",
     "output_type": "stream",
     "text": [
      "/home/student/anaconda2/envs/iaml/lib/python2.7/site-packages/ipykernel/__main__.py:3: SettingWithCopyWarning: \n",
      "A value is trying to be set on a copy of a slice from a DataFrame.\n",
      "Try using .loc[row_indexer,col_indexer] = value instead\n",
      "\n",
      "See the caveats in the documentation: http://pandas.pydata.org/pandas-docs/stable/indexing.html#indexing-view-versus-copy\n",
      "  app.launch_new_instance()\n"
     ]
    },
    {
     "data": {
      "text/plain": [
       "dtype('float64')"
      ]
     },
     "execution_count": 14,
     "metadata": {},
     "output_type": "execute_result"
    }
   ],
   "source": [
    "if XX['BATHS'].dtype == 'object':\n",
    "    XX['BATHS'] = [float(coord.replace(',', '.')) if isinstance(coord, basestring) else float(coord)\n",
    "            for coord in XX['BATHS']]\n",
    "XX['BATHS'].dtype"
   ]
  },
  {
   "cell_type": "markdown",
   "metadata": {},
   "source": [
    "#### CITY"
   ]
  },
  {
   "cell_type": "code",
   "execution_count": 15,
   "metadata": {
    "collapsed": false
   },
   "outputs": [
    {
     "name": "stdout",
     "output_type": "stream",
     "text": [
      "6\n"
     ]
    },
    {
     "data": {
      "text/plain": [
       "array([u'St. Paul', u'Shoreview', u'Minneapolis', u'Woodbury',\n",
       "       u'West St. Paul', u'Maplewood'], dtype=object)"
      ]
     },
     "execution_count": 15,
     "metadata": {},
     "output_type": "execute_result"
    }
   ],
   "source": [
    "print len(XX['CITY'].unique())\n",
    "XX['CITY'].unique()"
   ]
  },
  {
   "cell_type": "code",
   "execution_count": 16,
   "metadata": {
    "collapsed": false
   },
   "outputs": [
    {
     "data": {
      "text/plain": [
       "(1111, 16)"
      ]
     },
     "execution_count": 16,
     "metadata": {},
     "output_type": "execute_result"
    }
   ],
   "source": [
    "if 'CITY' in XX.columns:\n",
    "    XX = AdvancedOneHotEncoder().encodePandasColAndMerge(data_frame=XX, col_name='CITY')\n",
    "XX.shape"
   ]
  },
  {
   "cell_type": "markdown",
   "metadata": {},
   "source": [
    "#### ZIP"
   ]
  },
  {
   "cell_type": "code",
   "execution_count": 17,
   "metadata": {
    "collapsed": false
   },
   "outputs": [
    {
     "name": "stdout",
     "output_type": "stream",
     "text": [
      "86\n",
      "33\n"
     ]
    }
   ],
   "source": [
    "#comparing locations and zips lengths\n",
    "print len(df['LOCATION'].unique())\n",
    "print len(df['ZIP'].unique())"
   ]
  },
  {
   "cell_type": "code",
   "execution_count": 18,
   "metadata": {
    "collapsed": false
   },
   "outputs": [
    {
     "data": {
      "text/plain": [
       "(1111, 47)"
      ]
     },
     "execution_count": 18,
     "metadata": {},
     "output_type": "execute_result"
    }
   ],
   "source": [
    "if 'ZIP' in XX.columns:\n",
    "    XX = AdvancedOneHotEncoder().encodePandasColAndMerge(data_frame=XX, col_name='ZIP')\n",
    "XX.shape"
   ]
  },
  {
   "cell_type": "markdown",
   "metadata": {},
   "source": [
    "#### Year Built to Age"
   ]
  },
  {
   "cell_type": "code",
   "execution_count": 19,
   "metadata": {
    "collapsed": false
   },
   "outputs": [
    {
     "data": {
      "text/plain": [
       "(1111, 47)"
      ]
     },
     "execution_count": 19,
     "metadata": {},
     "output_type": "execute_result"
    }
   ],
   "source": [
    "if 'YearBuilt' in XX.columns:\n",
    "    XX['age'] = 2014 - XX['YearBuilt']\n",
    "    XX.drop(labels='YearBuilt', axis=1, inplace=True)\n",
    "assert 'age' in XX.columns\n",
    "XX.shape"
   ]
  },
  {
   "cell_type": "markdown",
   "metadata": {},
   "source": [
    "#### Has Garage to binary"
   ]
  },
  {
   "cell_type": "code",
   "execution_count": 20,
   "metadata": {
    "collapsed": false
   },
   "outputs": [
    {
     "data": {
      "text/plain": [
       "array([u'Garage', u'No Garage'], dtype=object)"
      ]
     },
     "execution_count": 20,
     "metadata": {},
     "output_type": "execute_result"
    }
   ],
   "source": [
    "XX['HasGarage'].unique()"
   ]
  },
  {
   "cell_type": "code",
   "execution_count": 21,
   "metadata": {
    "collapsed": false
   },
   "outputs": [
    {
     "data": {
      "text/plain": [
       "array([True, False], dtype=object)"
      ]
     },
     "execution_count": 21,
     "metadata": {},
     "output_type": "execute_result"
    }
   ],
   "source": [
    "if 'Garage' in XX['HasGarage'].unique():\n",
    "    XX['HasGarage'] = XX['HasGarage'] == 'Garage'\n",
    "XX['HasGarage'].unique()"
   ]
  },
  {
   "cell_type": "markdown",
   "metadata": {},
   "source": [
    "#### Short Sale to binary"
   ]
  },
  {
   "cell_type": "code",
   "execution_count": 22,
   "metadata": {
    "collapsed": false
   },
   "outputs": [
    {
     "data": {
      "text/plain": [
       "array([u'N', u'Y'], dtype=object)"
      ]
     },
     "execution_count": 22,
     "metadata": {},
     "output_type": "execute_result"
    }
   ],
   "source": [
    "XX['ShortSale'].unique()"
   ]
  },
  {
   "cell_type": "code",
   "execution_count": 23,
   "metadata": {
    "collapsed": false
   },
   "outputs": [
    {
     "data": {
      "text/plain": [
       "array([False, True], dtype=object)"
      ]
     },
     "execution_count": 23,
     "metadata": {},
     "output_type": "execute_result"
    }
   ],
   "source": [
    "if 'Y' in XX['ShortSale'].unique():\n",
    "    XX['ShortSale'] = XX['ShortSale'] == 'Y'\n",
    "XX['ShortSale'].unique()"
   ]
  },
  {
   "cell_type": "markdown",
   "metadata": {},
   "source": [
    "#### Latitude"
   ]
  },
  {
   "cell_type": "code",
   "execution_count": 24,
   "metadata": {
    "collapsed": false
   },
   "outputs": [
    {
     "data": {
      "text/plain": [
       "dtype('float64')"
      ]
     },
     "execution_count": 24,
     "metadata": {},
     "output_type": "execute_result"
    }
   ],
   "source": [
    "if XX['LATITUDE'].dtype == 'object':\n",
    "    XX['LATITUDE'] = [float(coord.replace(',', '.')) if isinstance(coord, basestring) else float(coord)\n",
    "            for coord in XX['LATITUDE']]\n",
    "XX['LATITUDE'].dtype"
   ]
  },
  {
   "cell_type": "markdown",
   "metadata": {},
   "source": [
    "#### Longitude"
   ]
  },
  {
   "cell_type": "code",
   "execution_count": 25,
   "metadata": {
    "collapsed": false
   },
   "outputs": [
    {
     "data": {
      "text/plain": [
       "dtype('float64')"
      ]
     },
     "execution_count": 25,
     "metadata": {},
     "output_type": "execute_result"
    }
   ],
   "source": [
    "if XX['LONGITUDE'].dtype == 'object':\n",
    "    XX['LONGITUDE'] = [float(coord.replace(',', '.')) if isinstance(coord, basestring) else float(coord)\n",
    "            for coord in XX['LONGITUDE']]\n",
    "XX['LONGITUDE'].dtype"
   ]
  },
  {
   "cell_type": "markdown",
   "metadata": {},
   "source": [
    "### Fill the Gaps\n",
    "Rule of thumb of KNN to pick a neighborhood of 1%"
   ]
  },
  {
   "cell_type": "code",
   "execution_count": 26,
   "metadata": {
    "collapsed": false
   },
   "outputs": [
    {
     "data": {
      "text/plain": [
       "BEDS             0\n",
       "BATHS            1\n",
       "SQFT             0\n",
       "LotSize         64\n",
       "ParkingSpots     0\n",
       "HasGarage        0\n",
       "LATITUDE         6\n",
       "LONGITUDE        6\n",
       "ShortSale        0\n",
       "CITY_0           0\n",
       "CITY_1           0\n",
       "CITY_2           0\n",
       "CITY_3           0\n",
       "CITY_4           0\n",
       "ZIP_0            0\n",
       "ZIP_1            0\n",
       "ZIP_2            0\n",
       "ZIP_3            0\n",
       "ZIP_4            0\n",
       "ZIP_5            0\n",
       "ZIP_6            0\n",
       "ZIP_7            0\n",
       "ZIP_8            0\n",
       "ZIP_9            0\n",
       "ZIP_10           0\n",
       "ZIP_11           0\n",
       "ZIP_12           0\n",
       "ZIP_13           0\n",
       "ZIP_14           0\n",
       "ZIP_15           0\n",
       "ZIP_16           0\n",
       "ZIP_17           0\n",
       "ZIP_18           0\n",
       "ZIP_19           0\n",
       "ZIP_20           0\n",
       "ZIP_21           0\n",
       "ZIP_22           0\n",
       "ZIP_23           0\n",
       "ZIP_24           0\n",
       "ZIP_25           0\n",
       "ZIP_26           0\n",
       "ZIP_27           0\n",
       "ZIP_28           0\n",
       "ZIP_29           0\n",
       "ZIP_30           0\n",
       "ZIP_31           0\n",
       "age              0\n",
       "dtype: int64"
      ]
     },
     "execution_count": 26,
     "metadata": {},
     "output_type": "execute_result"
    }
   ],
   "source": [
    "XX.isnull().sum()"
   ]
  },
  {
   "cell_type": "code",
   "execution_count": 27,
   "metadata": {
    "collapsed": false
   },
   "outputs": [
    {
     "data": {
      "text/plain": [
       "77"
      ]
     },
     "execution_count": 27,
     "metadata": {},
     "output_type": "execute_result"
    }
   ],
   "source": [
    "#before\n",
    "null_sum = sum(XX.isnull().sum())\n",
    "null_sum"
   ]
  },
  {
   "cell_type": "code",
   "execution_count": 28,
   "metadata": {
    "collapsed": false
   },
   "outputs": [
    {
     "data": {
      "text/plain": [
       "11"
      ]
     },
     "execution_count": 28,
     "metadata": {},
     "output_type": "execute_result"
    }
   ],
   "source": [
    "k_factor = int(floor(len(XX) * 0.01))\n",
    "k_factor"
   ]
  },
  {
   "cell_type": "code",
   "execution_count": 29,
   "metadata": {
    "collapsed": false
   },
   "outputs": [
    {
     "name": "stdout",
     "output_type": "stream",
     "text": [
      "Imputing row 1/1111 with 0 missing, elapsed time: 0.445\n",
      "Imputing row 101/1111 with 1 missing, elapsed time: 0.447\n",
      "Imputing row 201/1111 with 1 missing, elapsed time: 0.447\n",
      "Imputing row 301/1111 with 0 missing, elapsed time: 0.448\n",
      "Imputing row 401/1111 with 0 missing, elapsed time: 0.449\n",
      "Imputing row 501/1111 with 0 missing, elapsed time: 0.449\n",
      "Imputing row 601/1111 with 0 missing, elapsed time: 0.450\n",
      "Imputing row 701/1111 with 0 missing, elapsed time: 0.450\n",
      "Imputing row 801/1111 with 0 missing, elapsed time: 0.451\n",
      "Imputing row 901/1111 with 0 missing, elapsed time: 0.451\n",
      "Imputing row 1001/1111 with 0 missing, elapsed time: 0.452\n",
      "Imputing row 1101/1111 with 0 missing, elapsed time: 0.453\n"
     ]
    }
   ],
   "source": [
    "if null_sum > 0:\n",
    "    XX[XX.columns] = KNN(k=k_factor).complete(XX.values)"
   ]
  },
  {
   "cell_type": "code",
   "execution_count": 30,
   "metadata": {
    "collapsed": false
   },
   "outputs": [
    {
     "data": {
      "text/html": [
       "<div>\n",
       "<table border=\"1\" class=\"dataframe\">\n",
       "  <thead>\n",
       "    <tr style=\"text-align: right;\">\n",
       "      <th></th>\n",
       "      <th>BEDS</th>\n",
       "      <th>BATHS</th>\n",
       "      <th>SQFT</th>\n",
       "      <th>LotSize</th>\n",
       "      <th>ParkingSpots</th>\n",
       "      <th>HasGarage</th>\n",
       "      <th>LATITUDE</th>\n",
       "      <th>LONGITUDE</th>\n",
       "      <th>ShortSale</th>\n",
       "      <th>CITY_0</th>\n",
       "      <th>...</th>\n",
       "      <th>ZIP_23</th>\n",
       "      <th>ZIP_24</th>\n",
       "      <th>ZIP_25</th>\n",
       "      <th>ZIP_26</th>\n",
       "      <th>ZIP_27</th>\n",
       "      <th>ZIP_28</th>\n",
       "      <th>ZIP_29</th>\n",
       "      <th>ZIP_30</th>\n",
       "      <th>ZIP_31</th>\n",
       "      <th>age</th>\n",
       "    </tr>\n",
       "    <tr>\n",
       "      <th>ID</th>\n",
       "      <th></th>\n",
       "      <th></th>\n",
       "      <th></th>\n",
       "      <th></th>\n",
       "      <th></th>\n",
       "      <th></th>\n",
       "      <th></th>\n",
       "      <th></th>\n",
       "      <th></th>\n",
       "      <th></th>\n",
       "      <th></th>\n",
       "      <th></th>\n",
       "      <th></th>\n",
       "      <th></th>\n",
       "      <th></th>\n",
       "      <th></th>\n",
       "      <th></th>\n",
       "      <th></th>\n",
       "      <th></th>\n",
       "      <th></th>\n",
       "      <th></th>\n",
       "    </tr>\n",
       "  </thead>\n",
       "  <tbody>\n",
       "    <tr>\n",
       "      <th>4433532</th>\n",
       "      <td>4.0</td>\n",
       "      <td>1.5</td>\n",
       "      <td>1685.0</td>\n",
       "      <td>6534.0</td>\n",
       "      <td>2.0</td>\n",
       "      <td>1.0</td>\n",
       "      <td>45.045876</td>\n",
       "      <td>-93.289268</td>\n",
       "      <td>0.0</td>\n",
       "      <td>1.0</td>\n",
       "      <td>...</td>\n",
       "      <td>0.0</td>\n",
       "      <td>0.0</td>\n",
       "      <td>0.0</td>\n",
       "      <td>0.0</td>\n",
       "      <td>0.0</td>\n",
       "      <td>0.0</td>\n",
       "      <td>0.0</td>\n",
       "      <td>0.0</td>\n",
       "      <td>1.0</td>\n",
       "      <td>64.0</td>\n",
       "    </tr>\n",
       "  </tbody>\n",
       "</table>\n",
       "<p>1 rows × 47 columns</p>\n",
       "</div>"
      ],
      "text/plain": [
       "         BEDS  BATHS    SQFT  LotSize  ParkingSpots  HasGarage   LATITUDE  \\\n",
       "ID                                                                          \n",
       "4433532   4.0    1.5  1685.0   6534.0           2.0        1.0  45.045876   \n",
       "\n",
       "         LONGITUDE  ShortSale  CITY_0  ...   ZIP_23  ZIP_24  ZIP_25  ZIP_26  \\\n",
       "ID                                     ...                                    \n",
       "4433532 -93.289268        0.0     1.0  ...      0.0     0.0     0.0     0.0   \n",
       "\n",
       "         ZIP_27  ZIP_28  ZIP_29  ZIP_30  ZIP_31   age  \n",
       "ID                                                     \n",
       "4433532     0.0     0.0     0.0     0.0     1.0  64.0  \n",
       "\n",
       "[1 rows x 47 columns]"
      ]
     },
     "execution_count": 30,
     "metadata": {},
     "output_type": "execute_result"
    }
   ],
   "source": [
    "XX.sample(random_state=random_state)"
   ]
  },
  {
   "cell_type": "code",
   "execution_count": 31,
   "metadata": {
    "collapsed": false
   },
   "outputs": [
    {
     "data": {
      "text/plain": [
       "0"
      ]
     },
     "execution_count": 31,
     "metadata": {},
     "output_type": "execute_result"
    }
   ],
   "source": [
    "sum(XX.isnull().sum())"
   ]
  },
  {
   "cell_type": "markdown",
   "metadata": {},
   "source": [
    "# Question 2\n",
    "All things being equal what would you predict as the listing price for a 2111 square foot\n",
    "house if that was the only information you had on a house in this area? How did you\n",
    "arrive at that estimate? Please explain."
   ]
  },
  {
   "cell_type": "code",
   "execution_count": 32,
   "metadata": {
    "collapsed": true
   },
   "outputs": [],
   "source": [
    "target_sqft = 2111."
   ]
  },
  {
   "cell_type": "markdown",
   "metadata": {},
   "source": [
    "Features independent of area:  \n",
    "Beds, Baths, Sqft, LotSize, ParkingSpots, HasGarage, ShortSale, age\n",
    "\n",
    "For the area we specify City, Zip code and we take the average of latitude and longitude of that area.  \n",
    "We also take the average of the rest of the features for that area since we only have available the LotSize."
   ]
  },
  {
   "cell_type": "code",
   "execution_count": 33,
   "metadata": {
    "collapsed": true
   },
   "outputs": [],
   "source": [
    "best_alpha = 0.0057223676593502202"
   ]
  },
  {
   "cell_type": "code",
   "execution_count": 34,
   "metadata": {
    "collapsed": false
   },
   "outputs": [
    {
     "data": {
      "text/plain": [
       "Index([        u'BEDS',        u'BATHS',         u'SQFT',      u'LotSize',\n",
       "       u'ParkingSpots',    u'HasGarage',     u'LATITUDE',    u'LONGITUDE',\n",
       "          u'ShortSale',       u'CITY_0',       u'CITY_1',       u'CITY_2',\n",
       "             u'CITY_3',       u'CITY_4',        u'ZIP_0',        u'ZIP_1',\n",
       "              u'ZIP_2',        u'ZIP_3',        u'ZIP_4',        u'ZIP_5',\n",
       "              u'ZIP_6',        u'ZIP_7',        u'ZIP_8',        u'ZIP_9',\n",
       "             u'ZIP_10',       u'ZIP_11',       u'ZIP_12',       u'ZIP_13',\n",
       "             u'ZIP_14',       u'ZIP_15',       u'ZIP_16',       u'ZIP_17',\n",
       "             u'ZIP_18',       u'ZIP_19',       u'ZIP_20',       u'ZIP_21',\n",
       "             u'ZIP_22',       u'ZIP_23',       u'ZIP_24',       u'ZIP_25',\n",
       "             u'ZIP_26',       u'ZIP_27',       u'ZIP_28',       u'ZIP_29',\n",
       "             u'ZIP_30',       u'ZIP_31',          u'age'],\n",
       "      dtype='object')"
      ]
     },
     "execution_count": 34,
     "metadata": {},
     "output_type": "execute_result"
    }
   ],
   "source": [
    "XX.columns"
   ]
  },
  {
   "cell_type": "code",
   "execution_count": 35,
   "metadata": {
    "collapsed": false
   },
   "outputs": [
    {
     "data": {
      "text/plain": [
       "Ridge(alpha=0.00572236765935, copy_X=True, fit_intercept=True, max_iter=None,\n",
       "   normalize=True, random_state=None, solver='auto', tol=0.001)"
      ]
     },
     "execution_count": 35,
     "metadata": {},
     "output_type": "execute_result"
    }
   ],
   "source": [
    "model = Ridge(alpha=best_alpha, normalize=True).fit(XX, yy)\n",
    "model"
   ]
  },
  {
   "cell_type": "code",
   "execution_count": 36,
   "metadata": {
    "collapsed": false
   },
   "outputs": [
    {
     "data": {
      "text/plain": [
       "0.7808430886161426"
      ]
     },
     "execution_count": 36,
     "metadata": {},
     "output_type": "execute_result"
    }
   ],
   "source": [
    "model.score(XX, yy)"
   ]
  },
  {
   "cell_type": "code",
   "execution_count": 37,
   "metadata": {
    "collapsed": false
   },
   "outputs": [
    {
     "data": {
      "text/plain": [
       "ZIP\n",
       "55101      2\n",
       "55102     25\n",
       "55103     14\n",
       "55104     79\n",
       "55105     53\n",
       "55106    133\n",
       "55107     31\n",
       "55108     15\n",
       "55113      1\n",
       "55114      1\n",
       "55116     44\n",
       "55117     55\n",
       "55118      3\n",
       "55119     42\n",
       "55126      2\n",
       "55129      1\n",
       "55130     19\n",
       "55404      3\n",
       "55405      8\n",
       "55406     72\n",
       "55407     57\n",
       "55408     18\n",
       "55409     16\n",
       "55410     56\n",
       "55411     45\n",
       "55412    107\n",
       "55413      9\n",
       "55416      8\n",
       "55417     59\n",
       "55418     47\n",
       "55419     59\n",
       "55421      2\n",
       "55430     25\n",
       "Name: ZIP, dtype: int64"
      ]
     },
     "execution_count": 37,
     "metadata": {},
     "output_type": "execute_result"
    }
   ],
   "source": [
    "zip_counts = df.groupby(['ZIP'])['ZIP'].count()\n",
    "zip_counts"
   ]
  },
  {
   "cell_type": "code",
   "execution_count": 38,
   "metadata": {
    "collapsed": false
   },
   "outputs": [
    {
     "data": {
      "image/png": "[encoded data removed]",
      "text/plain": [
       "<matplotlib.figure.Figure at 0x7f98f49e8590>"
      ]
     },
     "metadata": {},
     "output_type": "display_data"
    }
   ],
   "source": [
    "sns.set(font_scale=2)\n",
    "plt.figure(figsize=(17,10))\n",
    "sns.countplot(data=df, y='ZIP')\n",
    "plt.show()"
   ]
  },
  {
   "cell_type": "code",
   "execution_count": 39,
   "metadata": {
    "collapsed": false
   },
   "outputs": [
    {
     "name": "stdout",
     "output_type": "stream",
     "text": [
      "which zip code is closer to the average\n"
     ]
    },
    {
     "data": {
      "text/plain": [
       "55107"
      ]
     },
     "execution_count": 39,
     "metadata": {},
     "output_type": "execute_result"
    }
   ],
   "source": [
    "print \"which zip code is closer to the average\"\n",
    "target_zip = np.argmin( (zip_counts - np.mean(zip_counts))**2 )\n",
    "target_zip"
   ]
  },
  {
   "cell_type": "code",
   "execution_count": 40,
   "metadata": {
    "collapsed": false
   },
   "outputs": [
    {
     "name": "stdout",
     "output_type": "stream",
     "text": [
      "this is how many homes we have in this zip code:\n"
     ]
    },
    {
     "data": {
      "text/plain": [
       "31"
      ]
     },
     "execution_count": 40,
     "metadata": {},
     "output_type": "execute_result"
    }
   ],
   "source": [
    "print \"this is how many homes we have in this zip code:\"\n",
    "zip_counts[target_zip]"
   ]
  },
  {
   "cell_type": "code",
   "execution_count": 41,
   "metadata": {
    "collapsed": false
   },
   "outputs": [
    {
     "data": {
      "text/plain": [
       "Index([u'4399602', u'4410942', u'4416440', u'4414396', u'4430034', u'4441237',\n",
       "       u'4437833', u'4440968', u'4428985', u'4399584', u'4423945', u'4401782',\n",
       "       u'4436783', u'4414297', u'4401035', u'4440692', u'4403464', u'4420124',\n",
       "       u'4405470', u'4429734', u'4427420', u'4435274', u'4429588', u'4408106',\n",
       "       u'4405033', u'4434599', u'4431325', u'4441404', u'4415200', u'4437698',\n",
       "       u'4397927'],\n",
       "      dtype='object', name=u'ID')"
      ]
     },
     "execution_count": 41,
     "metadata": {},
     "output_type": "execute_result"
    }
   ],
   "source": [
    "target_inds = df[df['ZIP'] == target_zip].index\n",
    "target_inds"
   ]
  },
  {
   "cell_type": "code",
   "execution_count": 42,
   "metadata": {
    "collapsed": false
   },
   "outputs": [
    {
     "data": {
      "text/html": [
       "<div>\n",
       "<table border=\"1\" class=\"dataframe\">\n",
       "  <thead>\n",
       "    <tr style=\"text-align: right;\">\n",
       "      <th></th>\n",
       "      <th>ADDRESS</th>\n",
       "      <th>CITY</th>\n",
       "      <th>ZIP</th>\n",
       "      <th>ListPrice</th>\n",
       "      <th>BEDS</th>\n",
       "      <th>BATHS</th>\n",
       "      <th>LOCATION</th>\n",
       "      <th>SQFT</th>\n",
       "      <th>LotSize</th>\n",
       "      <th>YearBuilt</th>\n",
       "      <th>ParkingSpots</th>\n",
       "      <th>HasGarage</th>\n",
       "      <th>DOM</th>\n",
       "      <th>SoldPrev</th>\n",
       "      <th>Realty</th>\n",
       "      <th>LATITUDE</th>\n",
       "      <th>LONGITUDE</th>\n",
       "      <th>ShortSale</th>\n",
       "    </tr>\n",
       "    <tr>\n",
       "      <th>ID</th>\n",
       "      <th></th>\n",
       "      <th></th>\n",
       "      <th></th>\n",
       "      <th></th>\n",
       "      <th></th>\n",
       "      <th></th>\n",
       "      <th></th>\n",
       "      <th></th>\n",
       "      <th></th>\n",
       "      <th></th>\n",
       "      <th></th>\n",
       "      <th></th>\n",
       "      <th></th>\n",
       "      <th></th>\n",
       "      <th></th>\n",
       "      <th></th>\n",
       "      <th></th>\n",
       "      <th></th>\n",
       "    </tr>\n",
       "  </thead>\n",
       "  <tbody>\n",
       "    <tr>\n",
       "      <th>4405033</th>\n",
       "      <td>629 Hall Ave</td>\n",
       "      <td>St. Paul</td>\n",
       "      <td>55107</td>\n",
       "      <td>169900</td>\n",
       "      <td>4</td>\n",
       "      <td>1,5</td>\n",
       "      <td>West Side</td>\n",
       "      <td>1544</td>\n",
       "      <td>7405.0</td>\n",
       "      <td>1900</td>\n",
       "      <td>3</td>\n",
       "      <td>Garage</td>\n",
       "      <td>137</td>\n",
       "      <td>N</td>\n",
       "      <td>Edina Realty, Inc.</td>\n",
       "      <td>44,926994</td>\n",
       "      <td>-93,087036</td>\n",
       "      <td>N</td>\n",
       "    </tr>\n",
       "  </tbody>\n",
       "</table>\n",
       "</div>"
      ],
      "text/plain": [
       "              ADDRESS      CITY    ZIP  ListPrice  BEDS BATHS   LOCATION  \\\n",
       "ID                                                                         \n",
       "4405033  629 Hall Ave  St. Paul  55107     169900     4   1,5  West Side   \n",
       "\n",
       "         SQFT  LotSize  YearBuilt  ParkingSpots HasGarage  DOM SoldPrev  \\\n",
       "ID                                                                        \n",
       "4405033  1544   7405.0       1900             3    Garage  137        N   \n",
       "\n",
       "                     Realty   LATITUDE   LONGITUDE ShortSale  \n",
       "ID                                                            \n",
       "4405033  Edina Realty, Inc.  44,926994  -93,087036         N  "
      ]
     },
     "execution_count": 42,
     "metadata": {},
     "output_type": "execute_result"
    }
   ],
   "source": [
    "df[df['ZIP'] == target_zip].sample(random_state=random_state)"
   ]
  },
  {
   "cell_type": "code",
   "execution_count": 43,
   "metadata": {
    "collapsed": true
   },
   "outputs": [],
   "source": [
    "sample_home = str(4405033)"
   ]
  },
  {
   "cell_type": "markdown",
   "metadata": {},
   "source": [
    "So let's consider for the sake of example that we are searching in St. Paul with zip code 55107"
   ]
  },
  {
   "cell_type": "code",
   "execution_count": 44,
   "metadata": {
    "collapsed": false
   },
   "outputs": [
    {
     "data": {
      "text/plain": [
       "BEDS               4.000000\n",
       "BATHS              1.500000\n",
       "SQFT            1544.000000\n",
       "LotSize         7405.000000\n",
       "ParkingSpots       3.000000\n",
       "HasGarage          1.000000\n",
       "LATITUDE          44.926994\n",
       "LONGITUDE        -93.087036\n",
       "ShortSale          0.000000\n",
       "CITY_0             0.000000\n",
       "CITY_1             0.000000\n",
       "CITY_2             1.000000\n",
       "CITY_3             0.000000\n",
       "CITY_4             0.000000\n",
       "ZIP_0              0.000000\n",
       "ZIP_1              0.000000\n",
       "ZIP_2              0.000000\n",
       "ZIP_3              0.000000\n",
       "ZIP_4              0.000000\n",
       "ZIP_5              1.000000\n",
       "ZIP_6              0.000000\n",
       "ZIP_7              0.000000\n",
       "ZIP_8              0.000000\n",
       "ZIP_9              0.000000\n",
       "ZIP_10             0.000000\n",
       "ZIP_11             0.000000\n",
       "ZIP_12             0.000000\n",
       "ZIP_13             0.000000\n",
       "ZIP_14             0.000000\n",
       "ZIP_15             0.000000\n",
       "ZIP_16             0.000000\n",
       "ZIP_17             0.000000\n",
       "ZIP_18             0.000000\n",
       "ZIP_19             0.000000\n",
       "ZIP_20             0.000000\n",
       "ZIP_21             0.000000\n",
       "ZIP_22             0.000000\n",
       "ZIP_23             0.000000\n",
       "ZIP_24             0.000000\n",
       "ZIP_25             0.000000\n",
       "ZIP_26             0.000000\n",
       "ZIP_27             0.000000\n",
       "ZIP_28             0.000000\n",
       "ZIP_29             0.000000\n",
       "ZIP_30             0.000000\n",
       "ZIP_31             0.000000\n",
       "age              114.000000\n",
       "Name: 4405033, dtype: float64"
      ]
     },
     "execution_count": 44,
     "metadata": {},
     "output_type": "execute_result"
    }
   ],
   "source": [
    "test_inst = XX.loc[sample_home]\n",
    "test_inst"
   ]
  },
  {
   "cell_type": "code",
   "execution_count": 45,
   "metadata": {
    "collapsed": false
   },
   "outputs": [
    {
     "data": {
      "text/plain": [
       "array(['ZIP_0', 'ZIP_1', 'ZIP_2', 'ZIP_3', 'ZIP_4', 'ZIP_5', 'ZIP_6',\n",
       "       'ZIP_7', 'ZIP_8', 'ZIP_9', 'ZIP_10', 'ZIP_11', 'ZIP_12', 'ZIP_13',\n",
       "       'ZIP_14', 'ZIP_15', 'ZIP_16', 'ZIP_17', 'ZIP_18', 'ZIP_19',\n",
       "       'ZIP_20', 'ZIP_21', 'ZIP_22', 'ZIP_23', 'ZIP_24', 'ZIP_25',\n",
       "       'ZIP_26', 'ZIP_27', 'ZIP_28', 'ZIP_29', 'ZIP_30', 'ZIP_31'], \n",
       "      dtype='|S6')"
      ]
     },
     "execution_count": 45,
     "metadata": {},
     "output_type": "execute_result"
    }
   ],
   "source": [
    "zip_inds = [ind for ind in test_inst.index if 'ZIP' in ind]\n",
    "np.array(zip_inds)"
   ]
  },
  {
   "cell_type": "code",
   "execution_count": 46,
   "metadata": {
    "collapsed": false
   },
   "outputs": [
    {
     "data": {
      "text/plain": [
       "ZIP_0     0.0\n",
       "ZIP_1     0.0\n",
       "ZIP_2     0.0\n",
       "ZIP_3     0.0\n",
       "ZIP_4     0.0\n",
       "ZIP_5     1.0\n",
       "ZIP_6     0.0\n",
       "ZIP_7     0.0\n",
       "ZIP_8     0.0\n",
       "ZIP_9     0.0\n",
       "ZIP_10    0.0\n",
       "ZIP_11    0.0\n",
       "ZIP_12    0.0\n",
       "ZIP_13    0.0\n",
       "ZIP_14    0.0\n",
       "ZIP_15    0.0\n",
       "ZIP_16    0.0\n",
       "ZIP_17    0.0\n",
       "ZIP_18    0.0\n",
       "ZIP_19    0.0\n",
       "ZIP_20    0.0\n",
       "ZIP_21    0.0\n",
       "ZIP_22    0.0\n",
       "ZIP_23    0.0\n",
       "ZIP_24    0.0\n",
       "ZIP_25    0.0\n",
       "ZIP_26    0.0\n",
       "ZIP_27    0.0\n",
       "ZIP_28    0.0\n",
       "ZIP_29    0.0\n",
       "ZIP_30    0.0\n",
       "ZIP_31    0.0\n",
       "Name: 4405033, dtype: float64"
      ]
     },
     "execution_count": 46,
     "metadata": {},
     "output_type": "execute_result"
    }
   ],
   "source": [
    "test_inst[zip_inds]"
   ]
  },
  {
   "cell_type": "code",
   "execution_count": 47,
   "metadata": {
    "collapsed": false
   },
   "outputs": [
    {
     "data": {
      "text/plain": [
       "(31, 47)"
      ]
     },
     "execution_count": 47,
     "metadata": {},
     "output_type": "execute_result"
    }
   ],
   "source": [
    "XX_area = XX[XX['ZIP_5']==1]\n",
    "XX_area.shape"
   ]
  },
  {
   "cell_type": "code",
   "execution_count": 48,
   "metadata": {
    "collapsed": false
   },
   "outputs": [
    {
     "data": {
      "text/plain": [
       "90.0"
      ]
     },
     "execution_count": 48,
     "metadata": {},
     "output_type": "execute_result"
    }
   ],
   "source": [
    "average_age = np.round(np.mean(XX_area['age']))\n",
    "test_inst['age'] = average_age\n",
    "average_age"
   ]
  },
  {
   "cell_type": "code",
   "execution_count": 49,
   "metadata": {
    "collapsed": false
   },
   "outputs": [
    {
     "data": {
      "text/plain": [
       "44.92574629032257"
      ]
     },
     "execution_count": 49,
     "metadata": {},
     "output_type": "execute_result"
    }
   ],
   "source": [
    "average_latitude = np.mean(XX_area['LATITUDE'])\n",
    "test_inst['LATITUDE'] = average_latitude\n",
    "average_latitude"
   ]
  },
  {
   "cell_type": "code",
   "execution_count": 50,
   "metadata": {
    "collapsed": false
   },
   "outputs": [
    {
     "data": {
      "text/plain": [
       "-93.08591264516132"
      ]
     },
     "execution_count": 50,
     "metadata": {},
     "output_type": "execute_result"
    }
   ],
   "source": [
    "average_LONGITUDE = np.mean(XX_area['LONGITUDE'])\n",
    "test_inst['LONGITUDE'] = average_LONGITUDE\n",
    "average_LONGITUDE"
   ]
  },
  {
   "cell_type": "code",
   "execution_count": 51,
   "metadata": {
    "collapsed": false
   },
   "outputs": [
    {
     "data": {
      "text/plain": [
       "3.0"
      ]
     },
     "execution_count": 51,
     "metadata": {},
     "output_type": "execute_result"
    }
   ],
   "source": [
    "average_BEDS = np.round(np.mean(XX_area['BEDS']))\n",
    "test_inst['BEDS'] = average_BEDS\n",
    "average_BEDS"
   ]
  },
  {
   "cell_type": "code",
   "execution_count": 52,
   "metadata": {
    "collapsed": false
   },
   "outputs": [
    {
     "data": {
      "text/plain": [
       "1.5"
      ]
     },
     "execution_count": 52,
     "metadata": {},
     "output_type": "execute_result"
    }
   ],
   "source": [
    "average_BATHS = np.round( np.mean(XX_area['BATHS']) * 2 ) / 2.\n",
    "test_inst['BATHS'] = average_BATHS\n",
    "average_BATHS"
   ]
  },
  {
   "cell_type": "code",
   "execution_count": 53,
   "metadata": {
    "collapsed": false
   },
   "outputs": [
    {
     "name": "stdout",
     "output_type": "stream",
     "text": [
      "compare the average sqft of the area with the target sqft\n",
      "2111.0\n"
     ]
    },
    {
     "data": {
      "text/plain": [
       "1460.1612903225807"
      ]
     },
     "execution_count": 53,
     "metadata": {},
     "output_type": "execute_result"
    }
   ],
   "source": [
    "print \"compare the average sqft of the area with the target sqft\"\n",
    "print target_sqft\n",
    "np.mean(XX_area['SQFT'])"
   ]
  },
  {
   "cell_type": "code",
   "execution_count": 54,
   "metadata": {
    "collapsed": false
   },
   "outputs": [
    {
     "name": "stderr",
     "output_type": "stream",
     "text": [
      "/home/student/anaconda2/envs/iaml/lib/python2.7/site-packages/ipykernel/__main__.py:1: FutureWarning: \n",
      "The default value for 'return_type' will change to 'axes' in a future release.\n",
      " To use the future behavior now, set return_type='axes'.\n",
      " To keep the previous behavior and silence this warning, set return_type='dict'.\n",
      "  if __name__ == '__main__':\n"
     ]
    },
    {
     "data": {
      "image/png": "[encoded data removed]",
      "text/plain": [
       "<matplotlib.figure.Figure at 0x7f98f1618350>"
      ]
     },
     "metadata": {},
     "output_type": "display_data"
    }
   ],
   "source": [
    "XX_area['SQFT'].to_frame().boxplot()\n",
    "plt.show()"
   ]
  },
  {
   "cell_type": "markdown",
   "metadata": {},
   "source": [
    "So according to the boxplot above it is obvious that a house with 2111 sqft would be considered an outlier\n",
    "\n",
    "But recall that we have chosen a random area, so perhaps in a real situation we would not fall into this case where a very large house would appear in an area that perhaps does not have room of such large houses"
   ]
  },
  {
   "cell_type": "code",
   "execution_count": 55,
   "metadata": {
    "collapsed": false
   },
   "outputs": [
    {
     "data": {
      "text/plain": [
       "2111.0"
      ]
     },
     "execution_count": 55,
     "metadata": {},
     "output_type": "execute_result"
    }
   ],
   "source": [
    "test_inst['SQFT'] = target_sqft\n",
    "test_inst['SQFT']"
   ]
  },
  {
   "cell_type": "code",
   "execution_count": 56,
   "metadata": {
    "collapsed": false
   },
   "outputs": [
    {
     "data": {
      "text/plain": [
       "5681.0"
      ]
     },
     "execution_count": 56,
     "metadata": {},
     "output_type": "execute_result"
    }
   ],
   "source": [
    "average_LotSize = np.round( np.mean(XX_area['LotSize']) )\n",
    "test_inst['LotSize'] = average_LotSize\n",
    "average_LotSize"
   ]
  },
  {
   "cell_type": "code",
   "execution_count": 57,
   "metadata": {
    "collapsed": false
   },
   "outputs": [
    {
     "data": {
      "text/plain": [
       "2.0"
      ]
     },
     "execution_count": 57,
     "metadata": {},
     "output_type": "execute_result"
    }
   ],
   "source": [
    "average_ParkingSpots = np.round( np.mean(XX_area['ParkingSpots']) )\n",
    "test_inst['ParkingSpots'] = average_ParkingSpots\n",
    "average_ParkingSpots"
   ]
  },
  {
   "cell_type": "code",
   "execution_count": 58,
   "metadata": {
    "collapsed": false
   },
   "outputs": [
    {
     "data": {
      "text/plain": [
       "1"
      ]
     },
     "execution_count": 58,
     "metadata": {},
     "output_type": "execute_result"
    }
   ],
   "source": [
    "most_freq_HasGarage = int(np.sum(XX_area['HasGarage']) / len(XX_area) >= 0.5)\n",
    "test_inst['HasGarage'] = most_freq_HasGarage\n",
    "most_freq_HasGarage"
   ]
  },
  {
   "cell_type": "code",
   "execution_count": 59,
   "metadata": {
    "collapsed": false
   },
   "outputs": [
    {
     "data": {
      "text/plain": [
       "0"
      ]
     },
     "execution_count": 59,
     "metadata": {},
     "output_type": "execute_result"
    }
   ],
   "source": [
    "most_freq_ShortSale = int(np.sum(XX_area['ShortSale']) / len(XX_area) >= 0.5)\n",
    "test_inst['ShortSale'] = most_freq_ShortSale\n",
    "most_freq_ShortSale"
   ]
  },
  {
   "cell_type": "code",
   "execution_count": 60,
   "metadata": {
    "collapsed": false
   },
   "outputs": [
    {
     "name": "stdout",
     "output_type": "stream",
     "text": [
      "this is the price that we are predicting for the a house of certain zip code and city and of 2111 sqft\n"
     ]
    },
    {
     "data": {
      "text/plain": [
       "array([ 319198.37645277])"
      ]
     },
     "execution_count": 60,
     "metadata": {},
     "output_type": "execute_result"
    }
   ],
   "source": [
    "print \"this is the price that we are predicting for the a house of certain zip code and city and of 2111 sqft\"\n",
    "model.predict(test_inst.values.reshape(1,-1))"
   ]
  },
  {
   "cell_type": "code",
   "execution_count": null,
   "metadata": {
    "collapsed": true
   },
   "outputs": [],
   "source": []
  },
  {
   "cell_type": "code",
   "execution_count": 67,
   "metadata": {
    "collapsed": true
   },
   "outputs": [],
   "source": [
    "def originalModel_getPrice(target_zip, target_sqft):\n",
    "    target_inds = df[df['ZIP'] == target_zip].index\n",
    "    XX_area = XX.loc[target_inds]\n",
    "    assert len(XX_area) > 0, \"target zip {} has no instances??\".format(target_zip)\n",
    "    test_inst = XX_area.iloc[0]\n",
    "    test_inst['age'] = np.round(np.mean(XX_area['age']))\n",
    "    test_inst['LATITUDE'] = np.mean(XX_area['LATITUDE'])\n",
    "    test_inst['LONGITUDE'] = np.mean(XX_area['LONGITUDE'])\n",
    "    test_inst['BEDS'] = np.round(np.mean(XX_area['BEDS']))\n",
    "    test_inst['BATHS'] = np.round( np.mean(XX_area['BATHS']) * 2 ) / 2.\n",
    "    test_inst['SQFT'] = target_sqft\n",
    "    test_inst['LotSize'] = np.round( np.mean(XX_area['LotSize']) )\n",
    "    test_inst['ParkingSpots'] = np.round( np.mean(XX_area['ParkingSpots']) )\n",
    "    test_inst['HasGarage'] = int(np.sum(XX_area['HasGarage']) / len(XX_area) >= 0.5)\n",
    "    test_inst['ShortSale'] = int(np.sum(XX_area['ShortSale']) / len(XX_area) >= 0.5)\n",
    "    #print test_inst.shape\n",
    "    return model.predict(test_inst.values.reshape(1,-1))[0]"
   ]
  },
  {
   "cell_type": "code",
   "execution_count": 68,
   "metadata": {
    "collapsed": true
   },
   "outputs": [],
   "source": [
    "zips = [55105, 55116, 55408, 55409, 55410, 55419, 55102]"
   ]
  },
  {
   "cell_type": "code",
   "execution_count": 69,
   "metadata": {
    "collapsed": false
   },
   "outputs": [
    {
     "data": {
      "text/plain": [
       "{55102: 375390.50264020264,\n",
       " 55105: 379688.47903862596,\n",
       " 55116: 391439.97434100509,\n",
       " 55408: 530891.45318065584,\n",
       " 55409: 453609.28939040005,\n",
       " 55410: 565426.21209213138,\n",
       " 55419: 361722.30597694218}"
      ]
     },
     "execution_count": 69,
     "metadata": {},
     "output_type": "execute_result"
    }
   ],
   "source": [
    "orig_model_res = {}\n",
    "for zip_code in zips:\n",
    "    orig_model_res[zip_code] = originalModel_getPrice(target_zip=zip_code, target_sqft=target_sqft)\n",
    "\n",
    "orig_model_res"
   ]
  },
  {
   "cell_type": "markdown",
   "metadata": {},
   "source": [
    "# Alternatives"
   ]
  },
  {
   "cell_type": "code",
   "execution_count": 70,
   "metadata": {
    "collapsed": true
   },
   "outputs": [],
   "source": [
    "from sklearn.preprocessing import LabelEncoder"
   ]
  },
  {
   "cell_type": "code",
   "execution_count": 71,
   "metadata": {
    "collapsed": true
   },
   "outputs": [],
   "source": [
    "le = LabelEncoder()"
   ]
  },
  {
   "cell_type": "code",
   "execution_count": 72,
   "metadata": {
    "collapsed": false
   },
   "outputs": [
    {
     "data": {
      "text/plain": [
       "LabelEncoder()"
      ]
     },
     "execution_count": 72,
     "metadata": {},
     "output_type": "execute_result"
    }
   ],
   "source": [
    "le.fit(df['ZIP'])"
   ]
  },
  {
   "cell_type": "code",
   "execution_count": 73,
   "metadata": {
    "collapsed": false
   },
   "outputs": [
    {
     "data": {
      "text/plain": [
       "(1111, 47)"
      ]
     },
     "execution_count": 73,
     "metadata": {},
     "output_type": "execute_result"
    }
   ],
   "source": [
    "XX.shape"
   ]
  },
  {
   "cell_type": "code",
   "execution_count": 74,
   "metadata": {
    "collapsed": false
   },
   "outputs": [
    {
     "data": {
      "text/plain": [
       "(1111, 18)"
      ]
     },
     "execution_count": 74,
     "metadata": {},
     "output_type": "execute_result"
    }
   ],
   "source": [
    "df.shape"
   ]
  },
  {
   "cell_type": "code",
   "execution_count": 75,
   "metadata": {
    "collapsed": true
   },
   "outputs": [],
   "source": [
    "XX['ZIP'] = df['ZIP'] #just append this our table"
   ]
  },
  {
   "cell_type": "code",
   "execution_count": 76,
   "metadata": {
    "collapsed": false
   },
   "outputs": [
    {
     "data": {
      "image/png": "[encoded data removed]",
      "text/plain": [
       "<matplotlib.figure.Figure at 0x7f98f15ba750>"
      ]
     },
     "metadata": {},
     "output_type": "display_data"
    }
   ],
   "source": [
    "sns.distplot(XX['SQFT'])\n",
    "plt.show()"
   ]
  },
  {
   "cell_type": "code",
   "execution_count": 77,
   "metadata": {
    "collapsed": false
   },
   "outputs": [
    {
     "data": {
      "text/plain": [
       "(56,)"
      ]
     },
     "execution_count": 77,
     "metadata": {},
     "output_type": "execute_result"
    }
   ],
   "source": [
    "#choose an area\n",
    "cur_ins = XX[XX['ZIP'] == 55410]\n",
    "cur_tars = yy[XX['ZIP'] == 55410]\n",
    "cur_tars.shape"
   ]
  },
  {
   "cell_type": "code",
   "execution_count": 78,
   "metadata": {
    "collapsed": true
   },
   "outputs": [],
   "source": [
    "#for all listings in an area find the sqft one std from mean but the distribution is not that gaussian\n",
    "#so you could take the Q1 and Q3 quartiles and see if it is within that range"
   ]
  },
  {
   "cell_type": "code",
   "execution_count": 79,
   "metadata": {
    "collapsed": false
   },
   "outputs": [
    {
     "data": {
      "text/plain": [
       "array([ 1711.75,  3631.25])"
      ]
     },
     "execution_count": 79,
     "metadata": {},
     "output_type": "execute_result"
    }
   ],
   "source": [
    "thresholds = np.percentile(cur_ins['SQFT'], [25, 75])\n",
    "thresholds"
   ]
  },
  {
   "cell_type": "code",
   "execution_count": 80,
   "metadata": {
    "collapsed": false
   },
   "outputs": [
    {
     "data": {
      "text/plain": [
       "True"
      ]
     },
     "execution_count": 80,
     "metadata": {},
     "output_type": "execute_result"
    }
   ],
   "source": [
    "#check if target threshold is within this range, if not do NOT proceed with this area as we cannot be certain\n",
    "is_within_range = thresholds[0] <= target_sqft <= thresholds[1]\n",
    "is_within_range"
   ]
  },
  {
   "cell_type": "code",
   "execution_count": 81,
   "metadata": {
    "collapsed": true
   },
   "outputs": [],
   "source": [
    "k=3"
   ]
  },
  {
   "cell_type": "code",
   "execution_count": 82,
   "metadata": {
    "collapsed": false
   },
   "outputs": [
    {
     "data": {
      "text/plain": [
       "ID\n",
       "4415763     269361.0\n",
       "4440599     491401.0\n",
       "4436308     960400.0\n",
       "4434982    2111209.0\n",
       "4440352     567009.0\n",
       "Name: SQFT, dtype: float64"
      ]
     },
     "execution_count": 82,
     "metadata": {},
     "output_type": "execute_result"
    }
   ],
   "source": [
    "sq_dists = (cur_ins['SQFT'] - target_sqft)**2\n",
    "sq_dists[:5]"
   ]
  },
  {
   "cell_type": "code",
   "execution_count": 83,
   "metadata": {
    "collapsed": false
   },
   "outputs": [
    {
     "data": {
      "text/plain": [
       "ID\n",
       "4431409      169.0\n",
       "4433198    53824.0\n",
       "4369066    66564.0\n",
       "Name: SQFT, dtype: float64"
      ]
     },
     "execution_count": 83,
     "metadata": {},
     "output_type": "execute_result"
    }
   ],
   "source": [
    "closests = sq_dists.sort_values(ascending=True)[:k]\n",
    "closests"
   ]
  },
  {
   "cell_type": "code",
   "execution_count": 84,
   "metadata": {
    "collapsed": false
   },
   "outputs": [
    {
     "data": {
      "text/plain": [
       "ID\n",
       "4431409    334900\n",
       "4433198    249900\n",
       "4369066    259900\n",
       "Name: ListPrice, dtype: int64"
      ]
     },
     "execution_count": 84,
     "metadata": {},
     "output_type": "execute_result"
    }
   ],
   "source": [
    "close_prices = cur_tars.loc[closests.index]\n",
    "close_prices"
   ]
  },
  {
   "cell_type": "code",
   "execution_count": 85,
   "metadata": {
    "collapsed": false
   },
   "outputs": [
    {
     "data": {
      "text/plain": [
       "281566.6666666667"
      ]
     },
     "execution_count": 85,
     "metadata": {},
     "output_type": "execute_result"
    }
   ],
   "source": [
    "np.mean(close_prices)"
   ]
  },
  {
   "cell_type": "code",
   "execution_count": 86,
   "metadata": {
    "collapsed": true
   },
   "outputs": [],
   "source": [
    "def getExpectedPrice(dataframe, zip_code, target_sqft, kk=3):\n",
    "    filtering = dataframe['ZIP'] == zip_code\n",
    "    cur_sqfts = dataframe[filtering]['SQFT']\n",
    "    cur_tars = dataframe[filtering]['ListPrice']\n",
    "    thresholds = np.percentile(cur_sqfts, [25, 75])\n",
    "    is_within_range = thresholds[0] <= target_sqft <= thresholds[1]\n",
    "    if is_within_range:\n",
    "        sq_dists = (cur_sqfts - target_sqft)**2\n",
    "        closests = sq_dists.sort_values(ascending=True)[:kk]\n",
    "        close_prices = cur_tars.loc[closests.index]\n",
    "        return np.mean(close_prices)\n",
    "    else:\n",
    "        return None"
   ]
  },
  {
   "cell_type": "code",
   "execution_count": 87,
   "metadata": {
    "collapsed": false
   },
   "outputs": [
    {
     "data": {
      "text/plain": [
       "array([55113, 55104, 55106, 55126, 55418, 55116, 55103, 55117, 55105,\n",
       "       55419, 55129, 55417, 55411, 55130, 55108, 55102, 55119, 55413,\n",
       "       55107, 55408, 55407, 55412, 55118, 55409, 55405, 55406, 55114,\n",
       "       55404, 55410, 55416, 55101, 55430, 55421])"
      ]
     },
     "execution_count": 87,
     "metadata": {},
     "output_type": "execute_result"
    }
   ],
   "source": [
    "zip_codes = df['ZIP'].unique()\n",
    "zip_codes"
   ]
  },
  {
   "cell_type": "code",
   "execution_count": 88,
   "metadata": {
    "collapsed": false
   },
   "outputs": [
    {
     "data": {
      "text/plain": [
       "7"
      ]
     },
     "execution_count": 88,
     "metadata": {},
     "output_type": "execute_result"
    }
   ],
   "source": [
    "expected_per_zip_code = dict([(zip_code, price) for (zip_code, price) in [(zip_code, getExpectedPrice(\n",
    "                dataframe=df,\n",
    "                target_sqft=2111.,\n",
    "                zip_code=zip_code)) for zip_code in zip_codes]\n",
    " if price is not None])\n",
    "\n",
    "len(expected_per_zip_code)"
   ]
  },
  {
   "cell_type": "code",
   "execution_count": 89,
   "metadata": {
    "collapsed": false
   },
   "outputs": [
    {
     "data": {
      "text/plain": [
       "33"
      ]
     },
     "execution_count": 89,
     "metadata": {},
     "output_type": "execute_result"
    }
   ],
   "source": [
    "len(zip_codes)"
   ]
  },
  {
   "cell_type": "code",
   "execution_count": 90,
   "metadata": {
    "collapsed": false
   },
   "outputs": [
    {
     "data": {
      "text/plain": [
       "[55105, 55116, 55408, 55409, 55410, 55419, 55102]"
      ]
     },
     "execution_count": 90,
     "metadata": {},
     "output_type": "execute_result"
    }
   ],
   "source": [
    "expected_per_zip_code.keys()"
   ]
  },
  {
   "cell_type": "code",
   "execution_count": 91,
   "metadata": {
    "collapsed": false
   },
   "outputs": [
    {
     "data": {
      "text/plain": [
       "ZIP\n",
       "55102    25\n",
       "55105    53\n",
       "55116    44\n",
       "55408    18\n",
       "55409    16\n",
       "55410    56\n",
       "55419    59\n",
       "Name: ADDRESS, dtype: int64"
      ]
     },
     "execution_count": 91,
     "metadata": {},
     "output_type": "execute_result"
    }
   ],
   "source": [
    "zips_to_play = df[np.in1d(df['ZIP'], expected_per_zip_code.keys())].groupby('ZIP').count()['ADDRESS']\n",
    "zips_to_play"
   ]
  },
  {
   "cell_type": "code",
   "execution_count": 94,
   "metadata": {
    "collapsed": false
   },
   "outputs": [
    {
     "data": {
      "text/html": [
       "<div>\n",
       "<table border=\"1\" class=\"dataframe\">\n",
       "  <thead>\n",
       "    <tr style=\"text-align: right;\">\n",
       "      <th></th>\n",
       "      <th>knn</th>\n",
       "    </tr>\n",
       "  </thead>\n",
       "  <tbody>\n",
       "    <tr>\n",
       "      <th>55105</th>\n",
       "      <td>398233.333333</td>\n",
       "    </tr>\n",
       "    <tr>\n",
       "      <th>55116</th>\n",
       "      <td>446600.000000</td>\n",
       "    </tr>\n",
       "    <tr>\n",
       "      <th>55408</th>\n",
       "      <td>279933.333333</td>\n",
       "    </tr>\n",
       "    <tr>\n",
       "      <th>55409</th>\n",
       "      <td>363233.333333</td>\n",
       "    </tr>\n",
       "    <tr>\n",
       "      <th>55410</th>\n",
       "      <td>281566.666667</td>\n",
       "    </tr>\n",
       "    <tr>\n",
       "      <th>55419</th>\n",
       "      <td>498266.666667</td>\n",
       "    </tr>\n",
       "    <tr>\n",
       "      <th>55102</th>\n",
       "      <td>358300.000000</td>\n",
       "    </tr>\n",
       "  </tbody>\n",
       "</table>\n",
       "</div>"
      ],
      "text/plain": [
       "                 knn\n",
       "55105  398233.333333\n",
       "55116  446600.000000\n",
       "55408  279933.333333\n",
       "55409  363233.333333\n",
       "55410  281566.666667\n",
       "55419  498266.666667\n",
       "55102  358300.000000"
      ]
     },
     "execution_count": 94,
     "metadata": {},
     "output_type": "execute_result"
    }
   ],
   "source": [
    "knn_df = pd.DataFrame({\n",
    "        'knn': expected_per_zip_code.values(),\n",
    "    }, index = expected_per_zip_code.keys())\n",
    "knn_df"
   ]
  },
  {
   "cell_type": "code",
   "execution_count": 96,
   "metadata": {
    "collapsed": false
   },
   "outputs": [
    {
     "data": {
      "text/plain": [
       "(7, 1)"
      ]
     },
     "execution_count": 96,
     "metadata": {},
     "output_type": "execute_result"
    }
   ],
   "source": [
    "multi_df = pd.DataFrame({\n",
    "        'multi': orig_model_res.values(),\n",
    "    }, index = orig_model_res.keys())\n",
    "multi_df.shape"
   ]
  },
  {
   "cell_type": "code",
   "execution_count": 97,
   "metadata": {
    "collapsed": false
   },
   "outputs": [
    {
     "data": {
      "text/html": [
       "<div>\n",
       "<table border=\"1\" class=\"dataframe\">\n",
       "  <thead>\n",
       "    <tr style=\"text-align: right;\">\n",
       "      <th></th>\n",
       "      <th>knn</th>\n",
       "      <th>multi</th>\n",
       "    </tr>\n",
       "  </thead>\n",
       "  <tbody>\n",
       "    <tr>\n",
       "      <th>55105</th>\n",
       "      <td>398233.333333</td>\n",
       "      <td>379688.479039</td>\n",
       "    </tr>\n",
       "    <tr>\n",
       "      <th>55116</th>\n",
       "      <td>446600.000000</td>\n",
       "      <td>391439.974341</td>\n",
       "    </tr>\n",
       "    <tr>\n",
       "      <th>55408</th>\n",
       "      <td>279933.333333</td>\n",
       "      <td>530891.453181</td>\n",
       "    </tr>\n",
       "    <tr>\n",
       "      <th>55409</th>\n",
       "      <td>363233.333333</td>\n",
       "      <td>453609.289390</td>\n",
       "    </tr>\n",
       "    <tr>\n",
       "      <th>55410</th>\n",
       "      <td>281566.666667</td>\n",
       "      <td>565426.212092</td>\n",
       "    </tr>\n",
       "    <tr>\n",
       "      <th>55419</th>\n",
       "      <td>498266.666667</td>\n",
       "      <td>361722.305977</td>\n",
       "    </tr>\n",
       "    <tr>\n",
       "      <th>55102</th>\n",
       "      <td>358300.000000</td>\n",
       "      <td>375390.502640</td>\n",
       "    </tr>\n",
       "  </tbody>\n",
       "</table>\n",
       "</div>"
      ],
      "text/plain": [
       "                 knn          multi\n",
       "55105  398233.333333  379688.479039\n",
       "55116  446600.000000  391439.974341\n",
       "55408  279933.333333  530891.453181\n",
       "55409  363233.333333  453609.289390\n",
       "55410  281566.666667  565426.212092\n",
       "55419  498266.666667  361722.305977\n",
       "55102  358300.000000  375390.502640"
      ]
     },
     "execution_count": 97,
     "metadata": {},
     "output_type": "execute_result"
    }
   ],
   "source": [
    "pd.concat((knn_df, multi_df), axis=1)"
   ]
  },
  {
   "cell_type": "markdown",
   "metadata": {},
   "source": [
    "# Alternative 2"
   ]
  },
  {
   "cell_type": "code",
   "execution_count": 98,
   "metadata": {
    "collapsed": true
   },
   "outputs": [],
   "source": [
    "from ecdf import ecdf\n",
    "from bootstrap_pairs_linear_regression import draw_bs_pairs_linreg"
   ]
  },
  {
   "cell_type": "code",
   "execution_count": 99,
   "metadata": {
    "collapsed": false
   },
   "outputs": [],
   "source": [
    "target_zip = 55419\n",
    "target_sqft = 2111."
   ]
  },
  {
   "cell_type": "code",
   "execution_count": 100,
   "metadata": {
    "collapsed": false
   },
   "outputs": [
    {
     "data": {
      "text/plain": [
       "(59, 48)"
      ]
     },
     "execution_count": 100,
     "metadata": {},
     "output_type": "execute_result"
    }
   ],
   "source": [
    "cur_ins = XX[df['ZIP']== target_zip]\n",
    "cur_ins.shape"
   ]
  },
  {
   "cell_type": "code",
   "execution_count": 101,
   "metadata": {
    "collapsed": false
   },
   "outputs": [
    {
     "data": {
      "text/plain": [
       "(59,)"
      ]
     },
     "execution_count": 101,
     "metadata": {},
     "output_type": "execute_result"
    }
   ],
   "source": [
    "cur_tars = yy[df['ZIP'] == target_zip]\n",
    "cur_tars.shape"
   ]
  },
  {
   "cell_type": "code",
   "execution_count": 102,
   "metadata": {
    "collapsed": false
   },
   "outputs": [
    {
     "data": {
      "text/plain": [
       "(59,)"
      ]
     },
     "execution_count": 102,
     "metadata": {},
     "output_type": "execute_result"
    }
   ],
   "source": [
    "cur_sqft = cur_ins['SQFT']\n",
    "cur_sqft.shape"
   ]
  },
  {
   "cell_type": "code",
   "execution_count": 103,
   "metadata": {
    "collapsed": true
   },
   "outputs": [],
   "source": [
    "from bootstrap_replicates import draw_bootstrap_replicates"
   ]
  },
  {
   "cell_type": "code",
   "execution_count": 104,
   "metadata": {
    "collapsed": false
   },
   "outputs": [
    {
     "data": {
      "text/plain": [
       "50"
      ]
     },
     "execution_count": 104,
     "metadata": {},
     "output_type": "execute_result"
    }
   ],
   "source": [
    "cdfs = draw_bootstrap_replicates(ecdf, 50, random_state, cur_sqft)\n",
    "len(cdfs)"
   ]
  },
  {
   "cell_type": "code",
   "execution_count": 105,
   "metadata": {
    "collapsed": false
   },
   "outputs": [
    {
     "data": {
      "image/png": "[encoded data removed]",
      "text/plain": [
       "<matplotlib.figure.Figure at 0x7f98f02b5490>"
      ]
     },
     "metadata": {},
     "output_type": "display_data"
    }
   ],
   "source": [
    "for ii in range(len(cdfs)):\n",
    "    cur_cdf = cdfs[ii]\n",
    "    plt.plot(cur_cdf[0], cur_cdf[1], marker='.', linestyle='none',\n",
    "                 color='gray',\n",
    "             alpha=0.1)\n",
    "\n",
    "#Compute and plot ECDF from original data\n",
    "x, y = ecdf(cur_sqft)\n",
    "_ = plt.plot(x, y, marker='.')\n",
    "\n",
    "# Make margins and label axes\n",
    "plt.margins(0.02)\n",
    "_ = plt.xlabel('SQFT for current area')\n",
    "_ = plt.ylabel('ECDF')\n",
    "\n",
    "# Show the plot\n",
    "plt.show()"
   ]
  },
  {
   "cell_type": "code",
   "execution_count": 106,
   "metadata": {
    "collapsed": false
   },
   "outputs": [],
   "source": [
    "from ecdf import plot_ecdf_bootstrap_replicates"
   ]
  },
  {
   "cell_type": "code",
   "execution_count": 107,
   "metadata": {
    "collapsed": false
   },
   "outputs": [
    {
     "data": {
      "image/png": "[encoded data removed]",
      "text/plain": [
       "<matplotlib.figure.Figure at 0x7f98f16be610>"
      ]
     },
     "metadata": {},
     "output_type": "display_data"
    }
   ],
   "source": [
    "plt.figure(figsize=(17,6))\n",
    "plot_ecdf_bootstrap_replicates(50, random_state, cur_tars, xlabel='Listing Price for current area')\n",
    "plt.show()"
   ]
  },
  {
   "cell_type": "code",
   "execution_count": 108,
   "metadata": {
    "collapsed": false
   },
   "outputs": [
    {
     "data": {
      "text/plain": [
       "10000"
      ]
     },
     "execution_count": 108,
     "metadata": {},
     "output_type": "execute_result"
    }
   ],
   "source": [
    "sqft_means = draw_bootstrap_replicates(np.mean, 10000, random_state, cur_sqft)\n",
    "len(sqft_means)"
   ]
  },
  {
   "cell_type": "code",
   "execution_count": 109,
   "metadata": {
    "collapsed": true
   },
   "outputs": [],
   "source": [
    "import matplotlib as mpl\n",
    "mpl.rcParams['figure.figsize'] = (15, 7)\n",
    "#mpl.rcParams['lines.color'] = 'r'"
   ]
  },
  {
   "cell_type": "code",
   "execution_count": 110,
   "metadata": {
    "collapsed": false
   },
   "outputs": [
    {
     "data": {
      "image/png": "[encoded data removed]",
      "text/plain": [
       "<matplotlib.figure.Figure at 0x7f98f0497b50>"
      ]
     },
     "metadata": {},
     "output_type": "display_data"
    }
   ],
   "source": [
    "#plt.figure(figsize=(15,7))\n",
    "sns.distplot(sqft_means)\n",
    "plt.show()"
   ]
  },
  {
   "cell_type": "code",
   "execution_count": 111,
   "metadata": {
    "collapsed": false
   },
   "outputs": [
    {
     "data": {
      "text/plain": [
       "array([ 2081.22033898,  2668.77372881])"
      ]
     },
     "execution_count": 111,
     "metadata": {},
     "output_type": "execute_result"
    }
   ],
   "source": [
    "np.percentile(sqft_means, [2.5, 97.5]) #95% confidence interval"
   ]
  },
  {
   "cell_type": "code",
   "execution_count": 112,
   "metadata": {
    "collapsed": false
   },
   "outputs": [
    {
     "data": {
      "text/plain": [
       "array([ 2124.57118644,  2610.50169492])"
      ]
     },
     "execution_count": 112,
     "metadata": {},
     "output_type": "execute_result"
    }
   ],
   "source": [
    "np.percentile(sqft_means, [5, 95]) #90% confidence interval"
   ]
  },
  {
   "cell_type": "code",
   "execution_count": 113,
   "metadata": {
    "collapsed": true
   },
   "outputs": [],
   "source": [
    "assert len(cur_tars) == len(cur_sqft)"
   ]
  },
  {
   "cell_type": "code",
   "execution_count": 114,
   "metadata": {
    "collapsed": false
   },
   "outputs": [
    {
     "data": {
      "text/plain": [
       "10000"
      ]
     },
     "execution_count": 114,
     "metadata": {},
     "output_type": "execute_result"
    }
   ],
   "source": [
    "price_means = draw_bootstrap_replicates(np.mean, 10000, random_state, cur_tars)\n",
    "len(price_means)"
   ]
  },
  {
   "cell_type": "code",
   "execution_count": 115,
   "metadata": {
    "collapsed": false
   },
   "outputs": [
    {
     "data": {
      "image/png": "[encoded data removed]",
      "text/plain": [
       "<matplotlib.figure.Figure at 0x7f98df70b750>"
      ]
     },
     "metadata": {},
     "output_type": "display_data"
    }
   ],
   "source": [
    "sns.distplot(price_means)\n",
    "plt.show()"
   ]
  },
  {
   "cell_type": "code",
   "execution_count": 116,
   "metadata": {
    "collapsed": false
   },
   "outputs": [
    {
     "data": {
      "text/plain": [
       "array([ 395580.20762712,  543489.11694915])"
      ]
     },
     "execution_count": 116,
     "metadata": {},
     "output_type": "execute_result"
    }
   ],
   "source": [
    "np.percentile(price_means, [5, 95]) #90%"
   ]
  },
  {
   "cell_type": "code",
   "execution_count": 117,
   "metadata": {
    "collapsed": false
   },
   "outputs": [
    {
     "data": {
      "text/plain": [
       "(1000, 1000)"
      ]
     },
     "execution_count": 117,
     "metadata": {},
     "output_type": "execute_result"
    }
   ],
   "source": [
    "slope_replicates, intercept_replicates = draw_bs_pairs_linreg(\n",
    "    cur_sqft, cur_tars, size=1000, random_state=random_state)\n",
    "len(slope_replicates), len(intercept_replicates)"
   ]
  },
  {
   "cell_type": "code",
   "execution_count": 118,
   "metadata": {
    "collapsed": false
   },
   "outputs": [
    {
     "data": {
      "image/png": "[encoded data removed]",
      "text/plain": [
       "<matplotlib.figure.Figure at 0x7f98f0410e50>"
      ]
     },
     "metadata": {},
     "output_type": "display_data"
    }
   ],
   "source": [
    "sns.distplot(slope_replicates)\n",
    "plt.show()"
   ]
  },
  {
   "cell_type": "code",
   "execution_count": 119,
   "metadata": {
    "collapsed": true
   },
   "outputs": [],
   "source": [
    "from bootstrap_pairs_linear_regression import plot_bs_pairs_linreg"
   ]
  },
  {
   "cell_type": "code",
   "execution_count": 120,
   "metadata": {
    "collapsed": false
   },
   "outputs": [
    {
     "data": {
      "image/png": "[encoded data removed]",
      "text/plain": [
       "<matplotlib.figure.Figure at 0x7f98f165c0d0>"
      ]
     },
     "metadata": {},
     "output_type": "display_data"
    }
   ],
   "source": [
    "plot_bs_pairs_linreg(x_data=cur_sqft, y_data=cur_tars, slopes = slope_replicates, intercepts=intercept_replicates,\n",
    "                     xlabel = 'sqft', ylabel='listing price')\n",
    "plt.show()"
   ]
  },
  {
   "cell_type": "code",
   "execution_count": 121,
   "metadata": {
    "collapsed": false
   },
   "outputs": [
    {
     "data": {
      "text/plain": [
       "[55105, 55116, 55408, 55409, 55410, 55419, 55102]"
      ]
     },
     "execution_count": 121,
     "metadata": {},
     "output_type": "execute_result"
    }
   ],
   "source": [
    "zips"
   ]
  },
  {
   "cell_type": "code",
   "execution_count": 123,
   "metadata": {
    "collapsed": true
   },
   "outputs": [],
   "source": [
    "def simple_linreg(target_zip, target_sqft):\n",
    "    ins = XX[df['ZIP']== target_zip]['SQFT']\n",
    "    tars = yy[df['ZIP'] == target_zip]\n",
    "    slope, intercept = np.polyfit(ins,tars,deg=1)\n",
    "    return slope*target_sqft + intercept"
   ]
  },
  {
   "cell_type": "code",
   "execution_count": 124,
   "metadata": {
    "collapsed": false
   },
   "outputs": [
    {
     "data": {
      "text/plain": [
       "2111.0"
      ]
     },
     "execution_count": 124,
     "metadata": {},
     "output_type": "execute_result"
    }
   ],
   "source": [
    "target_sqft"
   ]
  },
  {
   "cell_type": "code",
   "execution_count": 126,
   "metadata": {
    "collapsed": false
   },
   "outputs": [
    {
     "data": {
      "text/plain": [
       "{55102: 337967.83486642188,\n",
       " 55105: 411834.25393735548,\n",
       " 55116: 379246.49717784207,\n",
       " 55408: 522604.30523372203,\n",
       " 55409: 456406.97049109405,\n",
       " 55410: 417230.16452804499,\n",
       " 55419: 397987.36864462413}"
      ]
     },
     "execution_count": 126,
     "metadata": {},
     "output_type": "execute_result"
    }
   ],
   "source": [
    "simple_res = {}\n",
    "for zipcode in zips:\n",
    "    simple_res[zipcode] = simple_linreg(target_zip = zipcode, target_sqft=target_sqft)\n",
    "    \n",
    "simple_res"
   ]
  },
  {
   "cell_type": "code",
   "execution_count": 127,
   "metadata": {
    "collapsed": false
   },
   "outputs": [
    {
     "data": {
      "text/html": [
       "<div>\n",
       "<table border=\"1\" class=\"dataframe\">\n",
       "  <thead>\n",
       "    <tr style=\"text-align: right;\">\n",
       "      <th></th>\n",
       "      <th>simple</th>\n",
       "    </tr>\n",
       "  </thead>\n",
       "  <tbody>\n",
       "    <tr>\n",
       "      <th>55105</th>\n",
       "      <td>411834.253937</td>\n",
       "    </tr>\n",
       "    <tr>\n",
       "      <th>55116</th>\n",
       "      <td>379246.497178</td>\n",
       "    </tr>\n",
       "    <tr>\n",
       "      <th>55408</th>\n",
       "      <td>522604.305234</td>\n",
       "    </tr>\n",
       "    <tr>\n",
       "      <th>55409</th>\n",
       "      <td>456406.970491</td>\n",
       "    </tr>\n",
       "    <tr>\n",
       "      <th>55410</th>\n",
       "      <td>417230.164528</td>\n",
       "    </tr>\n",
       "    <tr>\n",
       "      <th>55419</th>\n",
       "      <td>397987.368645</td>\n",
       "    </tr>\n",
       "    <tr>\n",
       "      <th>55102</th>\n",
       "      <td>337967.834866</td>\n",
       "    </tr>\n",
       "  </tbody>\n",
       "</table>\n",
       "</div>"
      ],
      "text/plain": [
       "              simple\n",
       "55105  411834.253937\n",
       "55116  379246.497178\n",
       "55408  522604.305234\n",
       "55409  456406.970491\n",
       "55410  417230.164528\n",
       "55419  397987.368645\n",
       "55102  337967.834866"
      ]
     },
     "execution_count": 127,
     "metadata": {},
     "output_type": "execute_result"
    }
   ],
   "source": [
    "simple_df = pd.DataFrame({\n",
    "        'simple': simple_res.values(),\n",
    "    }, index = simple_res.keys())\n",
    "simple_df"
   ]
  },
  {
   "cell_type": "markdown",
   "metadata": {},
   "source": [
    "# Comparison"
   ]
  },
  {
   "cell_type": "code",
   "execution_count": 128,
   "metadata": {
    "collapsed": false
   },
   "outputs": [
    {
     "data": {
      "text/html": [
       "<div>\n",
       "<table border=\"1\" class=\"dataframe\">\n",
       "  <thead>\n",
       "    <tr style=\"text-align: right;\">\n",
       "      <th></th>\n",
       "      <th>knn</th>\n",
       "      <th>multi</th>\n",
       "      <th>simple</th>\n",
       "    </tr>\n",
       "  </thead>\n",
       "  <tbody>\n",
       "    <tr>\n",
       "      <th>55105</th>\n",
       "      <td>398233.333333</td>\n",
       "      <td>379688.479039</td>\n",
       "      <td>411834.253937</td>\n",
       "    </tr>\n",
       "    <tr>\n",
       "      <th>55116</th>\n",
       "      <td>446600.000000</td>\n",
       "      <td>391439.974341</td>\n",
       "      <td>379246.497178</td>\n",
       "    </tr>\n",
       "    <tr>\n",
       "      <th>55408</th>\n",
       "      <td>279933.333333</td>\n",
       "      <td>530891.453181</td>\n",
       "      <td>522604.305234</td>\n",
       "    </tr>\n",
       "    <tr>\n",
       "      <th>55409</th>\n",
       "      <td>363233.333333</td>\n",
       "      <td>453609.289390</td>\n",
       "      <td>456406.970491</td>\n",
       "    </tr>\n",
       "    <tr>\n",
       "      <th>55410</th>\n",
       "      <td>281566.666667</td>\n",
       "      <td>565426.212092</td>\n",
       "      <td>417230.164528</td>\n",
       "    </tr>\n",
       "    <tr>\n",
       "      <th>55419</th>\n",
       "      <td>498266.666667</td>\n",
       "      <td>361722.305977</td>\n",
       "      <td>397987.368645</td>\n",
       "    </tr>\n",
       "    <tr>\n",
       "      <th>55102</th>\n",
       "      <td>358300.000000</td>\n",
       "      <td>375390.502640</td>\n",
       "      <td>337967.834866</td>\n",
       "    </tr>\n",
       "  </tbody>\n",
       "</table>\n",
       "</div>"
      ],
      "text/plain": [
       "                 knn          multi         simple\n",
       "55105  398233.333333  379688.479039  411834.253937\n",
       "55116  446600.000000  391439.974341  379246.497178\n",
       "55408  279933.333333  530891.453181  522604.305234\n",
       "55409  363233.333333  453609.289390  456406.970491\n",
       "55410  281566.666667  565426.212092  417230.164528\n",
       "55419  498266.666667  361722.305977  397987.368645\n",
       "55102  358300.000000  375390.502640  337967.834866"
      ]
     },
     "execution_count": 128,
     "metadata": {},
     "output_type": "execute_result"
    }
   ],
   "source": [
    "pd.concat((knn_df, multi_df, simple_df), axis=1)"
   ]
  },
  {
   "cell_type": "code",
   "execution_count": 134,
   "metadata": {
    "collapsed": true
   },
   "outputs": [],
   "source": [
    "knn_flat = knn_df.rename(columns={'knn': 'price'}).reset_index()\n",
    "knn_flat['type'] = 'knn'\n",
    "\n",
    "multi_flat = multi_df.rename(columns={'multi': 'price'}).reset_index()\n",
    "multi_flat['type'] = 'multi'\n",
    "\n",
    "simple_flat = simple_df.rename(columns={'simple': 'price'}).reset_index()\n",
    "simple_flat['type'] = 'simple'"
   ]
  },
  {
   "cell_type": "code",
   "execution_count": 135,
   "metadata": {
    "collapsed": false
   },
   "outputs": [
    {
     "data": {
      "text/html": [
       "<div>\n",
       "<table border=\"1\" class=\"dataframe\">\n",
       "  <thead>\n",
       "    <tr style=\"text-align: right;\">\n",
       "      <th></th>\n",
       "      <th>index</th>\n",
       "      <th>price</th>\n",
       "      <th>type</th>\n",
       "    </tr>\n",
       "  </thead>\n",
       "  <tbody>\n",
       "    <tr>\n",
       "      <th>0</th>\n",
       "      <td>55105</td>\n",
       "      <td>398233.333333</td>\n",
       "      <td>knn</td>\n",
       "    </tr>\n",
       "    <tr>\n",
       "      <th>1</th>\n",
       "      <td>55116</td>\n",
       "      <td>446600.000000</td>\n",
       "      <td>knn</td>\n",
       "    </tr>\n",
       "    <tr>\n",
       "      <th>2</th>\n",
       "      <td>55408</td>\n",
       "      <td>279933.333333</td>\n",
       "      <td>knn</td>\n",
       "    </tr>\n",
       "    <tr>\n",
       "      <th>3</th>\n",
       "      <td>55409</td>\n",
       "      <td>363233.333333</td>\n",
       "      <td>knn</td>\n",
       "    </tr>\n",
       "    <tr>\n",
       "      <th>4</th>\n",
       "      <td>55410</td>\n",
       "      <td>281566.666667</td>\n",
       "      <td>knn</td>\n",
       "    </tr>\n",
       "    <tr>\n",
       "      <th>5</th>\n",
       "      <td>55419</td>\n",
       "      <td>498266.666667</td>\n",
       "      <td>knn</td>\n",
       "    </tr>\n",
       "    <tr>\n",
       "      <th>6</th>\n",
       "      <td>55102</td>\n",
       "      <td>358300.000000</td>\n",
       "      <td>knn</td>\n",
       "    </tr>\n",
       "    <tr>\n",
       "      <th>0</th>\n",
       "      <td>55105</td>\n",
       "      <td>379688.479039</td>\n",
       "      <td>multi</td>\n",
       "    </tr>\n",
       "    <tr>\n",
       "      <th>1</th>\n",
       "      <td>55116</td>\n",
       "      <td>391439.974341</td>\n",
       "      <td>multi</td>\n",
       "    </tr>\n",
       "    <tr>\n",
       "      <th>2</th>\n",
       "      <td>55408</td>\n",
       "      <td>530891.453181</td>\n",
       "      <td>multi</td>\n",
       "    </tr>\n",
       "    <tr>\n",
       "      <th>3</th>\n",
       "      <td>55409</td>\n",
       "      <td>453609.289390</td>\n",
       "      <td>multi</td>\n",
       "    </tr>\n",
       "    <tr>\n",
       "      <th>4</th>\n",
       "      <td>55410</td>\n",
       "      <td>565426.212092</td>\n",
       "      <td>multi</td>\n",
       "    </tr>\n",
       "    <tr>\n",
       "      <th>5</th>\n",
       "      <td>55419</td>\n",
       "      <td>361722.305977</td>\n",
       "      <td>multi</td>\n",
       "    </tr>\n",
       "    <tr>\n",
       "      <th>6</th>\n",
       "      <td>55102</td>\n",
       "      <td>375390.502640</td>\n",
       "      <td>multi</td>\n",
       "    </tr>\n",
       "    <tr>\n",
       "      <th>0</th>\n",
       "      <td>55105</td>\n",
       "      <td>411834.253937</td>\n",
       "      <td>simple</td>\n",
       "    </tr>\n",
       "    <tr>\n",
       "      <th>1</th>\n",
       "      <td>55116</td>\n",
       "      <td>379246.497178</td>\n",
       "      <td>simple</td>\n",
       "    </tr>\n",
       "    <tr>\n",
       "      <th>2</th>\n",
       "      <td>55408</td>\n",
       "      <td>522604.305234</td>\n",
       "      <td>simple</td>\n",
       "    </tr>\n",
       "    <tr>\n",
       "      <th>3</th>\n",
       "      <td>55409</td>\n",
       "      <td>456406.970491</td>\n",
       "      <td>simple</td>\n",
       "    </tr>\n",
       "    <tr>\n",
       "      <th>4</th>\n",
       "      <td>55410</td>\n",
       "      <td>417230.164528</td>\n",
       "      <td>simple</td>\n",
       "    </tr>\n",
       "    <tr>\n",
       "      <th>5</th>\n",
       "      <td>55419</td>\n",
       "      <td>397987.368645</td>\n",
       "      <td>simple</td>\n",
       "    </tr>\n",
       "    <tr>\n",
       "      <th>6</th>\n",
       "      <td>55102</td>\n",
       "      <td>337967.834866</td>\n",
       "      <td>simple</td>\n",
       "    </tr>\n",
       "  </tbody>\n",
       "</table>\n",
       "</div>"
      ],
      "text/plain": [
       "   index          price    type\n",
       "0  55105  398233.333333     knn\n",
       "1  55116  446600.000000     knn\n",
       "2  55408  279933.333333     knn\n",
       "3  55409  363233.333333     knn\n",
       "4  55410  281566.666667     knn\n",
       "5  55419  498266.666667     knn\n",
       "6  55102  358300.000000     knn\n",
       "0  55105  379688.479039   multi\n",
       "1  55116  391439.974341   multi\n",
       "2  55408  530891.453181   multi\n",
       "3  55409  453609.289390   multi\n",
       "4  55410  565426.212092   multi\n",
       "5  55419  361722.305977   multi\n",
       "6  55102  375390.502640   multi\n",
       "0  55105  411834.253937  simple\n",
       "1  55116  379246.497178  simple\n",
       "2  55408  522604.305234  simple\n",
       "3  55409  456406.970491  simple\n",
       "4  55410  417230.164528  simple\n",
       "5  55419  397987.368645  simple\n",
       "6  55102  337967.834866  simple"
      ]
     },
     "execution_count": 135,
     "metadata": {},
     "output_type": "execute_result"
    }
   ],
   "source": [
    "merged_df = pd.concat((knn_flat,\n",
    "           multi_flat,\n",
    "           simple_flat), axis=0)\n",
    "\n",
    "merged_df"
   ]
  },
  {
   "cell_type": "code",
   "execution_count": 139,
   "metadata": {
    "collapsed": false
   },
   "outputs": [
    {
     "data": {
      "image/png": "[encoded data removed]",
      "text/plain": [
       "<matplotlib.figure.Figure at 0x7f98de57a310>"
      ]
     },
     "metadata": {},
     "output_type": "display_data"
    }
   ],
   "source": [
    "sns.barplot(data=merged_df, y='price', x='index', hue='type')\n",
    "plt.xlabel('ZIP code')\n",
    "plt.show()"
   ]
  },
  {
   "cell_type": "code",
   "execution_count": null,
   "metadata": {
    "collapsed": true
   },
   "outputs": [],
   "source": []
  }
 ],
 "metadata": {
  "kernelspec": {
   "display_name": "Python [iaml]",
   "language": "python",
   "name": "Python [iaml]"
  },
  "language_info": {
   "codemirror_mode": {
    "name": "ipython",
    "version": 2
   },
   "file_extension": ".py",
   "mimetype": "text/x-python",
   "name": "python",
   "nbconvert_exporter": "python",
   "pygments_lexer": "ipython2",
   "version": "2.7.12"
  }
 },
 "nbformat": 4,
 "nbformat_minor": 2
}
