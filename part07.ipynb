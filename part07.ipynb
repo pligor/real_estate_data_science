{
 "cells": [
  {
   "cell_type": "markdown",
   "metadata": {},
   "source": [
    "# Part 7\n",
    "# Author: Georgios Pligoropoulos < george@pligor.com >"
   ]
  },
  {
   "cell_type": "code",
   "execution_count": 1,
   "metadata": {
    "collapsed": true
   },
   "outputs": [],
   "source": [
    "# -*- coding: UTF-8 -*-\n",
    "#%load_ext autoreload\n",
    "%reload_ext autoreload\n",
    "%autoreload 2"
   ]
  },
  {
   "cell_type": "code",
   "execution_count": 2,
   "metadata": {
    "collapsed": false
   },
   "outputs": [
    {
     "name": "stderr",
     "output_type": "stream",
     "text": [
      "/home/student/anaconda2/envs/iaml/lib/python2.7/site-packages/sklearn/cross_validation.py:44: DeprecationWarning: This module was deprecated in version 0.18 in favor of the model_selection module into which all the refactored classes and functions are moved. Also note that the interface of the new CV iterators are different from that of this module. This module will be removed in 0.20.\n",
      "  \"This module will be removed in 0.20.\", DeprecationWarning)\n"
     ]
    }
   ],
   "source": [
    "from __future__ import division\n",
    "from os import path, remove\n",
    "import numpy as np\n",
    "import pandas as pd\n",
    "from csv import QUOTE_ALL\n",
    "from sklearn.model_selection import StratifiedShuffleSplit\n",
    "from time import time\n",
    "from matplotlib import pyplot as plt\n",
    "import seaborn as sns\n",
    "import shutil\n",
    "from sklearn.metrics import r2_score\n",
    "from collections import OrderedDict\n",
    "from scipy.spatial.distance import euclidean\n",
    "from statsmodels.tsa.stattools import coint\n",
    "from skopt.space.space import Integer, Real\n",
    "from skopt import gp_minimize\n",
    "from skopt.plots import plot_convergence\n",
    "import pickle\n",
    "import inspect\n",
    "import dill\n",
    "import sys\n",
    "from sklearn.neighbors import NearestNeighbors\n",
    "from datetime import datetime\n",
    "import operator\n",
    "from os.path import isfile, isdir, join\n",
    "from os import getcwd\n",
    "from sklearn.cross_validation import train_test_split\n",
    "from sklearn.linear_model import LinearRegression, Ridge\n",
    "from sklearn.model_selection import cross_val_score\n",
    "from fancyimpute import KNN, NuclearNormMinimization, SoftImpute, IterativeSVD, MICE, \\\n",
    "    MatrixFactorization, BiScaler\n",
    "from math import floor\n",
    "from scipy import stats"
   ]
  },
  {
   "cell_type": "code",
   "execution_count": 3,
   "metadata": {
    "collapsed": true
   },
   "outputs": [],
   "source": [
    "seed = 16011984\n",
    "random_state = np.random.RandomState(seed=seed)\n",
    "n_jobs = 1\n",
    "%matplotlib inline"
   ]
  },
  {
   "cell_type": "code",
   "execution_count": 4,
   "metadata": {
    "collapsed": true
   },
   "outputs": [],
   "source": [
    "from advanced_one_hot_encoder import AdvancedOneHotEncoder"
   ]
  },
  {
   "cell_type": "markdown",
   "metadata": {},
   "source": [
    "**Short sale** explained: http://www.investopedia.com/terms/r/real-estate-short-sale.asp"
   ]
  },
  {
   "cell_type": "markdown",
   "metadata": {},
   "source": [
    "## Load Data"
   ]
  },
  {
   "cell_type": "code",
   "execution_count": 5,
   "metadata": {
    "collapsed": false
   },
   "outputs": [
    {
     "data": {
      "text/plain": [
       "(1111, 20)"
      ]
     },
     "execution_count": 5,
     "metadata": {},
     "output_type": "execute_result"
    }
   ],
   "source": [
    "twin_cities_path = join(getcwd(), 'twin_cities.csv')\n",
    "df = pd.read_csv(twin_cities_path, delimiter = ',', encoding='utf-8', quoting=QUOTE_ALL, index_col=0)\n",
    "df.shape"
   ]
  },
  {
   "cell_type": "markdown",
   "metadata": {},
   "source": [
    "## Drop redundant columns\n",
    "State column does not hold any information since it is the same for all instances\n",
    "Also we are dropping last sale date as we are advised to not use it but also because it contains lots of nulls"
   ]
  },
  {
   "cell_type": "code",
   "execution_count": 6,
   "metadata": {
    "collapsed": false
   },
   "outputs": [
    {
     "data": {
      "text/plain": [
       "(1111, 18)"
      ]
     },
     "execution_count": 6,
     "metadata": {},
     "output_type": "execute_result"
    }
   ],
   "source": [
    "if 'STATE' in df.columns:\n",
    "    df = df.drop(labels=['STATE'], axis=1)\n",
    "if 'LastSaleDate' in df.columns:\n",
    "    df = df.drop(labels=['LastSaleDate'], axis=1)\n",
    "df.shape"
   ]
  },
  {
   "cell_type": "markdown",
   "metadata": {},
   "source": [
    "### Keep columns for Price Regression"
   ]
  },
  {
   "cell_type": "code",
   "execution_count": 7,
   "metadata": {
    "collapsed": false
   },
   "outputs": [
    {
     "data": {
      "text/plain": [
       "(1111, 12)"
      ]
     },
     "execution_count": 7,
     "metadata": {},
     "output_type": "execute_result"
    }
   ],
   "source": [
    "#Regression Columns\n",
    "#CITY, ZIP, BEDS, BATHS, SQFT, LotSize, YearBuilt, ParkingSpots, HasGarage, LATITUDE, LONGITUDE, ShortSale\n",
    "XX = df[\n",
    "    ['CITY', 'ZIP', 'BEDS', 'BATHS', 'SQFT', 'LotSize', 'YearBuilt', 'ParkingSpots', 'HasGarage', 'LATITUDE',\n",
    "     'LONGITUDE', 'ShortSale']\n",
    "]\n",
    "XX.shape"
   ]
  },
  {
   "cell_type": "code",
   "execution_count": 8,
   "metadata": {
    "collapsed": false
   },
   "outputs": [
    {
     "data": {
      "text/plain": [
       "(1111,)"
      ]
     },
     "execution_count": 8,
     "metadata": {},
     "output_type": "execute_result"
    }
   ],
   "source": [
    "#target: ListPrice\n",
    "yy = df['ListPrice']\n",
    "yy.shape"
   ]
  },
  {
   "cell_type": "markdown",
   "metadata": {},
   "source": [
    "### Numerify data"
   ]
  },
  {
   "cell_type": "code",
   "execution_count": 9,
   "metadata": {
    "collapsed": false
   },
   "outputs": [
    {
     "name": "stderr",
     "output_type": "stream",
     "text": [
      "/home/student/anaconda2/envs/iaml/lib/python2.7/site-packages/ipykernel/__main__.py:3: SettingWithCopyWarning: \n",
      "A value is trying to be set on a copy of a slice from a DataFrame.\n",
      "Try using .loc[row_indexer,col_indexer] = value instead\n",
      "\n",
      "See the caveats in the documentation: http://pandas.pydata.org/pandas-docs/stable/indexing.html#indexing-view-versus-copy\n",
      "  app.launch_new_instance()\n"
     ]
    },
    {
     "data": {
      "text/plain": [
       "dtype('float64')"
      ]
     },
     "execution_count": 9,
     "metadata": {},
     "output_type": "execute_result"
    }
   ],
   "source": [
    "if XX['BATHS'].dtype == 'object':\n",
    "    XX['BATHS'] = [float(coord.replace(',', '.')) if isinstance(coord, basestring) else float(coord)\n",
    "            for coord in XX['BATHS']]\n",
    "XX['BATHS'].dtype"
   ]
  },
  {
   "cell_type": "markdown",
   "metadata": {},
   "source": [
    "#### CITY"
   ]
  },
  {
   "cell_type": "code",
   "execution_count": 10,
   "metadata": {
    "collapsed": false
   },
   "outputs": [
    {
     "name": "stdout",
     "output_type": "stream",
     "text": [
      "6\n"
     ]
    },
    {
     "data": {
      "text/plain": [
       "array([u'St. Paul', u'Shoreview', u'Minneapolis', u'Woodbury',\n",
       "       u'West St. Paul', u'Maplewood'], dtype=object)"
      ]
     },
     "execution_count": 10,
     "metadata": {},
     "output_type": "execute_result"
    }
   ],
   "source": [
    "print len(XX['CITY'].unique())\n",
    "XX['CITY'].unique()"
   ]
  },
  {
   "cell_type": "code",
   "execution_count": 11,
   "metadata": {
    "collapsed": false
   },
   "outputs": [
    {
     "data": {
      "text/plain": [
       "(1111, 16)"
      ]
     },
     "execution_count": 11,
     "metadata": {},
     "output_type": "execute_result"
    }
   ],
   "source": [
    "if 'CITY' in XX.columns:\n",
    "    XX = AdvancedOneHotEncoder().encodePandasColAndMerge(data_frame=XX, col_name='CITY')\n",
    "XX.shape"
   ]
  },
  {
   "cell_type": "markdown",
   "metadata": {},
   "source": [
    "#### ZIP"
   ]
  },
  {
   "cell_type": "code",
   "execution_count": 12,
   "metadata": {
    "collapsed": false
   },
   "outputs": [
    {
     "name": "stdout",
     "output_type": "stream",
     "text": [
      "86\n",
      "33\n"
     ]
    }
   ],
   "source": [
    "#comparing locations and zips lengths\n",
    "print len(df['LOCATION'].unique())\n",
    "print len(df['ZIP'].unique())"
   ]
  },
  {
   "cell_type": "code",
   "execution_count": 13,
   "metadata": {
    "collapsed": false
   },
   "outputs": [
    {
     "data": {
      "text/plain": [
       "(1111, 47)"
      ]
     },
     "execution_count": 13,
     "metadata": {},
     "output_type": "execute_result"
    }
   ],
   "source": [
    "if 'ZIP' in XX.columns:\n",
    "    XX = AdvancedOneHotEncoder().encodePandasColAndMerge(data_frame=XX, col_name='ZIP')\n",
    "XX.shape"
   ]
  },
  {
   "cell_type": "markdown",
   "metadata": {},
   "source": [
    "#### Year Built to Age"
   ]
  },
  {
   "cell_type": "code",
   "execution_count": 14,
   "metadata": {
    "collapsed": false
   },
   "outputs": [
    {
     "data": {
      "text/plain": [
       "(1111, 47)"
      ]
     },
     "execution_count": 14,
     "metadata": {},
     "output_type": "execute_result"
    }
   ],
   "source": [
    "if 'YearBuilt' in XX.columns:\n",
    "    XX['age'] = 2014 - XX['YearBuilt']\n",
    "    XX.drop(labels='YearBuilt', axis=1, inplace=True)\n",
    "assert 'age' in XX.columns\n",
    "XX.shape"
   ]
  },
  {
   "cell_type": "markdown",
   "metadata": {},
   "source": [
    "#### Has Garage to binary"
   ]
  },
  {
   "cell_type": "code",
   "execution_count": 15,
   "metadata": {
    "collapsed": false
   },
   "outputs": [
    {
     "data": {
      "text/plain": [
       "array([u'Garage', u'No Garage'], dtype=object)"
      ]
     },
     "execution_count": 15,
     "metadata": {},
     "output_type": "execute_result"
    }
   ],
   "source": [
    "XX['HasGarage'].unique()"
   ]
  },
  {
   "cell_type": "code",
   "execution_count": 16,
   "metadata": {
    "collapsed": false
   },
   "outputs": [
    {
     "data": {
      "text/plain": [
       "array([True, False], dtype=object)"
      ]
     },
     "execution_count": 16,
     "metadata": {},
     "output_type": "execute_result"
    }
   ],
   "source": [
    "if 'Garage' in XX['HasGarage'].unique():\n",
    "    XX['HasGarage'] = XX['HasGarage'] == 'Garage'\n",
    "XX['HasGarage'].unique()"
   ]
  },
  {
   "cell_type": "markdown",
   "metadata": {},
   "source": [
    "#### Short Sale to binary"
   ]
  },
  {
   "cell_type": "code",
   "execution_count": 17,
   "metadata": {
    "collapsed": false
   },
   "outputs": [
    {
     "data": {
      "text/plain": [
       "array([u'N', u'Y'], dtype=object)"
      ]
     },
     "execution_count": 17,
     "metadata": {},
     "output_type": "execute_result"
    }
   ],
   "source": [
    "XX['ShortSale'].unique()"
   ]
  },
  {
   "cell_type": "code",
   "execution_count": 18,
   "metadata": {
    "collapsed": false
   },
   "outputs": [
    {
     "data": {
      "text/plain": [
       "array([False, True], dtype=object)"
      ]
     },
     "execution_count": 18,
     "metadata": {},
     "output_type": "execute_result"
    }
   ],
   "source": [
    "if 'Y' in XX['ShortSale'].unique():\n",
    "    XX['ShortSale'] = XX['ShortSale'] == 'Y'\n",
    "XX['ShortSale'].unique()"
   ]
  },
  {
   "cell_type": "markdown",
   "metadata": {},
   "source": [
    "#### Latitude"
   ]
  },
  {
   "cell_type": "code",
   "execution_count": 19,
   "metadata": {
    "collapsed": false
   },
   "outputs": [
    {
     "data": {
      "text/plain": [
       "dtype('float64')"
      ]
     },
     "execution_count": 19,
     "metadata": {},
     "output_type": "execute_result"
    }
   ],
   "source": [
    "if XX['LATITUDE'].dtype == 'object':\n",
    "    XX['LATITUDE'] = [float(coord.replace(',', '.')) if isinstance(coord, basestring) else float(coord)\n",
    "            for coord in XX['LATITUDE']]\n",
    "XX['LATITUDE'].dtype"
   ]
  },
  {
   "cell_type": "markdown",
   "metadata": {},
   "source": [
    "#### Longitude"
   ]
  },
  {
   "cell_type": "code",
   "execution_count": 20,
   "metadata": {
    "collapsed": false
   },
   "outputs": [
    {
     "data": {
      "text/plain": [
       "dtype('float64')"
      ]
     },
     "execution_count": 20,
     "metadata": {},
     "output_type": "execute_result"
    }
   ],
   "source": [
    "if XX['LONGITUDE'].dtype == 'object':\n",
    "    XX['LONGITUDE'] = [float(coord.replace(',', '.')) if isinstance(coord, basestring) else float(coord)\n",
    "            for coord in XX['LONGITUDE']]\n",
    "XX['LONGITUDE'].dtype"
   ]
  },
  {
   "cell_type": "markdown",
   "metadata": {},
   "source": [
    "### Fill the Gaps\n",
    "Rule of thumb of KNN to pick a neighborhood of 1%"
   ]
  },
  {
   "cell_type": "code",
   "execution_count": 21,
   "metadata": {
    "collapsed": false
   },
   "outputs": [
    {
     "data": {
      "text/plain": [
       "11"
      ]
     },
     "execution_count": 21,
     "metadata": {},
     "output_type": "execute_result"
    }
   ],
   "source": [
    "k_factor = int(floor(len(XX) * 0.01))\n",
    "k_factor"
   ]
  },
  {
   "cell_type": "code",
   "execution_count": 22,
   "metadata": {
    "collapsed": false
   },
   "outputs": [
    {
     "name": "stdout",
     "output_type": "stream",
     "text": [
      "Imputing row 1/1111 with 0 missing, elapsed time: 0.429\n",
      "Imputing row 101/1111 with 1 missing, elapsed time: 0.444\n",
      "Imputing row 201/1111 with 1 missing, elapsed time: 0.445\n",
      "Imputing row 301/1111 with 0 missing, elapsed time: 0.446\n",
      "Imputing row 401/1111 with 0 missing, elapsed time: 0.447\n",
      "Imputing row 501/1111 with 0 missing, elapsed time: 0.447\n",
      "Imputing row 601/1111 with 0 missing, elapsed time: 0.448\n",
      "Imputing row 701/1111 with 0 missing, elapsed time: 0.449\n",
      "Imputing row 801/1111 with 0 missing, elapsed time: 0.449\n",
      "Imputing row 901/1111 with 0 missing, elapsed time: 0.450\n",
      "Imputing row 1001/1111 with 0 missing, elapsed time: 0.450\n",
      "Imputing row 1101/1111 with 0 missing, elapsed time: 0.451\n"
     ]
    }
   ],
   "source": [
    "if sum(XX.isnull().sum()) > 0:\n",
    "    XX[XX.columns] = KNN(k=k_factor).complete(XX.values)"
   ]
  },
  {
   "cell_type": "code",
   "execution_count": 23,
   "metadata": {
    "collapsed": false
   },
   "outputs": [
    {
     "data": {
      "text/plain": [
       "0"
      ]
     },
     "execution_count": 23,
     "metadata": {},
     "output_type": "execute_result"
    }
   ],
   "source": [
    "sum(XX.isnull().sum())"
   ]
  },
  {
   "cell_type": "markdown",
   "metadata": {},
   "source": [
    "# Question 7\n",
    "You’ve just been hired as a data scientist at the premier real estate firm in this area.\n",
    "They want to forecast the actual sales price for any of these listings (and future listings).\n",
    "\n",
    "What variables from this example data do you think would be the most predictive of the\n",
    "actual sales price? What other kinds of data would you want have to provide the most\n",
    "accurate prediction of the actual sales price?\n",
    "\n",
    "Assume you can get any data you want. Describe this data clearly and why you think it\n",
    "would help you build an accurate predictive model."
   ]
  },
  {
   "cell_type": "markdown",
   "metadata": {},
   "source": [
    "### Answer"
   ]
  },
  {
   "cell_type": "code",
   "execution_count": 24,
   "metadata": {
    "collapsed": false
   },
   "outputs": [
    {
     "name": "stdout",
     "output_type": "stream",
     "text": [
      "which columns we have NOT included for training\n"
     ]
    },
    {
     "data": {
      "text/plain": [
       "{u'ADDRESS',\n",
       " u'CITY',\n",
       " u'DOM',\n",
       " u'LOCATION',\n",
       " u'ListPrice',\n",
       " u'Realty',\n",
       " u'SoldPrev',\n",
       " u'YearBuilt',\n",
       " u'ZIP'}"
      ]
     },
     "execution_count": 24,
     "metadata": {},
     "output_type": "execute_result"
    }
   ],
   "source": [
    "print \"which columns we have NOT included for training\"\n",
    "set(df.columns).difference(XX.columns)"
   ]
  },
  {
   "cell_type": "markdown",
   "metadata": {},
   "source": [
    "Let's give an explanation why according to our domain knowledge we have excluded these infomation:\n",
    "\n",
    "- Address is the name of street, and sometimes this could be useful since houses in the same road tend to have similar prices but we have to experiment with various preprocessing steps which we cannot afford to do in the time scope of this exercise\n",
    "\n",
    "- City has been one-hot encoded\n",
    "\n",
    "- Days On the Market is information of how long a house is for sale. This could be an indicator of the price but because houses do not lose value proportionally to the days that they are for sale, we consider it to play a small role.\n",
    "\n",
    "- Location is yet another categorization of the area. We are going to let the zip codes provide organizational information around the price of an area\n",
    "\n",
    "- ListPrice is the targe\n",
    "\n",
    "- Realty is just the name of the real estate company, no useful info in there\n",
    "\n",
    "- Sold Previously is an indication if it is a second hand house or not but again it is not like it is a second hand car. The house still maintains its value.\n",
    "\n",
    "- YearBuilt has been converted to Age\n",
    "\n",
    "- ZIP has been one hot encoded"
   ]
  },
  {
   "cell_type": "markdown",
   "metadata": {},
   "source": [
    "#### train test split"
   ]
  },
  {
   "cell_type": "code",
   "execution_count": 25,
   "metadata": {
    "collapsed": true
   },
   "outputs": [],
   "source": [
    "# uniqueValuesPerCol = OrderedDict()\n",
    "# for col in XX.columns:\n",
    "#     uniqueValuesPerCol[col] = len(XX[col].unique())\n",
    "# pd.DataFrame(index=uniqueValuesPerCol.keys(), data={\"unique values per column\": uniqueValuesPerCol.values()}\n",
    "#             ).sort_values(by=\"unique values per column\", ascending=False)"
   ]
  },
  {
   "cell_type": "code",
   "execution_count": 26,
   "metadata": {
    "collapsed": true
   },
   "outputs": [],
   "source": [
    "X_train, X_test, y_train, y_test = train_test_split(XX, yy, train_size = 0.8, test_size=0.2,\n",
    "                                                    random_state=random_state)"
   ]
  },
  {
   "cell_type": "markdown",
   "metadata": {},
   "source": [
    "### Decision Tree"
   ]
  },
  {
   "cell_type": "code",
   "execution_count": 27,
   "metadata": {
    "collapsed": true
   },
   "outputs": [],
   "source": [
    "from sklearn.tree import DecisionTreeRegressor"
   ]
  },
  {
   "cell_type": "code",
   "execution_count": 28,
   "metadata": {
    "collapsed": true
   },
   "outputs": [],
   "source": [
    "dtr = DecisionTreeRegressor(criterion='mae', #because it is more tolerant against outliers\n",
    "                           #max_depth=max_depth, #this is a hyperparameter\n",
    "                            presort = True, #to speed up the finding of best splits when fitting\n",
    "                           )"
   ]
  },
  {
   "cell_type": "code",
   "execution_count": 29,
   "metadata": {
    "collapsed": false
   },
   "outputs": [
    {
     "data": {
      "text/plain": [
       "DecisionTreeRegressor(criterion='mae', max_depth=None, max_features=None,\n",
       "           max_leaf_nodes=None, min_impurity_split=1e-07,\n",
       "           min_samples_leaf=1, min_samples_split=2,\n",
       "           min_weight_fraction_leaf=0.0, presort=True, random_state=None,\n",
       "           splitter='best')"
      ]
     },
     "execution_count": 29,
     "metadata": {},
     "output_type": "execute_result"
    }
   ],
   "source": [
    "dtr.fit(X_train, y_train)"
   ]
  },
  {
   "cell_type": "code",
   "execution_count": 30,
   "metadata": {
    "collapsed": true
   },
   "outputs": [],
   "source": [
    "def getCV(max_depth, cv=10):\n",
    "    estimator = DecisionTreeRegressor(criterion='mae', #because it is more tolerant against outliers\n",
    "                           max_depth=max_depth, #this is a hyperparameter\n",
    "                            presort = True, #to speed up the finding of best splits when fitting\n",
    "                           )\n",
    "    return np.mean(cross_val_score(estimator=estimator, X=X_train, y=y_train, cv=cv))"
   ]
  },
  {
   "cell_type": "code",
   "execution_count": 31,
   "metadata": {
    "collapsed": false
   },
   "outputs": [
    {
     "name": "stdout",
     "output_type": "stream",
     "text": [
      "CPU times: user 31.7 s, sys: 1.79 s, total: 33.5 s\n",
      "Wall time: 37 s\n"
     ]
    }
   ],
   "source": [
    "%%time\n",
    "scores = OrderedDict()\n",
    "best_param = None\n",
    "best_score = float('-inf')\n",
    "for max_depth in range(1, 35):\n",
    "    cur_score = getCV(max_depth)\n",
    "    scores[max_depth] = cur_score\n",
    "    if  cur_score > best_score:\n",
    "        best_score = cur_score\n",
    "        best_param = max_depth"
   ]
  },
  {
   "cell_type": "code",
   "execution_count": 32,
   "metadata": {
    "collapsed": false
   },
   "outputs": [
    {
     "data": {
      "image/png": "[encoded data removed]",
      "text/plain": [
       "<matplotlib.figure.Figure at 0x7f3c9baef510>"
      ]
     },
     "metadata": {},
     "output_type": "display_data"
    }
   ],
   "source": [
    "sns.set(font_scale=1.5)\n",
    "plt.figure(figsize=(17,8))\n",
    "plt.plot(scores.keys(), scores.values())\n",
    "plt.ylabel('correlation coefficient score')\n",
    "plt.xlabel('maximum depth of decision tree')\n",
    "plt.show()"
   ]
  },
  {
   "cell_type": "markdown",
   "metadata": {},
   "source": [
    "We notice that we have a large variance on the results when choosing the various maximum depths of the decision tree\n",
    "\n",
    "Therefore we are going to pick the simplest model that is within one standard deviation from the best score"
   ]
  },
  {
   "cell_type": "code",
   "execution_count": 33,
   "metadata": {
    "collapsed": false
   },
   "outputs": [
    {
     "data": {
      "text/plain": [
       "0.72244563254522642"
      ]
     },
     "execution_count": 33,
     "metadata": {},
     "output_type": "execute_result"
    }
   ],
   "source": [
    "best_score"
   ]
  },
  {
   "cell_type": "code",
   "execution_count": 34,
   "metadata": {
    "collapsed": false
   },
   "outputs": [
    {
     "data": {
      "text/plain": [
       "0.08027142179665514"
      ]
     },
     "execution_count": 34,
     "metadata": {},
     "output_type": "execute_result"
    }
   ],
   "source": [
    "score_std = np.std(scores.values())\n",
    "score_std"
   ]
  },
  {
   "cell_type": "code",
   "execution_count": 35,
   "metadata": {
    "collapsed": false
   },
   "outputs": [
    {
     "data": {
      "text/plain": [
       "0.64217421074857128"
      ]
     },
     "execution_count": 35,
     "metadata": {},
     "output_type": "execute_result"
    }
   ],
   "source": [
    "threshold_score = best_score - score_std\n",
    "threshold_score"
   ]
  },
  {
   "cell_type": "code",
   "execution_count": 36,
   "metadata": {
    "collapsed": false
   },
   "outputs": [
    {
     "data": {
      "text/plain": [
       "31    0.644663\n",
       "dtype: float64"
      ]
     },
     "execution_count": 36,
     "metadata": {},
     "output_type": "execute_result"
    }
   ],
   "source": [
    "score_series = pd.Series(index=scores.keys(), data=scores.values())\n",
    "score_series.sample()"
   ]
  },
  {
   "cell_type": "code",
   "execution_count": 37,
   "metadata": {
    "collapsed": false
   },
   "outputs": [
    {
     "name": "stdout",
     "output_type": "stream",
     "text": [
      "maximum decision tree depths which are within one std from the best score\n"
     ]
    },
    {
     "data": {
      "text/plain": [
       "[2, 6, 9, 11, 18, 24, 26, 28, 31, 32, 33]"
      ]
     },
     "execution_count": 37,
     "metadata": {},
     "output_type": "execute_result"
    }
   ],
   "source": [
    "print \"maximum decision tree depths which are within one std from the best score\"\n",
    "good_depths = sorted(score_series[score_series >= threshold_score].index)\n",
    "good_depths"
   ]
  },
  {
   "cell_type": "markdown",
   "metadata": {},
   "source": [
    "We'll just pick any of these values and we choose to pick maximum depth of 7"
   ]
  },
  {
   "cell_type": "code",
   "execution_count": 38,
   "metadata": {
    "collapsed": true
   },
   "outputs": [],
   "source": [
    "selected_max_depth = 7"
   ]
  },
  {
   "cell_type": "markdown",
   "metadata": {},
   "source": [
    "### Testing generalization performance\n",
    "Let's test the generalization performance on all of them"
   ]
  },
  {
   "cell_type": "code",
   "execution_count": 39,
   "metadata": {
    "collapsed": false
   },
   "outputs": [
    {
     "name": "stdout",
     "output_type": "stream",
     "text": [
      "CPU times: user 1.24 s, sys: 172 ms, total: 1.42 s\n",
      "Wall time: 1.76 s\n"
     ]
    }
   ],
   "source": [
    "%%time\n",
    "scores = OrderedDict()\n",
    "best_param = None\n",
    "best_score = float('-inf')\n",
    "for max_depth in good_depths:\n",
    "    cur_score = DecisionTreeRegressor(criterion='mae', #because it is more tolerant against outliers\n",
    "                           max_depth=max_depth, #this is a hyperparameter\n",
    "                            presort = True, #to speed up the finding of best splits when fitting\n",
    "                           ).fit(X_train, y_train).score(X_test, y_test)\n",
    "    scores[max_depth] = cur_score\n",
    "    if  cur_score > best_score:\n",
    "        best_score = cur_score\n",
    "        best_param = max_depth"
   ]
  },
  {
   "cell_type": "code",
   "execution_count": 40,
   "metadata": {
    "collapsed": false
   },
   "outputs": [
    {
     "data": {
      "image/png": "[encoded data removed]",
      "text/plain": [
       "<matplotlib.figure.Figure at 0x7f3c9baefe10>"
      ]
     },
     "metadata": {},
     "output_type": "display_data"
    }
   ],
   "source": [
    "plt.figure(figsize=(17,7))\n",
    "plt.plot(scores.keys(), scores.values(), 'ro')\n",
    "plt.xlabel('maximum depth of decision tree that had performance within one standard deviation')\n",
    "plt.ylabel('correlation coefficient score')\n",
    "plt.show()"
   ]
  },
  {
   "cell_type": "code",
   "execution_count": 41,
   "metadata": {
    "collapsed": false
   },
   "outputs": [
    {
     "data": {
      "text/plain": [
       "6"
      ]
     },
     "execution_count": 41,
     "metadata": {},
     "output_type": "execute_result"
    }
   ],
   "source": [
    "best_param"
   ]
  },
  {
   "cell_type": "markdown",
   "metadata": {},
   "source": [
    "Note that we are here it seems to be doing something that it is NOT correct, we are selecting the max depth hyperparameter by checking on the test set!!! Not correct!\n",
    "\n",
    "No, actually we are just confirming that a simpler model has much better chances of generalizing and on the same time we should not make it too simple. The selected max depth above is indeed the best maximum depth for the testing set. Awesome! let's train for this depth the entire dataset"
   ]
  },
  {
   "cell_type": "code",
   "execution_count": 42,
   "metadata": {
    "collapsed": false
   },
   "outputs": [
    {
     "data": {
      "text/plain": [
       "7"
      ]
     },
     "execution_count": 42,
     "metadata": {},
     "output_type": "execute_result"
    }
   ],
   "source": [
    "selected_max_depth"
   ]
  },
  {
   "cell_type": "code",
   "execution_count": 43,
   "metadata": {
    "collapsed": false
   },
   "outputs": [
    {
     "data": {
      "text/plain": [
       "0.72852996251460866"
      ]
     },
     "execution_count": 43,
     "metadata": {},
     "output_type": "execute_result"
    }
   ],
   "source": [
    "estimator = DecisionTreeRegressor(criterion='mae', #because it is more tolerant against outliers\n",
    "                           max_depth=selected_max_depth, #this is a hyperparameter\n",
    "                            presort = True, #to speed up the finding of best splits when fitting\n",
    "                           ).fit(X_train, y_train)\n",
    "estimator.score(X_test, y_test)"
   ]
  },
  {
   "cell_type": "code",
   "execution_count": 44,
   "metadata": {
    "collapsed": false
   },
   "outputs": [
    {
     "name": "stdout",
     "output_type": "stream",
     "text": [
      "total number of features when fit is performed\n"
     ]
    },
    {
     "data": {
      "text/plain": [
       "47"
      ]
     },
     "execution_count": 44,
     "metadata": {},
     "output_type": "execute_result"
    }
   ],
   "source": [
    "dt = DecisionTreeRegressor(criterion='mae', #because it is more tolerant against outliers\n",
    "                           max_depth=selected_max_depth, #this is a hyperparameter\n",
    "                            presort = True, #to speed up the finding of best splits when fitting\n",
    "                           ).fit(XX, yy)\n",
    "print \"total number of features when fit is performed\"\n",
    "dt.n_features_"
   ]
  },
  {
   "cell_type": "markdown",
   "metadata": {},
   "source": [
    "### Visualize the decision tree\n",
    "Decision trees are interpretable by humans"
   ]
  },
  {
   "cell_type": "code",
   "execution_count": 45,
   "metadata": {
    "collapsed": true
   },
   "outputs": [],
   "source": [
    "from sklearn import tree\n",
    "from sklearn.externals.six import StringIO\n",
    "from sklearn.tree import export_graphviz"
   ]
  },
  {
   "cell_type": "code",
   "execution_count": 46,
   "metadata": {
    "collapsed": true
   },
   "outputs": [],
   "source": [
    "with open(\"real_estate_tree.dot\", 'w') as fp:\n",
    "    f = export_graphviz(estimator, out_file=fp,\n",
    "                        feature_names=XX.columns,\n",
    "                        filled=True,\n",
    "                        rounded=True,  \n",
    "                        special_characters=True)"
   ]
  },
  {
   "cell_type": "markdown",
   "metadata": {},
   "source": [
    "You need Xdot in Linux to open the file and observe the tree by double clicking the file: real_estate_tree.dot\n",
    "\n",
    "Alternatively there is this online viewer: http://dreampuf.github.io/GraphvizOnline/"
   ]
  },
  {
   "cell_type": "markdown",
   "metadata": {},
   "source": [
    "### Importance of features"
   ]
  },
  {
   "cell_type": "code",
   "execution_count": 46,
   "metadata": {
    "collapsed": false
   },
   "outputs": [
    {
     "data": {
      "text/plain": [
       "(47,)"
      ]
     },
     "execution_count": 46,
     "metadata": {},
     "output_type": "execute_result"
    }
   ],
   "source": [
    "featureImportances = OrderedDict()\n",
    "\n",
    "arrayFeatureImportances = dt.feature_importances_\n",
    "\n",
    "counter = 0\n",
    "for col in XX.columns:\n",
    "    featureImportances[col] = arrayFeatureImportances[counter]\n",
    "    counter += 1\n",
    "    \n",
    "featureImportances = pd.Series(index=featureImportances.keys(), data=featureImportances.values())\n",
    "featureImportances.shape"
   ]
  },
  {
   "cell_type": "code",
   "execution_count": 47,
   "metadata": {
    "collapsed": false
   },
   "outputs": [
    {
     "name": "stdout",
     "output_type": "stream",
     "text": [
      "these are the 10 most important features:\n"
     ]
    },
    {
     "data": {
      "text/plain": [
       "SQFT            0.562970\n",
       "LONGITUDE       0.135728\n",
       "LATITUDE        0.134907\n",
       "age             0.054118\n",
       "LotSize         0.039302\n",
       "ParkingSpots    0.019699\n",
       "BATHS           0.018733\n",
       "ZIP_28          0.006325\n",
       "ZIP_19          0.005756\n",
       "ZIP_6           0.004601\n",
       "dtype: float64"
      ]
     },
     "execution_count": 47,
     "metadata": {},
     "output_type": "execute_result"
    }
   ],
   "source": [
    "print \"these are the 10 most important features:\"\n",
    "featureImportances.sort_values(ascending=False)[:10]"
   ]
  },
  {
   "cell_type": "markdown",
   "metadata": {},
   "source": [
    "10 most important Features (Gini):\n",
    "SQFT: 0.563189\n",
    "Latitude: 0.133847\n",
    "Longitude: 0.130789\n",
    "Age: 0.058908\n",
    "Lot Size: 0.041424\n",
    "Bedrooms: 0.018911\n",
    "Bathrooms: 0.011640\n",
    "Parking Spots: 0.011396\n",
    "Zip Code is 55410 or not: 0.006582\n",
    "Zip Code is 55405 or not: 0.006325"
   ]
  },
  {
   "cell_type": "markdown",
   "metadata": {},
   "source": [
    "## Second sub question\n",
    "What other kinds of data would you want have to provide the most\n",
    "accurate prediction of the actual sales price?\n",
    "\n",
    "Assume you can get any data you want. Describe this data clearly and why you think it\n",
    "would help you build an accurate predictive model."
   ]
  },
  {
   "cell_type": "markdown",
   "metadata": {},
   "source": [
    "### Answer to second sub question\n",
    "Data which are missing could be:\n",
    "\n",
    "- **floors** of the house, because a flat apartment is perceived of lower value in comparison to the same sqft in multiple floors\n",
    "- **swimming pool**, for obvious reasons\n",
    "- Any metrics of the **condition** of the house in case it has been more or less taken care of (need of painting etc.)\n",
    "- The year that it was **renovated** which should have a high correlation with the condition\n",
    "- Is it built to withstand **earthquakes**? This could be a binary value based on whether it was built\n",
    "- Whether is has a **view** or not. If all you can see is the building across the street then the view is not good\n",
    "- **Energy efficiency** is paramount these days. It could lower or increase the heating bills\n",
    "- Does it include **solar panels** ?\n",
    "\n",
    "All of the above are related with the value of the house\n",
    "\n"
   ]
  },
  {
   "cell_type": "code",
   "execution_count": null,
   "metadata": {
    "collapsed": true
   },
   "outputs": [],
   "source": []
  },
  {
   "cell_type": "markdown",
   "metadata": {},
   "source": [
    "In our dataset we have the Days on the market (DOM) which is not giving much of information by itself\n",
    "\n",
    "We would like to have all the dates of when a house was actually sold and have those for all the houses. This way we could create a histogram of how often a house that is DOM days on the market gets sold. This could give us an average per area and this way we would know that houses that are too long in the market are for some bizarre reason not sell-able at the moment and thus avoid dealing with them or know that a house that is for some days in the market has a high chance of being sold soon and thus we should act quickly.\n",
    "\n",
    "In other words we are including a second task where we need to determine if the recent (could be years) history of house sales determines the probability of a house being sold in one day, one week or one month from now. For machine learning and big data this could simply be a classification task"
   ]
  },
  {
   "cell_type": "code",
   "execution_count": null,
   "metadata": {
    "collapsed": true
   },
   "outputs": [],
   "source": []
  }
 ],
 "metadata": {
  "kernelspec": {
   "display_name": "Python [iaml]",
   "language": "python",
   "name": "Python [iaml]"
  },
  "language_info": {
   "codemirror_mode": {
    "name": "ipython",
    "version": 2
   },
   "file_extension": ".py",
   "mimetype": "text/x-python",
   "name": "python",
   "nbconvert_exporter": "python",
   "pygments_lexer": "ipython2",
   "version": "2.7.12"
  }
 },
 "nbformat": 4,
 "nbformat_minor": 2
}
